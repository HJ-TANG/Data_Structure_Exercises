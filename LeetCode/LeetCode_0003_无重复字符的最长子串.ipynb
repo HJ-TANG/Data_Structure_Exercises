{
 "cells": [
  {
   "cell_type": "markdown",
   "metadata": {
    "collapsed": true,
    "pycharm": {
     "name": "#%% md\n"
    }
   },
   "source": [
    "题目：给定一个字符串，请你找出其中不含有重复字符的 最长子串 的长度。\n",
    "\n",
    "示例：\n",
    "\n",
    "输入: \"abcabcbb\"  输出: 3 \n",
    "\n",
    "解释: 因为无重复字符的最长子串是 \"abc\"，所以其长度为 3。"
   ]
  },
  {
   "cell_type": "code",
   "execution_count": 1,
   "outputs": [
    {
     "name": "stdout",
     "text": [
      "4\n"
     ],
     "output_type": "stream"
    }
   ],
   "source": [
    "class Solution:\n",
    "    def lengthOfLongestSubstring(self, s):\n",
    "        begin = 0\n",
    "        end = 0\n",
    "        length = 0\n",
    "        temp = []\n",
    "        while end < len(s):\n",
    "            if s[end] not in temp:\n",
    "                temp.append(s[end])\n",
    "                length = max(length, len(temp))\n",
    "            else:\n",
    "                while s[begin] != s[end]:\n",
    "                    begin += 1\n",
    "                    temp.pop(0)\n",
    "                begin += 1\n",
    "            end += 1\n",
    "        return length\n",
    "\n",
    "s = Solution()\n",
    "print(s.lengthOfLongestSubstring(\"abcsc!a\"))\n",
    "            \n",
    "\n",
    "\n"
   ],
   "metadata": {
    "collapsed": false,
    "pycharm": {
     "name": "#%%\n",
     "is_executing": false
    }
   }
  }
 ],
 "metadata": {
  "language_info": {
   "codemirror_mode": {
    "name": "ipython",
    "version": 2
   },
   "file_extension": ".py",
   "mimetype": "text/x-python",
   "name": "python",
   "nbconvert_exporter": "python",
   "pygments_lexer": "ipython2",
   "version": "2.7.6"
  },
  "kernelspec": {
   "name": "python3",
   "language": "python",
   "display_name": "Python 3"
  },
  "pycharm": {
   "stem_cell": {
    "cell_type": "raw",
    "source": [],
    "metadata": {
     "collapsed": false
    }
   }
  }
 },
 "nbformat": 4,
 "nbformat_minor": 0
}