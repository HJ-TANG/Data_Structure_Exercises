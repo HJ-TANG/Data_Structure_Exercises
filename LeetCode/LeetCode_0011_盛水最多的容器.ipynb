{
 "cells": [
  {
   "cell_type": "markdown",
   "metadata": {
    "collapsed": true,
    "pycharm": {
     "name": "#%% md\n"
    }
   },
   "source": [
    "链接：https://leetcode-cn.com/problems/container-with-most-water\n",
    "\n",
    "给定 n 个非负整数 a1，a2，...，an，每个数代表坐标中的一个点 (i, ai) 。在坐标内画 n 条垂直线，垂直线 i 的两个端点分别为 (i, ai) 和 (i, 0)。找出其中的两条线，使得它们与 x 轴共同构成的容器可以容纳最多的水。\n",
    "\n",
    "说明：你不能倾斜容器，且 n 的值至少为 2。\n",
    "\n",
    "![shiyitu](https://aliyun-lc-upload.oss-cn-hangzhou.aliyuncs.com/aliyun-lc-upload/uploads/2018/07/25/question_11.jpg)"
   ]
  },
  {
   "cell_type": "markdown",
   "source": [
    "思路：[双指针法](https://leetcode-cn.com/problems/container-with-most-water/solution/sheng-zui-duo-shui-de-rong-qi-by-leetcode/)。\n",
    "\n",
    "这种方法背后的思路在于，两线段之间形成的区域总是会受到其中较短那条长度的限制。此外，两线段距离越远，得到的面积就越大。\n",
    "\n",
    "我们在由线段长度构成的数组中使用两个指针，一个放在开始，一个置于末尾。 此外，我们会使用变量`maxarea`来持续存储到目前为止所获得的最大面积。 \n",
    "在每一步中，我们会找出指针所指向的两条线段形成的区域，更新`maxarea`，并将指向较短线段的指针向较长线段那端移动一步。\n",
    "\n",
    "这种方法如何工作？\n",
    "\n",
    "最初我们考虑由最外围两条线段构成的区域。现在，为了使面积最大化，我们需要考虑更长的两条线段之间的区域。\n",
    "如果我们试图将指向较长线段的指针向内侧移动，矩形区域的面积将受限于较短的线段而不会获得任何增加。\n",
    "但是，在同样的条件下，移动指向较短线段的指针尽管造成了矩形宽度的减小，但却可能会有助于面积的增大。\n",
    "因为移动较短线段的指针会得到一条相对较长的线段，这可以克服由宽度减小而引起的面积减小。"
   ],
   "metadata": {
    "collapsed": false,
    "pycharm": {
     "name": "#%% md\n"
    }
   }
  },
  {
   "cell_type": "code",
   "execution_count": null,
   "outputs": [],
   "source": [
    "class Solution:\n",
    "    def maxArea(self, height):\n",
    "        begin = 0\n",
    "        end = len(height) - 1\n",
    "        max_area = 0\n",
    "        \n",
    "        while end > begin:\n",
    "            max_area = max(max_area, (end-begin) * min(height[begin], height[end]))\n",
    "            if height[begin] < height[end]:\n",
    "                begin += 1\n",
    "            else:\n",
    "                end -= 1\n",
    "        \n",
    "        return max_area"
   ],
   "metadata": {
    "collapsed": false,
    "pycharm": {
     "name": "#%%\n"
    }
   }
  }
 ],
 "metadata": {
  "language_info": {
   "codemirror_mode": {
    "name": "ipython",
    "version": 2
   },
   "file_extension": ".py",
   "mimetype": "text/x-python",
   "name": "python",
   "nbconvert_exporter": "python",
   "pygments_lexer": "ipython2",
   "version": "2.7.6"
  },
  "kernelspec": {
   "name": "python3",
   "language": "python",
   "display_name": "Python 3"
  },
  "pycharm": {
   "stem_cell": {
    "cell_type": "raw",
    "source": [],
    "metadata": {
     "collapsed": false
    }
   }
  }
 },
 "nbformat": 4,
 "nbformat_minor": 0
}