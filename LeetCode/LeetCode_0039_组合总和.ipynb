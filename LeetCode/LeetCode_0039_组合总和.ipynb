{
  "cells": [
    {
      "cell_type": "markdown",
      "metadata": {
        "collapsed": true,
        "pycharm": {
          "name": "#%% md\n"
        }
      },
      "source": "## LeetCode 39：组合总和\n\n给定一个**无重复元素**的数组 `candidates` 和一个目标数 `target` ，找出 `candidates` 中所有可以使数字和为 `target` 的组合。\n\n`candidates` 中的数字可以无限制重复被选取。"
    },
    {
      "cell_type": "markdown",
      "source": "思路一：借用77题组合的思想，稍微修改一下。还是把n个数字分成两部分，第一个数字和其余数字。每次都可以选第一个数字或者不选第一个数字。\n如果选了第一个数字，下次仍然可以继续选。如果没选第一个数字，下次就不能选第一个数字，从剩余的数字里继续选。",
      "metadata": {
        "pycharm": {
          "metadata": false,
          "name": "#%% md\n"
        }
      }
    },
    {
      "cell_type": "code",
      "execution_count": null,
      "outputs": [],
      "source": "class Solution:\n    def combinationSum(self, candidates, target):\n        n \u003d len(candidates)\n        if not candidates:\n            return []\n        result \u003d []\n\n        def combine(temp, i, tempsum):\n            if i \u003e\u003d n or tempsum \u003e target:\n                return\n            if tempsum \u003d\u003d target:\n                result.append(temp[:])\n                return\n            # 组合里包含第一个数字，下一步继续在包含这个数字的集合里面选\n            combine(temp + [candidates[i]], i, tempsum + candidates[i])\n            # 组合里不包含第一个数字，下一步在剩余的数字里继续选取（会有很多多余的操作）\n            combine(temp, i + 1, tempsum)\n\n        combine([], 0, 0)\n        return result",
      "metadata": {
        "pycharm": {
          "metadata": false,
          "name": "#%%\n"
        }
      }
    },
    {
      "cell_type": "markdown",
      "source": "思路二：先将数组排序。每次从第一个元素（最小的元素）开始递归，如果加到某个数字，超过了target值，则后面的数字都没有必要再遍历了，可以break出这一层的遍历。\n返回上层函数，然后继续上一层的遍历，从次小的元素继续。",
      "metadata": {
        "pycharm": {
          "metadata": false,
          "name": "#%% md\n"
        }
      }
    },
    {
      "cell_type": "code",
      "execution_count": null,
      "outputs": [],
      "source": "class Solution2:\n    def combinationSum(self, candidates, target):\n        candidates.sort()\n        n \u003d len(candidates)\n        res \u003d []\n\n        def backtrack(i, tmp_sum, tmp):\n            # if tmp_sum \u003e target or i \u003d\u003d n:\n            #     return\n            # if tmp_sum \u003d\u003d target:\n            #     res.append(tmp)\n            #     return\n            for j in range(i, n):\n                # 如果和超过了target值，停止遍历，返回上层函数\n                if tmp_sum + candidates[j] \u003e target:\n                    break\n                # 如果和等于target值，把结果添加进去，后面也没必要继续遍历了，停止遍历，返回上层函数\n                if tmp_sum + candidates[j] \u003d\u003d target:\n                    res.append(tmp + [candidates[j]])\n                    break\n                backtrack(j, tmp_sum + candidates[j], tmp+[candidates[j]])\n        backtrack(0, 0, [])\n        return res",
      "metadata": {
        "pycharm": {
          "metadata": false,
          "name": "#%%\n"
        }
      }
    }
  ],
  "metadata": {
    "language_info": {
      "codemirror_mode": {
        "name": "ipython",
        "version": 2
      },
      "file_extension": ".py",
      "mimetype": "text/x-python",
      "name": "python",
      "nbconvert_exporter": "python",
      "pygments_lexer": "ipython2",
      "version": "2.7.6"
    },
    "kernelspec": {
      "name": "pycharm-1ce6c0c3",
      "language": "python",
      "display_name": "PyCharm (Offer)"
    }
  },
  "nbformat": 4,
  "nbformat_minor": 0
}