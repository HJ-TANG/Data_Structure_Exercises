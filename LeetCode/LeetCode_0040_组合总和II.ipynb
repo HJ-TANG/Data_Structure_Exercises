{
  "cells": [
    {
      "cell_type": "markdown",
      "metadata": {
        "collapsed": true,
        "pycharm": {
          "name": "#%% md\n"
        }
      },
      "source": "## LeetCode 40：组合总和II\n\n给定一个数组 `candidates` 和一个目标数 `target` ，找出 `candidates` 中所有可以使数字和为 `target` 的组合。\n\n`candidates` 中的每个数字在每个组合中只能使用一次。\n\n说明：\n\n- 所有数字（包括目标数）都是正整数。\n- 解集不能包含重复的组合。 "
    },
    {
      "cell_type": "markdown",
      "source": "思路一：在39题的基础上稍作修改。",
      "metadata": {
        "pycharm": {
          "metadata": false,
          "name": "#%% md\n"
        }
      }
    },
    {
      "cell_type": "code",
      "execution_count": null,
      "outputs": [],
      "source": "class Solution:\n    def combinationSum2(self, candidates: List[int], target: int) -\u003e List[List[int]]:\n        if not candidates:\n            return []\n        n \u003d len(candidates)\n        candidates.sort()\n        res \u003d []\n        \n        def backtrack(i, tmp_sum, tmp):\n            if i \u003e\u003d n:\n                return \n            for j in range(i, n):\n                if tmp_sum + candidates[j] \u003e target:\n                    break\n                if tmp_sum + candidates[j] \u003d\u003d target:\n                    if (tmp + [candidates[j]]) not in res:\n                        res.append(tmp + [candidates[j]])\n                    break\n                backtrack(j+1, tmp_sum + candidates[j], tmp+[candidates[j]])\n        \n        backtrack(0, 0, [])\n        return res\n",
      "metadata": {
        "pycharm": {
          "metadata": false,
          "name": "#%%\n"
        }
      }
    }
  ],
  "metadata": {
    "language_info": {
      "codemirror_mode": {
        "name": "ipython",
        "version": 2
      },
      "file_extension": ".py",
      "mimetype": "text/x-python",
      "name": "python",
      "nbconvert_exporter": "python",
      "pygments_lexer": "ipython2",
      "version": "2.7.6"
    },
    "kernelspec": {
      "name": "pycharm-1ce6c0c3",
      "language": "python",
      "display_name": "PyCharm (Offer)"
    }
  },
  "nbformat": 4,
  "nbformat_minor": 0
}