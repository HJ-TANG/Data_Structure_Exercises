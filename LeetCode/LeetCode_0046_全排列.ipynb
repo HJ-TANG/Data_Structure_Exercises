{
  "cells": [
    {
      "cell_type": "markdown",
      "metadata": {
        "collapsed": true,
        "pycharm": {
          "name": "#%% md\n"
        }
      },
      "source": "## LeetCode 46：全排列\n\n给定一个没有重复数字的序列，返回其所有可能的全排列。"
    },
    {
      "cell_type": "code",
      "execution_count": null,
      "outputs": [],
      "source": "class Solution:\n    def permute(self, nums):\n        if not nums:\n            return []\n        res \u003d []\n\n        def perm(nums, i):\n            if i \u003d\u003d len(nums)-1:\n                res.append(nums.copy())\n                return res\n            for j in range(i, len(nums)):\n                nums[i], nums[j] \u003d nums[j], nums[i]\n                perm(nums, i+1)\n                nums[j], nums[i] \u003d nums[i], nums[j]\n        \n        perm(nums, 0)\n        return res\n",
      "metadata": {
        "pycharm": {
          "metadata": false,
          "name": "#%%\n"
        }
      }
    }
  ],
  "metadata": {
    "language_info": {
      "codemirror_mode": {
        "name": "ipython",
        "version": 2
      },
      "file_extension": ".py",
      "mimetype": "text/x-python",
      "name": "python",
      "nbconvert_exporter": "python",
      "pygments_lexer": "ipython2",
      "version": "2.7.6"
    },
    "kernelspec": {
      "name": "pycharm-1ce6c0c3",
      "language": "python",
      "display_name": "PyCharm (Offer)"
    }
  },
  "nbformat": 4,
  "nbformat_minor": 0
}