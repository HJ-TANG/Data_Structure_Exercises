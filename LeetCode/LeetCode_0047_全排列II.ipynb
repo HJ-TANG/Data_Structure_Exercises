{
  "cells": [
    {
      "cell_type": "markdown",
      "metadata": {
        "collapsed": true,
        "pycharm": {
          "name": "#%% md\n"
        }
      },
      "source": "## LeetCode 47：全排列II\n\n给定一个可包含重复数字的序列，返回所有不重复的全排列。"
    },
    {
      "cell_type": "code",
      "execution_count": null,
      "outputs": [],
      "source": "class Solution:\n    def permuteUnique(self, nums):\n        \"\"\"\n        :type nums: List[int]\n        :rtype: List[List[int]]\n        \"\"\"\n        res \u003d []\n        \n        def backtrack(nums, tmp):\n            if len(nums) \u003d\u003d 1:\n                res.append(nums + tmp)\n                return\n            for i in range(len(nums)):\n                if i \u003e0 and nums[i]\u003d\u003dnums[i-1]:\n                    continue #去掉这个if判断，就是全排列，只需要在原来基础上加上这个就行。\n                backtrack(nums[:i] + nums[i + 1:], [nums[i]] + tmp)\n                \n        nums.sort()\n        backtrack(nums, [])\n        return res",
      "metadata": {
        "pycharm": {
          "metadata": false,
          "name": "#%%\n"
        }
      }
    }
  ],
  "metadata": {
    "language_info": {
      "codemirror_mode": {
        "name": "ipython",
        "version": 2
      },
      "file_extension": ".py",
      "mimetype": "text/x-python",
      "name": "python",
      "nbconvert_exporter": "python",
      "pygments_lexer": "ipython2",
      "version": "2.7.6"
    },
    "kernelspec": {
      "name": "pycharm-1ce6c0c3",
      "language": "python",
      "display_name": "PyCharm (Offer)"
    }
  },
  "nbformat": 4,
  "nbformat_minor": 0
}