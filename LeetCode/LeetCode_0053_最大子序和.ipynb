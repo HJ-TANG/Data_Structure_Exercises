{
 "cells": [
  {
   "cell_type": "markdown",
   "source": [
    "给定一个整数数组 nums ，找到一个具有最大和的连续子数组（子数组最少包含一个元素），返回其最大和。"
   ],
   "metadata": {
    "collapsed": false,
    "pycharm": {
     "name": "#%% md\n"
    }
   }
  },
  {
   "cell_type": "code",
   "execution_count": null,
   "metadata": {
    "collapsed": true
   },
   "outputs": [],
   "source": [
    "class Solution:\n",
    "    def maxSubArray(self, nums):\n",
    "        if not nums:\n",
    "            return 0\n",
    "        end = 0\n",
    "        max_sum = float('-inf')\n",
    "        temp_sum = 0\n",
    "        length = len(nums)\n",
    "        while end < length:\n",
    "            temp_sum += nums[end]\n",
    "            max_sum = max(temp_sum, max_sum)\n",
    "            if temp_sum < 0:\n",
    "                temp_sum = 0\n",
    "            end += 1\n",
    "        return max_sum"
   ]
  },
  {
   "cell_type": "code",
   "execution_count": null,
   "outputs": [],
   "source": [
    "class Solution2:\n",
    "    def maxSubArray(self, nums):\n",
    "        if not nums:\n",
    "            return 0\n",
    "        summ = 0\n",
    "        maxx = -float('inf')\n",
    "        for num in nums:\n",
    "            summ += num\n",
    "            maxx = max(maxx, summ)\n",
    "            summ = max(0, summ)\n",
    "        return maxx"
   ],
   "metadata": {
    "collapsed": false,
    "pycharm": {
     "name": "#%%\n"
    }
   }
  }
 ],
 "metadata": {
  "language_info": {
   "codemirror_mode": {
    "name": "ipython",
    "version": 2
   },
   "file_extension": ".py",
   "mimetype": "text/x-python",
   "name": "python",
   "nbconvert_exporter": "python",
   "pygments_lexer": "ipython2",
   "version": "2.7.6"
  },
  "kernelspec": {
   "name": "python3",
   "language": "python",
   "display_name": "Python 3"
  },
  "pycharm": {
   "stem_cell": {
    "cell_type": "raw",
    "source": [],
    "metadata": {
     "collapsed": false
    }
   }
  }
 },
 "nbformat": 4,
 "nbformat_minor": 0
}