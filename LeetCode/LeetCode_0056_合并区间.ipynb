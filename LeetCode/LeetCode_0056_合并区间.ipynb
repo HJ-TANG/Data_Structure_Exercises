{
 "cells": [
  {
   "cell_type": "markdown",
   "metadata": {
    "collapsed": true,
    "pycharm": {
     "name": "#%% md\n"
    }
   },
   "source": [
    "给出一个区间的集合，请合并所有重叠的区间。\n",
    "\n",
    "示例 1:\n",
    "\n",
    "输入: `[[1,3],[2,6],[8,10],[15,18]]`\n",
    "\n",
    "输出: `[[1,6],[8,10],[15,18]]`\n",
    "\n",
    "解释: 区间 `[1,3]` 和 `[2,6]` 重叠, 将它们合并为 `[1,6]`."
   ]
  },
  {
   "cell_type": "markdown",
   "source": [
    "思路一：来自[力扣用户daxiong的题解](https://leetcode-cn.com/problems/merge-intervals/solution/pythonpai-xu-he-bing-by-88daxiong/)\n",
    "\n",
    "先排序，通过后一个区间的左坐标值与前一个区间的右坐标值进行比较，便可以确定是否有重合。\n",
    "\n",
    "首先排序，整个数组进行排序；设置begin和end为一个区间最大的范围，设置计数i依次遍历数组，分以下几种情况：\n",
    "\n",
    "1、`intervals[i][0] > end`,说明已经找到了最大的范围，这个时候将范围加入到结果集中，然后重置begin和end；\n",
    "\n",
    "2、`intervals[i][0] > end`，`end`为当前值和范围i的end中的较大值，即`end = max(end, intervals[i][1])`。\n",
    "\n",
    "最后需要再添加上最后的一个`[begin, end]`这个范围。"
   ],
   "metadata": {
    "collapsed": false,
    "pycharm": {
     "name": "#%% md\n"
    }
   }
  },
  {
   "cell_type": "code",
   "execution_count": null,
   "outputs": [],
   "source": [
    "class Solution(object):\n",
    "    def merge(self, intervals):\n",
    "        \"\"\"\n",
    "        :type intervals: List[List[int]]\n",
    "        :rtype: List[List[int]]\n",
    "        \"\"\"\n",
    "        if not intervals:\n",
    "            return []\n",
    "        intervals.sort()\n",
    "        begin = intervals[0][0]\n",
    "        end = intervals[0][1]\n",
    "        print(intervals)\n",
    "        res = list()\n",
    "        for i in range(1, len(intervals)):\n",
    "            if intervals[i][0] > end:\n",
    "                res.append([begin, end])\n",
    "                begin = intervals[i][0]\n",
    "                end = intervals[i][1]\n",
    "            else:\n",
    "                if intervals[i][1] > end:\n",
    "                    end = intervals[i][1]\n",
    "        res.append([begin, end])\n",
    "        return res"
   ],
   "metadata": {
    "collapsed": false,
    "pycharm": {
     "name": "#%% \n"
    }
   }
  },
  {
   "cell_type": "markdown",
   "source": [
    "思路二：\n",
    "\n",
    "用一个字典，key为每个点的坐标，对于每个区间，对起点的value减一，对终点的value加一。\n",
    "\n",
    "将所有点（字典的key）按坐标排序，定义一个变量ssum算累加和。\n",
    "从头到尾遍历，累加前的ssum为0的话，表明当前点是一个区间的begin，当累加后和为0的时候，则是一个独立区间的end。"
   ],
   "metadata": {
    "collapsed": false,
    "pycharm": {
     "name": "#%% md\n"
    }
   }
  },
  {
   "cell_type": "code",
   "execution_count": null,
   "outputs": [],
   "source": [
    "class Solution2:\n",
    "    def merge(self, intervals):\n",
    "        from collections import defaultdict\n",
    "        dic = defaultdict(int)\n",
    "        for interval in intervals:\n",
    "            dic[interval[0]] -= 1\n",
    "            dic[interval[1]] += 1\n",
    "        sorted_points = sorted(dic.keys())\n",
    "        \n",
    "        result = []\n",
    "        ssum = 0\n",
    "        begin = 0\n",
    "        for i in sorted_points:\n",
    "            # 如果加之前为0，表示前一个区间已结束，现在是这个区间的开始\n",
    "            if ssum == 0:\n",
    "                begin = i\n",
    "            ssum += dic[i]\n",
    "            # 如果加之后为0，表示这个区间的结束\n",
    "            if ssum == 0:\n",
    "                end = i\n",
    "                result.append([begin,end])\n",
    "                ssum = 0\n",
    "        \n",
    "        return result"
   ],
   "metadata": {
    "collapsed": false,
    "pycharm": {
     "name": "#%%\n"
    }
   }
  }
 ],
 "metadata": {
  "language_info": {
   "codemirror_mode": {
    "name": "ipython",
    "version": 2
   },
   "file_extension": ".py",
   "mimetype": "text/x-python",
   "name": "python",
   "nbconvert_exporter": "python",
   "pygments_lexer": "ipython2",
   "version": "2.7.6"
  },
  "kernelspec": {
   "name": "python3",
   "language": "python",
   "display_name": "Python 3"
  },
  "pycharm": {
   "stem_cell": {
    "cell_type": "raw",
    "source": [],
    "metadata": {
     "collapsed": false
    }
   }
  }
 },
 "nbformat": 4,
 "nbformat_minor": 0
}