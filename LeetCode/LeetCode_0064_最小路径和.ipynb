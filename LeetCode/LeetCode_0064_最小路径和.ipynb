{
 "cells": [
  {
   "cell_type": "markdown",
   "metadata": {
    "collapsed": true,
    "pycharm": {
     "name": "#%% md\n"
    }
   },
   "source": [
    "给定一个包含非负整数的 m x n 网格，请找出一条从左上角到右下角的路径，使得路径上的数字总和为最小。输出最小的和。\n",
    "\n",
    "说明：每次只能向下或者向右移动一步。"
   ]
  },
  {
   "cell_type": "markdown",
   "source": [
    "思路：动态规划。参考[jyd的回答](https://leetcode-cn.com/problems/minimum-path-sum/solution/zui-xiao-lu-jing-he-dong-tai-gui-hua-gui-fan-liu-c/)。\n",
    "\n",
    "**转移方程**：\n",
    "\n",
    "题目要求，只能向右或向下走，换句话说，当前单元格 $(i,j)$ 只能从左方单元格 $(i,j-1)$\n",
    "或上方单元格 $(i-1, j)$ 走到，因此只需要考虑矩阵左边界和上边界。\n",
    "\n",
    "走到当前单元格 $(i,j)$ 的最小路径和 $=$ 从左方单元格 $(i,j-1)$ 与 \n",
    "从上方单元格 $(i-1,j)$ 走来的两个最小路径和中较小的 $+$ 当前单元格值 $grid[i][j]$ 。具体分为以下 4 种情况：\n",
    "\n",
    "1. 当左边和上边都不是矩阵边界时： 即当 $i \\neq 0, j \\neq 0$ 时，$dp[i][j] = min(dp[i][j-1], dp[i-1][j]) + grid[i][j]$；\n",
    "2. 当只有左边是矩阵边界时： 只能从上面来，即 $i \\neq 0, j = 0$ 时，$dp[i][j] = dp[i-1][j] + grid[i][j]$；\n",
    "3. 当只有上边是矩阵边界时： 只能从左面来，即 $i = 0, j \\neq 0$ 时，$dp[i][j] = dp[i][j-1] + grid[i][j]$；\n",
    "4. 当左边和上边都是矩阵边界时： 即当 $i = 0, j = 0$ 时，其实就是起点，$dp[i][j] = grid[i][j]$。\n",
    "\n",
    "**初始状态**:\n",
    "\n",
    "- $dp$ 初始化即可，不需要修改 $0$ 值。\n",
    "\n",
    "**返回值**：\n",
    "\n",
    "- 返回 $dp$ 矩阵右下角值，即走到终点的最小路径和。\n",
    "\n",
    "注意：其实我们完全不需要建立 $dp$ 矩阵浪费额外空间，直接遍历 $grid[i][j]$ 修改即可。\n",
    "因为当前遍历点只会用到当前点的 $grid$ 值，不会用到左上方的 $grid$ 值。"
   ],
   "metadata": {
    "collapsed": false,
    "pycharm": {
     "name": "#%% md\n"
    }
   }
  },
  {
   "cell_type": "code",
   "execution_count": null,
   "outputs": [],
   "source": [
    "class Solution:\n",
    "    def minPathSum(self, grid):\n",
    "        dp = [[0 for i in range(len(grid[0]))] for j in range(len(grid))]\n",
    "        for i in range(len(grid)):\n",
    "            for j in range(len(grid[0])):\n",
    "                if i == 0 and j == 0:\n",
    "                    continue\n",
    "                if i == 0:\n",
    "                    dp[i][j] = dp[i][j-1] + grid[i][j]\n",
    "                    continue\n",
    "                if j == 0:\n",
    "                    dp[i][j] = dp[i-1][j] + grid[i][j]\n",
    "                    continue\n",
    "                dp[i][j] = min(dp[i][j-1], dp[i-1][j]) + grid[i][j]\n",
    "        return dp[-1][-1]\n"
   ],
   "metadata": {
    "collapsed": false,
    "pycharm": {
     "name": "#%%\n"
    }
   }
  }
 ],
 "metadata": {
  "kernelspec": {
   "display_name": "Python 3",
   "language": "python",
   "name": "python3"
  },
  "language_info": {
   "codemirror_mode": {
    "name": "ipython",
    "version": 2
   },
   "file_extension": ".py",
   "mimetype": "text/x-python",
   "name": "python",
   "nbconvert_exporter": "python",
   "pygments_lexer": "ipython2",
   "version": "2.7.6"
  },
  "pycharm": {
   "stem_cell": {
    "cell_type": "raw",
    "source": [],
    "metadata": {
     "collapsed": false
    }
   }
  }
 },
 "nbformat": 4,
 "nbformat_minor": 0
}