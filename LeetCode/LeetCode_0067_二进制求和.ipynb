{
  "cells": [
    {
      "cell_type": "markdown",
      "metadata": {
        "collapsed": true,
        "pycharm": {
          "name": "#%% md\n"
        }
      },
      "source": "## LeetCode 67: 二进制求和\n\n给定两个二进制字符串，返回他们的和（用二进制表示）。"
    },
    {
      "cell_type": "markdown",
      "source": "思路一：将两个字符串对齐，从后往前加，记录进位。",
      "metadata": {
        "pycharm": {
          "metadata": false,
          "name": "#%% md\n"
        }
      }
    },
    {
      "cell_type": "code",
      "execution_count": null,
      "outputs": [],
      "source": "class Solution:\n    def addBinary(self, a: str, b: str) -\u003e str:\n        carry \u003d 0\n        lena \u003d len(a)\n        lenb \u003d len(b)\n        if lena \u003c lenb:\n            a \u003d (lenb - lena) * \u00270\u0027 + a\n        else:\n            b \u003d (lena - lenb) * \u00270\u0027 + b\n        c \u003d [\u00270\u0027] * (len(a) + 1)\n        print(a)\n        print(b)\n        print(c)\n        for i in range(lena - 1, -1, -1):\n            if int(a[i]) + int(b[i]) + carry \u003d\u003d 3:\n                carry \u003d 1\n                this \u003d 1\n            elif int(a[i]) + int(b[i]) + carry \u003d\u003d 2:\n                carry \u003d 1\n                this \u003d 0\n            else:\n                carry \u003d 0\n                this \u003d int(a[i]) + int(b[i]) + carry\n            c[i] \u003d str(this)\n            if carry \u003d\u003d 1:\n                c[0] \u003d \u00271\u0027\n            else:\n                c \u003d c[1:]\n        return \u0027\u0027.join(c)\n",
      "metadata": {
        "pycharm": {
          "metadata": false,
          "name": "#%%\n"
        }
      }
    },
    {
      "cell_type": "markdown",
      "source": "思路二：python内建函数",
      "metadata": {
        "pycharm": {
          "metadata": false,
          "name": "#%% md\n"
        }
      }
    },
    {
      "cell_type": "code",
      "execution_count": null,
      "outputs": [],
      "source": "\n",
      "metadata": {
        "pycharm": {
          "metadata": false,
          "name": "#%%\n"
        }
      }
    }
  ],
  "metadata": {
    "language_info": {
      "codemirror_mode": {
        "name": "ipython",
        "version": 2
      },
      "file_extension": ".py",
      "mimetype": "text/x-python",
      "name": "python",
      "nbconvert_exporter": "python",
      "pygments_lexer": "ipython2",
      "version": "2.7.6"
    },
    "kernelspec": {
      "name": "pycharm-1ce6c0c3",
      "language": "python",
      "display_name": "PyCharm (Offer)"
    }
  },
  "nbformat": 4,
  "nbformat_minor": 0
}