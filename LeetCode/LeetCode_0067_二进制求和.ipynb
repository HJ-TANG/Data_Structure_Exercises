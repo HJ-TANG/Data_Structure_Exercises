{
 "cells": [
  {
   "cell_type": "markdown",
   "metadata": {
    "collapsed": true,
    "pycharm": {
     "name": "#%% md\n"
    }
   },
   "source": [
    "## LeetCode 67: 二进制求和\n",
    "\n",
    "给定两个二进制字符串，返回他们的和（用二进制表示）。"
   ]
  },
  {
   "cell_type": "markdown",
   "source": [
    "思路一：将两个字符串对齐，从后往前加，记录进位。"
   ],
   "metadata": {
    "pycharm": {
     "metadata": false,
     "name": "#%% md\n"
    }
   }
  },
  {
   "cell_type": "code",
   "execution_count": null,
   "outputs": [],
   "source": [
    "class Solution:\n",
    "    def addBinary(self, a: str, b: str) -> str:\n",
    "        carry = 0\n",
    "        lena = len(a)\n",
    "        lenb = len(b)\n",
    "        if lena < lenb:\n",
    "            a = (lenb - lena) * '0' + a\n",
    "        else:\n",
    "            b = (lena - lenb) * '0' + b\n",
    "        c = ['0'] * (len(a) + 1)\n",
    "        print(a)\n",
    "        print(b)\n",
    "        print(c)\n",
    "        for i in range(lena - 1, -1, -1):\n",
    "            if int(a[i]) + int(b[i]) + carry == 3:\n",
    "                carry = 1\n",
    "                this = 1\n",
    "            elif int(a[i]) + int(b[i]) + carry == 2:\n",
    "                carry = 1\n",
    "                this = 0\n",
    "            else:\n",
    "                carry = 0\n",
    "                this = int(a[i]) + int(b[i]) + carry\n",
    "            c[i] = str(this)\n",
    "            if carry == 1:\n",
    "                c[0] = '1'\n",
    "            else:\n",
    "                c = c[1:]\n",
    "        return ''.join(c)\n"
   ],
   "metadata": {
    "pycharm": {
     "metadata": false,
     "name": "#%%\n"
    }
   }
  },
  {
   "cell_type": "markdown",
   "source": [
    "思路二：python内建函数。（转二进制的int再相加。）"
   ],
   "metadata": {
    "pycharm": {
     "metadata": false,
     "name": "#%% md\n"
    }
   }
  },
  {
   "cell_type": "code",
   "execution_count": null,
   "outputs": [],
   "source": [
    "class Solution2:\n",
    "    def addBinary(self, a: str, b: str) -> str:\n",
    "        return bin(int(a,2)+int(b,2))[2:]\n"
   ],
   "metadata": {
    "pycharm": {
     "metadata": false,
     "name": "#%%\n"
    }
   }
  }
 ],
 "metadata": {
  "language_info": {
   "codemirror_mode": {
    "name": "ipython",
    "version": 2
   },
   "file_extension": ".py",
   "mimetype": "text/x-python",
   "name": "python",
   "nbconvert_exporter": "python",
   "pygments_lexer": "ipython2",
   "version": "2.7.6"
  },
  "kernelspec": {
   "name": "pycharm-1ce6c0c3",
   "language": "python",
   "display_name": "PyCharm (Offer)"
  },
  "pycharm": {
   "stem_cell": {
    "cell_type": "raw",
    "source": [],
    "metadata": {
     "collapsed": false
    }
   }
  }
 },
 "nbformat": 4,
 "nbformat_minor": 0
}