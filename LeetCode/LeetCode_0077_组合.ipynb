{
  "cells": [
    {
      "cell_type": "markdown",
      "metadata": {
        "collapsed": true,
        "pycharm": {
          "name": "#%% md\n"
        }
      },
      "source": "## LeetCode 77：组合\n\n给定两个整数 n 和 k，返回 1 ... n 中所有可能的 k 个数的组合。"
    },
    {
      "cell_type": "markdown",
      "source": "思路一：剑指offer38题后面（P199）所讲的思路。我们把n个字符分成两部分，第一个字符和其余所有字符。如果组合里包含第一个字符，则下一步在剩余的\n字符里选取k-1个字符；如果组合里不包含第一个字符，则下一步在剩余的n-1个字符里选取m个字符。即我们把求n个字符组成长度为k的组合的问题分解成两个子问题，\n分别求n-1个字符中长度为m-1的组合，以及求n-1个字符中长度为m的组合。这两个子问题都可以用递归的方式解决。",
      "metadata": {
        "pycharm": {
          "metadata": false,
          "name": "#%% md\n"
        }
      }
    },
    {
      "cell_type": "code",
      "execution_count": null,
      "outputs": [],
      "source": "class Solution:\n    def combine(self, n, k):\n        if n \u003d\u003d 0 or k \u003c\u003d 0 or k \u003e n:\n            return []\n        nums \u003d [i for i in range(1, n+1)]\n        result \u003d []\n\n        def com(temp, rest, i, nums, k):\n            # 如果剩余字符不够选出k个字符，则返回\n            if len(rest) \u003c k:\n                return\n            # 如果还需选择一个字符，则直接遍历剩余字符，减少递归次数，可大大减少时间\n            if k \u003d\u003d 1:\n                for r in rest:\n                    temp.append(r)\n                    result.append(temp[:])\n                    temp.pop()\n                return\n\n            # 如果组合里包含第一个字符，则下一步在剩余的字符里选取k-1个字符\n            temp.append(nums[i])\n            rest.remove(nums[i])\n            com(temp, rest, i + 1, nums, k - 1)\n            temp.remove(nums[i])\n            rest.append(nums[i])\n\n            # 如果组合里不包含第一个字符，则下一步在剩余的n-1个字符里选取k个字符\n            rest.remove(nums[i])\n            com(temp, rest, i + 1, nums, k)\n            rest.append(nums[i])\n\n        com([], nums[:], 0, nums, k)\n        return result",
      "metadata": {
        "pycharm": {
          "metadata": false,
          "name": "#%%\n"
        }
      }
    },
    {
      "cell_type": "markdown",
      "source": "思路二：暂时没看懂。用时比较久。",
      "metadata": {
        "pycharm": {
          "metadata": false,
          "name": "#%% md\n"
        }
      }
    },
    {
      "cell_type": "code",
      "execution_count": null,
      "outputs": [],
      "source": "class Solution2(object):\n    def combine(self, n, k):\n        \"\"\"\n        :type n: int\n        :type k: int\n        :rtype: List[List[int]]\n        \"\"\"\n        res \u003d []\n        def dfs(t, cnt, tmp):\n            if cnt \u003d\u003d 0:\n                res.append(tmp[:])\n\n            for i in range(t + 1, n + 1):\n                dfs(i, cnt - 1, tmp + [i])\n            \n        dfs(0, k, [])\n        return res\n    ",
      "metadata": {
        "pycharm": {
          "metadata": false,
          "name": "#%%\n"
        }
      }
    },
    {
      "cell_type": "markdown",
      "source": "思路三：同样没看懂。用时跟思路一差不多。",
      "metadata": {
        "pycharm": {
          "metadata": false,
          "name": "#%% md\n"
        }
      }
    },
    {
      "cell_type": "code",
      "execution_count": null,
      "outputs": [],
      "source": "class Solution3(object):\n    def combine(self, n, k):\n        \"\"\"\n        :type n: int\n        :type k: int\n        :rtype: List[List[int]]\n        \"\"\"\n        if k\u003en or k\u003d\u003d0:\n            return []\n        if k\u003d\u003d1:\n            return [[i] for i in range(1,n+1)]\n        if k\u003d\u003dn:\n            return [[i for i in range(1,n+1)]]\n        \n        answer\u003dself.combine(n-1,k)\n        for item in self.combine(n-1,k-1):\n            item.append(n)\n            answer.append(item)\n        \n        return answer",
      "metadata": {
        "pycharm": {
          "metadata": false,
          "name": "#%%\n"
        }
      }
    }
  ],
  "metadata": {
    "language_info": {
      "codemirror_mode": {
        "name": "ipython",
        "version": 2
      },
      "file_extension": ".py",
      "mimetype": "text/x-python",
      "name": "python",
      "nbconvert_exporter": "python",
      "pygments_lexer": "ipython2",
      "version": "2.7.6"
    },
    "kernelspec": {
      "name": "pycharm-1ce6c0c3",
      "language": "python",
      "display_name": "PyCharm (Offer)"
    }
  },
  "nbformat": 4,
  "nbformat_minor": 0
}