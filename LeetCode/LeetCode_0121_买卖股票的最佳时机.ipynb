{
 "cells": [
  {
   "cell_type": "markdown",
   "metadata": {
    "collapsed": true,
    "pycharm": {
     "name": "#%% md\n"
    }
   },
   "source": [
    "给定一个数组，它的第`i`个元素是一支给定股票第`i`天的价格。\n",
    "\n",
    "如果你最多只允许完成一笔交易（即买入和卖出一支股票），设计一个算法来计算你所能获取的最大利润。\n",
    "\n",
    "注意你不能在买入股票前卖出股票。\n",
    "\n",
    "示例 1:\n",
    "\n",
    "输入: `[7,1,5,3,6,4]`\n",
    "\n",
    "输出: `5`\n",
    "\n",
    "解释: 在第 2 天（股票价格 = 1）的时候买入，在第 5 天（股票价格 = 6）的时候卖出，最大利润 = 6-1 = 5 。\n",
    "     注意利润不能是 7-1 = 6, 因为卖出价格需要大于买入价格。\n",
    "     \n",
    "示例 2:\n",
    "\n",
    "输入: `[7,6,4,3,1]`\n",
    "\n",
    "输出: `0`\n",
    "\n",
    "解释: 在这种情况下, 没有交易完成, 所以最大利润为 0。"
   ]
  },
  {
   "cell_type": "markdown",
   "source": [
    "思路：`dp[i]`表示第i天卖出的最大利润，等于 1.第i-1天卖出的最大利润即dp`[i-1]`和 2.当天价格减去第i天之前的最小值的差，这两者间的较大值."
   ],
   "metadata": {
    "collapsed": false,
    "pycharm": {
     "name": "#%% md\n"
    }
   }
  },
  {
   "cell_type": "code",
   "execution_count": null,
   "outputs": [],
   "source": [
    "class Solution:\n",
    "    def maxProfit(self, prices):\n",
    "        if len(prices) < 2:\n",
    "            return 0\n",
    "        dp = [0] * len(prices)\n",
    "        # dp[i]表示第i天卖出的最大利润，等于1.第i-1天卖出的最大利润即dp[i-1]和2.当天价格减去第i天之前的最小值的差，\n",
    "        # 这两者间的较大值\n",
    "        mmin = prices[0]\n",
    "        for i in range(1, len(prices)):\n",
    "            mmin = min(prices[i], mmin)\n",
    "            dp[i] = max(dp[i-1], max(0, prices[i]-mmin))\n",
    "        return max(dp)"
   ],
   "metadata": {
    "collapsed": false,
    "pycharm": {
     "name": "#%%\n"
    }
   }
  }
 ],
 "metadata": {
  "language_info": {
   "codemirror_mode": {
    "name": "ipython",
    "version": 2
   },
   "file_extension": ".py",
   "mimetype": "text/x-python",
   "name": "python",
   "nbconvert_exporter": "python",
   "pygments_lexer": "ipython2",
   "version": "2.7.6"
  },
  "kernelspec": {
   "name": "python3",
   "language": "python",
   "display_name": "Python 3"
  },
  "pycharm": {
   "stem_cell": {
    "cell_type": "raw",
    "source": [],
    "metadata": {
     "collapsed": false
    }
   }
  }
 },
 "nbformat": 4,
 "nbformat_minor": 0
}