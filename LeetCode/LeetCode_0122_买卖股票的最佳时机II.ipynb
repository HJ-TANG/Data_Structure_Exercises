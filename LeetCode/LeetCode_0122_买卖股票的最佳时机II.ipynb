{
 "cells": [
  {
   "cell_type": "markdown",
   "metadata": {
    "collapsed": true,
    "pycharm": {
     "name": "#%% md\n"
    }
   },
   "source": [
    "给定一个数组，它的第`i`个元素是一支给定股票第`i`天的价格。\n",
    "\n",
    "设计一个算法来计算你所能获取的最大利润。你可以尽可能地完成更多的交易（多次买卖一支股票）。\n",
    "\n",
    "注意：你不能同时参与多笔交易（你必须在再次购买前出售掉之前的股票）。\n",
    "\n",
    "示例 1:\n",
    "\n",
    "输入: `[7,1,5,3,6,4]`\n",
    "\n",
    "输出: `7`\n",
    "\n",
    "解释: 在第 2 天（股票价格 = 1）的时候买入，在第 3 天（股票价格 = 5）的时候卖出, 这笔交易所能获得利润 = 5-1 = 4 。\n",
    "     随后，在第 4 天（股票价格 = 3）的时候买入，在第 5 天（股票价格 = 6）的时候卖出, 这笔交易所能获得利润 = 6-3 = 3 。"
   ]
  },
  {
   "cell_type": "markdown",
   "source": [
    "思路一：贪心算法，一次遍历，只要今天价格小于明天价格就在今天买入然后明天卖出，时间复杂度`O(n)`。"
   ],
   "metadata": {
    "collapsed": false,
    "pycharm": {
     "name": "#%% md\n"
    }
   }
  },
  {
   "cell_type": "code",
   "execution_count": null,
   "outputs": [],
   "source": [
    "class Solution:\n",
    "    def maxProfit(self, prices):\n",
    "        ssum = 0\n",
    "        for i in range(1, len(prices)):\n",
    "            if prices[i] > prices[i-1]:\n",
    "                ssum += prices[i] - prices[i-1]\n",
    "        return ssum"
   ],
   "metadata": {
    "collapsed": false,
    "pycharm": {
     "name": "#%%\n"
    }
   }
  },
  {
   "cell_type": "markdown",
   "source": [
    "思路二：DP动态规划。\n",
    "\n",
    "第i天只有两种状态，不持有或持有股票，当天不持有股票的状态可能来自当天卖出或者昨天也不持有，\n",
    "同理，当天持有股票的状态可能来自当天买入或者昨天也持有中，取最后一天的不持有股票状态就是问题的解。\n",
    "支出（买入）的收益算为负，卖出收益为正。\n",
    "\n",
    "更泛化的状态转移框架见[leetcode123题的题解](https://leetcode-cn.com/problems/best-time-to-buy-and-sell-stock-iii/solution/yi-ge-tong-yong-fang-fa-tuan-mie-6-dao-gu-piao-wen/)。"
   ],
   "metadata": {
    "collapsed": false,
    "pycharm": {
     "name": "#%% md\n"
    }
   }
  },
  {
   "cell_type": "code",
   "execution_count": null,
   "outputs": [],
   "source": [
    "class Solution2:\n",
    "    def maxProfit(self, prices):\n",
    "        if len(prices) < 2:\n",
    "            return 0\n",
    "        dp = [[0, 0] for i in range(len(prices))]\n",
    "        # dp[i][0]表示不持有股票的状态时的最大收益，dp[i][1]表示持有股票时的状态的最大收益\n",
    "        dp[0][0], dp[0][1] = 0, -prices[0]\n",
    "        for i in range(1, len(prices)):\n",
    "            # 当天不持有的情况。可能昨天也未持有，也可能昨天持有然后今天卖掉了。今天卖掉了的话，收入为今天的价格。\n",
    "            dp[i][0] = max(dp[i-1][0], dp[i-1][1] + prices[i])\n",
    "            # 当天持有股票的情况。可能昨天也持有，也可能昨天未持有，然后今天买入了，支出为今天的价格。\n",
    "            dp[i][1] = max(dp[i-1][1], dp[i-1][0] - prices[i])\n",
    "        return dp[len(prices)-1][0]"
   ],
   "metadata": {
    "collapsed": false,
    "pycharm": {
     "name": "#%%\n"
    }
   }
  },
  {
   "cell_type": "markdown",
   "source": [
    "因为新状态只和相邻的状态有关，所以其实不用整个dp数组，只需要变量存储相邻的状态就够了，这样可以把空间复杂度降到O(1)。"
   ],
   "metadata": {
    "collapsed": false,
    "pycharm": {
     "name": "#%% md\n"
    }
   }
  },
  {
   "cell_type": "code",
   "execution_count": null,
   "outputs": [],
   "source": [
    "class Solution3:\n",
    "    def maxProfit(self, prices):\n",
    "        if len(prices) < 2:\n",
    "            return 0\n",
    "        dp_i_0, dp_i_1 = 0, -prices[0]\n",
    "        for i in range(1, len(prices)):\n",
    "            tmp = max(dp_i_0, dp_i_1 + prices[i])\n",
    "            dp_i_1 = max(dp_i_1, dp_i_0 - prices[i])\n",
    "            dp_i_0 = tmp\n",
    "        return dp_i_0"
   ],
   "metadata": {
    "collapsed": false,
    "pycharm": {
     "name": "#%%\n"
    }
   }
  }
 ],
 "metadata": {
  "language_info": {
   "codemirror_mode": {
    "name": "ipython",
    "version": 2
   },
   "file_extension": ".py",
   "mimetype": "text/x-python",
   "name": "python",
   "nbconvert_exporter": "python",
   "pygments_lexer": "ipython2",
   "version": "2.7.6"
  },
  "kernelspec": {
   "name": "python3",
   "language": "python",
   "display_name": "Python 3"
  },
  "pycharm": {
   "stem_cell": {
    "cell_type": "raw",
    "source": [],
    "metadata": {
     "collapsed": false
    }
   }
  }
 },
 "nbformat": 4,
 "nbformat_minor": 0
}