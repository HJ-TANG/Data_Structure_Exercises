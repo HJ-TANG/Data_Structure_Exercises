{
 "cells": [
  {
   "cell_type": "markdown",
   "metadata": {
    "collapsed": true,
    "pycharm": {
     "name": "#%% md\n"
    }
   },
   "source": [
    "给定一个数组，它的第 i 个元素是一支给定的股票在第 i 天的价格。\n",
    "\n",
    "设计一个算法来计算你所能获取的最大利润。你最多可以完成 两笔 交易。\n",
    "\n",
    "注意: 你不能同时参与多笔交易（你必须在再次购买前出售掉之前的股票）。"
   ]
  },
  {
   "cell_type": "markdown",
   "source": [
    "思路：详见[LeetCode_0188_买卖股票的最佳时机IV](https://github.com/HJ-TANG/Data_Structure_Exercises/blob/master/LeetCode/LeetCode_0188_买卖股票的最佳时机IV.ipynb)。\n",
    "本题是该题k=2时的情况。因为k比较小，为2，也可以不用dp数组，直接用变量记录。"
   ],
   "metadata": {
    "collapsed": false,
    "pycharm": {
     "name": "#%% md\n"
    }
   }
  },
  {
   "cell_type": "code",
   "execution_count": null,
   "outputs": [],
   "source": [
    "class Solution:\n",
    "    def maxProfit(self, prices):\n",
    "        n = len(prices)\n",
    "        if n < 2:\n",
    "            return 0\n",
    "        k = 2\n",
    "        dp = [[[0, 0] for _ in range(k+1)] for _ in range(n)]  # k这一维维数为k+1，因为要把k=0的给空出来\n",
    "        # 定义base case\n",
    "        for i in range(1, k+1):\n",
    "            # 1. 第一天如果手里持有股票，肯定是第一天买入了\n",
    "            dp[0][i][1] = -prices[0]\n",
    "        for i in range(n):\n",
    "            # 2. 当交易次数为0，不允许交易，不可能持有股票\n",
    "            dp[i][0][1] = -float('inf')\n",
    "        for i in range(1, n):\n",
    "            for j in range(1, k+1):\n",
    "                dp[i][j][0] = max(dp[i-1][j][0], dp[i-1][j][1] + prices[i])\n",
    "                # 若要买入，应该考虑前一天(i-1)最高交易次数为(j-1)时的最大收益，因为本次买入要占用一次机会\n",
    "                dp[i][j][1] = max(dp[i-1][j][1], dp[i-1][j-1][0] - prices[i])\n",
    "        return dp[n-1][k][0]\n"
   ],
   "metadata": {
    "collapsed": false,
    "pycharm": {
     "name": "#%%\n"
    }
   }
  }
 ],
 "metadata": {
  "language_info": {
   "codemirror_mode": {
    "name": "ipython",
    "version": 2
   },
   "file_extension": ".py",
   "mimetype": "text/x-python",
   "name": "python",
   "nbconvert_exporter": "python",
   "pygments_lexer": "ipython2",
   "version": "2.7.6"
  },
  "kernelspec": {
   "name": "python3",
   "language": "python",
   "display_name": "Python 3"
  },
  "pycharm": {
   "stem_cell": {
    "cell_type": "raw",
    "source": [],
    "metadata": {
     "collapsed": false
    }
   }
  }
 },
 "nbformat": 4,
 "nbformat_minor": 0
}