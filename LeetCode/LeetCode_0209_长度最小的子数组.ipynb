{
 "cells": [
  {
   "cell_type": "markdown",
   "metadata": {
    "collapsed": true,
    "pycharm": {
     "name": "#%% md\n"
    }
   },
   "source": [
    "给定一个含有 n 个正整数的数组和一个正整数 s ，找出该数组中满足其和 ≥ s 的长度最小的连续子数组。如果不存在符合条件的连续子数组，返回 0。\n",
    "输入: s = 7, nums = \\[2,3,1,2,4,3]\n",
    "输出: 2\n",
    "解释: 子数组 \\[4,3] 是该条件下的长度最小的连续子数组。"
   ]
  },
  {
   "cell_type": "markdown",
   "source": [
    "双指针滑动窗口。\n",
    "left和right先指向0，然后right向右移动，直到nums\\[left: right]之和>=s，记录right‐ left+1为从left开始的子数组的最小长度，\n",
    "然后left移动一位，right向右移动(可以不移动)直到nums\\[left: right] 之和>=s，记录right‐left+1为从left开始的子数组的最小长度，\n",
    "循环这一过程，直到right=len﴾nums﴿结束循环。"
   ],
   "metadata": {
    "collapsed": false,
    "pycharm": {
     "name": "#%% md\n"
    }
   }
  },
  {
   "cell_type": "code",
   "source": [
    "class Solution:\n",
    "    def minSubArrayLen(self, s, nums):\n",
    "        begin = 0\n",
    "        end = 0\n",
    "        length = len(nums)\n",
    "        min_length = length + 1\n",
    "        \n",
    "        temp_sum = 0\n",
    "        while end < length:\n",
    "            temp_sum += nums[end]\n",
    "            while temp_sum >= s:\n",
    "                min_length = min(min_length, end-begin+1)\n",
    "                temp_sum -= nums[begin]\n",
    "                begin += 1\n",
    "            end += 1\n",
    "        return min_length if min_length != length+1 else 0"
   ],
   "metadata": {
    "collapsed": false,
    "pycharm": {
     "name": "#%%\n"
    }
   },
   "execution_count": null,
   "outputs": []
  }
 ],
 "metadata": {
  "language_info": {
   "codemirror_mode": {
    "name": "ipython",
    "version": 2
   },
   "file_extension": ".py",
   "mimetype": "text/x-python",
   "name": "python",
   "nbconvert_exporter": "python",
   "pygments_lexer": "ipython2",
   "version": "2.7.6"
  },
  "kernelspec": {
   "name": "python3",
   "language": "python",
   "display_name": "Python 3"
  },
  "pycharm": {
   "stem_cell": {
    "cell_type": "raw",
    "source": [],
    "metadata": {
     "collapsed": false
    }
   }
  }
 },
 "nbformat": 4,
 "nbformat_minor": 0
}