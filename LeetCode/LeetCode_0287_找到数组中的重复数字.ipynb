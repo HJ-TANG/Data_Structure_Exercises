{
 "cells": [
  {
   "cell_type": "markdown",
   "metadata": {
    "collapsed": true
   },
   "source": [
    "Given an array nums containing n + 1 integers where each integer is between 1 and n (inclusive), prove that at least one duplicate number must exist. Assume that there is only one duplicate number, find the duplicate one.\n",
    "\n",
    "给定一个包含n+1个整数的数组nums，该数组中的每个整数都在[1,n]的范围内，假设数组中只有一个数是重复的，找到那个重复的数。\n",
    "\n",
    "Note|提示:\n",
    "\n",
    "- You must not modify the array (assume the array is read only).|    不能改动数组内容\n",
    "- You must use only constant, O(1) extra space.|    在O(1)的空间复杂度内完成\n",
    "- Your runtime complexity should be less than O(n2).|    时间复杂度不超过O(n^2)\n",
    "- There is only one duplicate number in the array, but it could be repeated more than once.|    只有一个重复数字，但是可能重复超过一次\n",
    "\n",
    "详解：https://nodelay.xyz/2016/03/30/leetcode-287-find-the-duplicate-number-%E6%99%BA%E5%95%86%E8%A2%AB%E7%A2%BE%E5%8E%8B%EF%BC%81/\n"
   ]
  },
  {
   "cell_type": "markdown",
   "metadata": {},
   "source": [
    "## 思路1：O(nlogn)时间复杂度\n",
    "\n",
    "鸽巢原理。"
   ]
  },
  {
   "cell_type": "code",
   "execution_count": 6,
   "metadata": {},
   "outputs": [],
   "source": [
    "class Solution:\n",
    "    # 这里要特别注意~找到任意重复的一个值并赋值到duplication[0]\n",
    "    # 函数返回True/False\n",
    "    def duplicate(self, numbers, duplication):\n",
    "        # write code here\n",
    "        # Binary search\n",
    "        left = 1\n",
    "        right = len(numbers) - 1\n",
    "        while right >= left:\n",
    "            mid = (right - left) // 2 + left\n",
    "            front_nums = 0\n",
    "            for i in range(len(numbers)):\n",
    "                if left <= numbers[i] <= mid:\n",
    "                    front_nums += 1\n",
    "            if left == right:\n",
    "                if front_nums > 1:\n",
    "                    duplication[0] = left\n",
    "                    return True\n",
    "                else:\n",
    "                    return False\n",
    "            if front_nums <= mid - left + 1:\n",
    "                left = mid + 1\n",
    "            else:\n",
    "                right = mid\n",
    "        return False\n"
   ]
  },
  {
   "cell_type": "code",
   "execution_count": 6,
   "metadata": {},
   "outputs": [
    {
     "name": "stdout",
     "output_type": "stream",
     "text": [
      "[1]\n"
     ]
    }
   ],
   "source": [
    "s = Solution()\n",
    "dup = [-1]\n",
    "s.duplicate([2, 1, 3, 1, 4], dup)\n",
    "print(dup)"
   ]
  },
  {
   "cell_type": "markdown",
   "metadata": {},
   "source": [
    "## 思路2：O(n)时间复杂度，但是改变数组\n",
    "\n",
    "一个萝卜一个坑，把搜索到的数放到自己应该在的位置上，比如1应该放在第一个位置上，如果后面再找到一个1，我们就会发现1这个位置的坑被前一个1占了，那就冲突了。\n",
    "\n",
    "假设数据范围为[0, n-1]"
   ]
  },
  {
   "cell_type": "code",
   "execution_count": 10,
   "metadata": {},
   "outputs": [],
   "source": [
    "class Solution:\n",
    "    # 这里要特别注意~找到任意重复的一个值并赋值到duplication[0]\n",
    "    # 函数返回True/False\n",
    "    def duplicate(self, numbers, duplication):\n",
    "        i = 0\n",
    "        while i <= len(numbers) - 1:\n",
    "            if numbers[i] == i:\n",
    "                i += 1\n",
    "                continue\n",
    "            else:\n",
    "                if numbers[i] == numbers[numbers[i]]:\n",
    "                    duplication[0] = numbers[i]\n",
    "                    return True\n",
    "                else:\n",
    "                    temp = numbers[i]\n",
    "                    numbers[i] = numbers[temp]\n",
    "                    numbers[temp] = temp\n",
    "        return False"
   ]
  },
  {
   "cell_type": "code",
   "execution_count": 11,
   "metadata": {},
   "outputs": [
    {
     "name": "stdout",
     "output_type": "stream",
     "text": [
      "[1]\n"
     ]
    }
   ],
   "source": [
    "s = Solution()\n",
    "dup = [-1]\n",
    "s.duplicate([2, 1, 3, 1, 4], dup)\n",
    "print(dup)"
   ]
  },
  {
   "cell_type": "markdown",
   "metadata": {},
   "source": [
    "## 思路3：O(n)时间复杂度\n",
    "\n",
    "看成链表是否有环问题。"
   ]
  },
  {
   "cell_type": "code",
   "execution_count": null,
   "metadata": {},
   "outputs": [],
   "source": []
  }
 ],
 "metadata": {
  "kernelspec": {
   "display_name": "Python 2",
   "language": "python",
   "name": "python2"
  },
  "language_info": {
   "codemirror_mode": {
    "name": "ipython",
    "version": 2
   },
   "file_extension": ".py",
   "mimetype": "text/x-python",
   "name": "python",
   "nbconvert_exporter": "python",
   "pygments_lexer": "ipython2",
   "version": "2.7.6"
  }
 },
 "nbformat": 4,
 "nbformat_minor": 0
}
