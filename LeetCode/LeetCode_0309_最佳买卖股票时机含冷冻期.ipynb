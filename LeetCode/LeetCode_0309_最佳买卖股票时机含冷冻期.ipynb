{
 "cells": [
  {
   "cell_type": "markdown",
   "metadata": {
    "collapsed": true,
    "pycharm": {
     "name": "#%% md\n"
    }
   },
   "source": [
    "给定一个整数数组，其中第 i 个元素代表了第 i 天的股票价格 。​\n",
    "\n",
    "设计一个算法计算出最大利润。在满足以下约束条件下，你可以尽可能地完成更多的交易（多次买卖一支股票）:\n",
    "\n",
    "- 你不能同时参与多笔交易（你必须在再次购买前出售掉之前的股票）。\n",
    "- 卖出股票后，你无法在第二天买入股票 (即冷冻期为 1 天)。"
   ]
  },
  {
   "cell_type": "markdown",
   "source": [
    "思路：在[买卖股票的最佳时机II](https://github.com/HJ-TANG/Data_Structure_Exercises/blob/master/LeetCode/LeetCode_0122_买卖股票的最佳时机II.ipynb)的动态规划版本上稍作修改。\n"
   ],
   "metadata": {
    "collapsed": false,
    "pycharm": {
     "name": "#%% md\n"
    }
   }
  },
  {
   "cell_type": "code",
   "execution_count": null,
   "outputs": [],
   "source": [
    "class Solution:\n",
    "    def maxProfit(self, prices):\n",
    "        if len(prices) < 2:\n",
    "            return 0\n",
    "        # 这里让第一维的长度为len(prices)+1,是为了让后面的dp[i-2][0]中的i-2不会取到-1\n",
    "        dp = [[0, 0] for i in range(len(prices)+1)]\n",
    "        dp[0][0], dp[0][1] = 0, -float('inf')  # 还没开始，不可能持有股票\n",
    "        dp[1][0], dp[1][1] = 0, -prices[0]\n",
    "        for i in range(2, len(prices)+1):\n",
    "            dp[i][0] = max(dp[i-1][0], dp[i-1][1] + prices[i-1])  # 第一维往后挪了一位，因此prices的索引变为i-1\n",
    "            # 重点：第 i 天选择 买 的时候，要从 i-2 的状态转移，而不是 i-1，因为有一天的冷冻期\n",
    "            dp[i][1] = max(dp[i-1][1], dp[i-2][0] - prices[i-1])  \n",
    "        return dp[len(prices)][0]\n"
   ],
   "metadata": {
    "collapsed": false,
    "pycharm": {
     "name": "#%%\n"
    }
   }
  }
 ],
 "metadata": {
  "language_info": {
   "codemirror_mode": {
    "name": "ipython",
    "version": 2
   },
   "file_extension": ".py",
   "mimetype": "text/x-python",
   "name": "python",
   "nbconvert_exporter": "python",
   "pygments_lexer": "ipython2",
   "version": "2.7.6"
  },
  "kernelspec": {
   "name": "python3",
   "language": "python",
   "display_name": "Python 3"
  },
  "pycharm": {
   "stem_cell": {
    "cell_type": "raw",
    "source": [],
    "metadata": {
     "collapsed": false
    }
   }
  }
 },
 "nbformat": 4,
 "nbformat_minor": 0
}