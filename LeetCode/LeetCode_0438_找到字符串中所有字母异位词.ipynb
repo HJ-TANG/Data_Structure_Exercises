{
 "cells": [
  {
   "cell_type": "markdown",
   "metadata": {
    "collapsed": true,
    "pycharm": {
     "name": "#%% md\n"
    }
   },
   "source": [
    "给定一个字符串 s 和一个非空字符串 p，找到 s 中所有是 p 的字母异位词的子串，返回这些子串的起始索引。\n",
    "\n",
    "字符串只包含小写英文字母，并且字符串 s 和 p 的长度都不超过 20100。\n",
    "\n",
    "说明：\n",
    "\n",
    "字母异位词指字母相同，但排列不同的字符串。\n",
    "\n",
    "不考虑答案输出的顺序。"
   ]
  },
  {
   "cell_type": "markdown",
   "source": [
    "思路：使用滑动窗口。重点在于如何判断当前窗口是否为p的异位词。"
   ],
   "metadata": {
    "collapsed": false,
    "pycharm": {
     "name": "#%% md\n"
    }
   }
  },
  {
   "cell_type": "markdown",
   "source": [
    "方法一：以下这种思路是计数，如果每个字母词频一致，就认为当前窗口是p的异位词。耗时比较长。"
   ],
   "metadata": {
    "collapsed": false,
    "pycharm": {
     "name": "#%% md\n"
    }
   }
  },
  {
   "cell_type": "code",
   "execution_count": null,
   "outputs": [],
   "source": [
    "class Solution:\n",
    "    def findAnagrams(self, s, p):\n",
    "        if not s:\n",
    "            return []\n",
    "        begin = 0\n",
    "        end = len(p) - 1  # 初始窗口大小为p的长度\n",
    "        lens = len(s)\n",
    "        lenp = len(p)\n",
    "        from collections import Counter\n",
    "        counter_p = Counter(p)\n",
    "        counter_temp = Counter(s[0:lenp-1])\n",
    "        result = []\n",
    "        \n",
    "        while end < lens:\n",
    "            counter_temp[s[end]] += 1\n",
    "            if all(map(lambda key: counter_temp[key] == counter_p[key], counter_p.keys())):\n",
    "                result.append(begin)\n",
    "            counter_temp[s[begin]] -= 1\n",
    "            begin += 1\n",
    "            end += 1\n",
    "        \n",
    "        return result"
   ],
   "metadata": {
    "collapsed": false,
    "pycharm": {
     "name": "#%%\n"
    }
   }
  },
  {
   "cell_type": "markdown",
   "source": [
    "方法二：不用计数。用一个数组记录字母出现次数，如果在p中出现，相应位++，如果在窗口中出现，相应位--。若数组为全零则当前窗口为p的异位词。"
   ],
   "metadata": {
    "collapsed": false,
    "pycharm": {
     "name": "#%% md\n"
    }
   }
  },
  {
   "cell_type": "code",
   "execution_count": null,
   "outputs": [],
   "source": [
    "class Solution2:\n",
    "    def findAnagrams(self, s, p):\n",
    "    \tif len(s) < len(p):\n",
    "    \t\treturn []\n",
    "    \tresult = []\n",
    "    \tn = len(p)\n",
    "    \tchars = [0] * 26  # 用数组代替字典，用与字母a的ascii码的相对距离作为下标\n",
    "    \tfor i in range(n):\n",
    "    \t\tchars[ord(p[i]) - ord('a')] += 1  # p中的字符相应位++\n",
    "    \t\tchars[ord(s[i]) - ord('a')] -= 1  # s中的字符相应位--\n",
    "    \tif chars == [0] * 26:  # 为全零表示p和窗口内字母相同\n",
    "    \t\tresult.append(0)\n",
    "    \tfor i in range(n, len(s)):\n",
    "    \t\tchars[ord(s[i]) - ord('a')] -= 1\n",
    "    \t\tchars[ord(s[i - n]) - ord('a')] += 1\n",
    "    \t\tif chars == [0] * 26:\n",
    "    \t\t\tresult.append(i + 1 - n)\n",
    "    \treturn result"
   ],
   "metadata": {
    "collapsed": false,
    "pycharm": {
     "name": "#%%\n"
    }
   }
  }
 ],
 "metadata": {
  "language_info": {
   "codemirror_mode": {
    "name": "ipython",
    "version": 2
   },
   "file_extension": ".py",
   "mimetype": "text/x-python",
   "name": "python",
   "nbconvert_exporter": "python",
   "pygments_lexer": "ipython2",
   "version": "2.7.6"
  },
  "kernelspec": {
   "name": "python3",
   "language": "python",
   "display_name": "Python 3"
  },
  "pycharm": {
   "stem_cell": {
    "cell_type": "raw",
    "source": [],
    "metadata": {
     "collapsed": false
    }
   }
  }
 },
 "nbformat": 4,
 "nbformat_minor": 0
}