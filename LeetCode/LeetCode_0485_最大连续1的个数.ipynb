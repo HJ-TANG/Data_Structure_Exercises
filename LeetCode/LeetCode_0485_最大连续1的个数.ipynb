{
 "cells": [
  {
   "cell_type": "markdown",
   "metadata": {
    "collapsed": true,
    "pycharm": {
     "name": "#%% md\n"
    }
   },
   "source": [
    "给定一个二进制数组， 计算其中最大连续1的个数。\n",
    "\n",
    "输入: `[1,1,0,1,1,1]`\n",
    "\n",
    "输出: `3`\n",
    "\n",
    "解释: 开头的两位和最后的三位都是连续1，所以最大连续1的个数是 3."
   ]
  },
  {
   "cell_type": "code",
   "execution_count": null,
   "outputs": [],
   "source": [
    "class Solution:\n",
    "    def findMaxConsecutiveOnes(self, nums):\n",
    "        cnt = 0\n",
    "        tmp = 0\n",
    "        for i in nums:\n",
    "            if i == 1:\n",
    "                tmp += 1\n",
    "            else:\n",
    "                cnt = max(cnt, tmp)\n",
    "                tmp = 0\n",
    "        cnt = max(cnt, tmp)\n",
    "        return cnt"
   ],
   "metadata": {
    "collapsed": false,
    "pycharm": {
     "name": "#%%\n"
    }
   }
  }
 ],
 "metadata": {
  "language_info": {
   "codemirror_mode": {
    "name": "ipython",
    "version": 2
   },
   "file_extension": ".py",
   "mimetype": "text/x-python",
   "name": "python",
   "nbconvert_exporter": "python",
   "pygments_lexer": "ipython2",
   "version": "2.7.6"
  },
  "kernelspec": {
   "name": "python3",
   "language": "python",
   "display_name": "Python 3"
  },
  "pycharm": {
   "stem_cell": {
    "cell_type": "raw",
    "source": [],
    "metadata": {
     "collapsed": false
    }
   }
  }
 },
 "nbformat": 4,
 "nbformat_minor": 0
}