{
 "cells": [
  {
   "cell_type": "markdown",
   "metadata": {
    "collapsed": true,
    "pycharm": {
     "name": "#%% md\n"
    }
   },
   "source": [
    "给定一个包含非负数的数组和一个目标整数 k，编写一个函数来判断该数组是否含有连续的子数组，其大小至少为 2，总和为 k 的倍数，即总和为 n*k，其中 n 也是一个整数。\n",
    "\n",
    "来源：https://leetcode-cn.com/problems/continuous-subarray-sum"
   ]
  },
  {
   "cell_type": "markdown",
   "source": [
    "思路一：优化的暴力解法。\n",
    "\n",
    "首先遍历一次数组，用一个数组sums存所有位置的前缀和。\n",
    "\n",
    "然后遍历所有子数组，求和，看是否是k的倍数。（注意k为0的情况）这里计算start和end之间的数字和的时候用`sums[end]-sums[start]+nums[start]`。\n",
    "可以减少暴力的计算量。\n",
    "\n",
    "时间复杂度：O(n^2) （两层遍历得到所有子数组）\n",
    "\n",
    "空间复杂度：O(n) （sums数组）"
   ],
   "metadata": {
    "collapsed": false,
    "pycharm": {
     "name": "#%% md\n"
    }
   }
  },
  {
   "cell_type": "code",
   "execution_count": null,
   "outputs": [],
   "source": [
    "class Solution:\n",
    "    def checkSubarraySum(self, nums, k):\n",
    "        sums = [0] * len(nums)\n",
    "        sums[0] = nums[0]\n",
    "        for i in range(1, len(nums)):\n",
    "            sums[i] = sums[i-1] + nums[i]\n",
    "        for start in range(len(nums)-1):\n",
    "            for end in range(start+1, len(nums)):\n",
    "                temp = sums[end] - sums[start] + nums[start]\n",
    "                if temp == k or (k != 0 and temp % k == 0):\n",
    "                    return True\n",
    "        return False"
   ],
   "metadata": {
    "collapsed": false,
    "pycharm": {
     "name": "#%%\n"
    }
   }
  },
  {
   "cell_type": "markdown",
   "source": [
    "思路二：[使用 HashMap](https://leetcode-cn.com/problems/continuous-subarray-sum/solution/lian-xu-de-zi-shu-zu-he-by-leetcode/) \n",
    "\n",
    "在这种方法中，我们使用 HashMap 来保存到第 i 个元素为止的累积和，**但我们对这个前缀和除以 k 取余数**。原因如下：\n",
    "\n",
    "我们遍历一遍给定的数组，记录到当前位置为止的 sum 。一旦我们找到新的 sum 的值（即在 HashMap 中没有这个值），我们就往 HashMap 中插入一条记录 (sum, index) 。\n",
    "\n",
    "现在，假设第 i 个位置的 sum 的值为 rem 。如果以 i 为左端点的任何子数组的和是 k 的倍数，比方说这个位置为 j ，那么 HashMap 中第 j 个元素保存的值为 (rem+n∗k)%k ，\n",
    "其中 n 是某个大于 0 的整数。我们会发现 (rem+n∗k)%k=rem ，也就是跟第 i 个元素保存到 HashMap 中的值相同。\n",
    "\n",
    "基于这一观察，我们得出结论：无论何时，只要 sum 的值已经被放入 HashMap 中了，代表着有两个索引 i 和 j ，它们之间元素的和是 k 的整数倍。\n",
    "因此，只要 HashMap 中有相同的 sum%k ，我们就可以直接返回 `True`。"
   ],
   "metadata": {
    "collapsed": false,
    "pycharm": {
     "name": "#%% md\n"
    }
   }
  },
  {
   "cell_type": "code",
   "execution_count": null,
   "outputs": [],
   "source": [
    "class Solution2:\n",
    "    def checkSubarraySum(self, nums, k):\n",
    "        dic = {0:-1}  # 注意这里初始化的时候\n",
    "        sums = 0\n",
    "        for i in range(len(nums)):\n",
    "            sums += nums[i]\n",
    "            if k != 0:\n",
    "                sums = sums % k\n",
    "            if sums not in dic.keys():\n",
    "                dic[sums] = i\n",
    "            elif i - dic[sums] > 1:  # 注意是>1，不是>=1, 至少相隔一个数字\n",
    "                return True\n",
    "        return False"
   ],
   "metadata": {
    "collapsed": false,
    "pycharm": {
     "name": "#%%\n"
    }
   }
  },
  {
   "cell_type": "markdown",
   "source": [
    "测试用例：\n",
    "\n",
    "`k = 6, nums = [23, 2, 4, 6, 7]` -> True\n",
    "\n",
    "`k = 0, nums = [0, 0]` -> True\n",
    "\n",
    "`k = 0, nums = [0, 2, 0]`  -> False\n",
    "\n",
    "`k = 0, nums = [0]`  -> False\n",
    "\n",
    "`k = -1, nums = [0 , 0]`  -> True"
   ],
   "metadata": {
    "collapsed": false,
    "pycharm": {
     "name": "#%% md\n"
    }
   }
  }
 ],
 "metadata": {
  "language_info": {
   "codemirror_mode": {
    "name": "ipython",
    "version": 2
   },
   "file_extension": ".py",
   "mimetype": "text/x-python",
   "name": "python",
   "nbconvert_exporter": "python",
   "pygments_lexer": "ipython2",
   "version": "2.7.6"
  },
  "kernelspec": {
   "name": "python3",
   "language": "python",
   "display_name": "Python 3"
  },
  "pycharm": {
   "stem_cell": {
    "cell_type": "raw",
    "source": [],
    "metadata": {
     "collapsed": false
    }
   }
  }
 },
 "nbformat": 4,
 "nbformat_minor": 0
}