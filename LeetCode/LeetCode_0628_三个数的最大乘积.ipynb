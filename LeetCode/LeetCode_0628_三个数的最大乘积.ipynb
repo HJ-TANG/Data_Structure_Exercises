{
 "cells": [
  {
   "cell_type": "markdown",
   "metadata": {
    "collapsed": true,
    "pycharm": {
     "name": "#%% md\n"
    }
   },
   "source": [
    "给定一个整型数组，在数组中找出由三个数组成的最大乘积，并输出这个乘积。（数字有正有负）"
   ]
  },
  {
   "cell_type": "markdown",
   "source": [
    "思路：最大的乘积，可以有两种情况：\n",
    "\n",
    "- 数组中最大的三个正数之积；\n",
    "- 最小的两个负数和最大的正数的乘积。\n",
    "\n",
    "因此求出这两种情况下的结果取较大值即可。\n",
    "\n",
    "时间复杂度：O(n)。遍历一遍数组即可。（如果直接对数组排序，然后取最大最小值，理论上排序复杂度是O(nlogn)）"
   ],
   "metadata": {
    "collapsed": false,
    "pycharm": {
     "name": "#%% md\n"
    }
   }
  },
  {
   "cell_type": "code",
   "execution_count": null,
   "outputs": [],
   "source": [
    "class Solution:\n",
    "    def maximumProduct(self, nums):\n",
    "        if len(nums) < 3:\n",
    "            return 0\n",
    "        mmax = [-float('inf'), -float('inf'), -float('inf')]\n",
    "        mmin = [float('inf'), -float('inf')]\n",
    "        \n",
    "        for n in nums:\n",
    "            if n >= mmax[0]:\n",
    "                mmax[0], mmax[1], mmax[2] = n, mmax[0], mmax[1]\n",
    "            elif mmax[1] <= n < mmax[0]:\n",
    "                mmax[1], mmax[2] = n, mmax[1]\n",
    "            elif n > mmax[2]:\n",
    "                mmax[2] = n\n",
    "                \n",
    "            if n <= mmin[0]:\n",
    "                mmin[0], mmin[1] = n, mmin[0]\n",
    "            elif n < mmin[1]:\n",
    "                mmin[1] = n\n",
    "        \n",
    "        return max(mmax[0]*mmax[1]*mmax[2] , mmax[0]*mmin[0]*mmin[1])"
   ],
   "metadata": {
    "collapsed": false,
    "pycharm": {
     "name": "#%%\n"
    }
   }
  }
 ],
 "metadata": {
  "language_info": {
   "codemirror_mode": {
    "name": "ipython",
    "version": 2
   },
   "file_extension": ".py",
   "mimetype": "text/x-python",
   "name": "python",
   "nbconvert_exporter": "python",
   "pygments_lexer": "ipython2",
   "version": "2.7.6"
  },
  "kernelspec": {
   "name": "python3",
   "language": "python",
   "display_name": "Python 3"
  },
  "pycharm": {
   "stem_cell": {
    "cell_type": "raw",
    "source": [],
    "metadata": {
     "collapsed": false
    }
   }
  }
 },
 "nbformat": 4,
 "nbformat_minor": 0
}