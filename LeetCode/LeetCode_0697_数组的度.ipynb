{
 "cells": [
  {
   "cell_type": "markdown",
   "metadata": {
    "collapsed": true,
    "pycharm": {
     "name": "#%% md\n"
    }
   },
   "source": [
    "题目：[LeetCode 0697](https://leetcode-cn.com/problems/degree-of-an-array/)\n",
    "\n",
    "给定一个非空且只包含非负数的整数数组 `nums`, 数组的度的定义是指数组里任一元素出现频数的最大值。\n",
    "\n",
    "你的任务是找到与 `nums` 拥有相同大小的度的最短连续子数组，返回其长度。\n"
   ]
  },
  {
   "cell_type": "markdown",
   "source": [
    "\n",
    "思路：假设在 `nums` 中，元素 `x`出现的频数最大，那么从 `x` 第一次出现的位置到 `x` 最后一次出现的位置的这个连续的数组\n",
    "一定是一个与 `nums` 拥有相同大小的度的连续子数组。至于是不是最短的连续子数组就要看是否有其他出现频数与 `x`\n",
    "一样多的元素，再比较他们连续子数组的长度，取较短的即为最终解。"
   ],
   "metadata": {
    "collapsed": false,
    "pycharm": {
     "name": "#%% md\n"
    }
   }
  },
  {
   "cell_type": "code",
   "execution_count": null,
   "outputs": [],
   "source": [
    "class Solution:\n",
    "    def findShortestSubArray(self, nums: List[int]) -> int:\n",
    "        # left用于存储某数字第一次出现的位置\n",
    "        # right用于存储某数字最后一次出现的位置\n",
    "        # count用于存储某数字出现的总的次数，values中的最大值即为数组的度\n",
    "        # 若某数字出现的次数=度，则它最后一次出现的位置-第一次出现的位置+1 即为一个可能的解。\n",
    "        left, right, count = {}, {}, {}\n",
    "        for i in range(len(nums)):\n",
    "            if nums[i] not in left:\n",
    "                left[nums[i]] = i\n",
    "            right[nums[i]] = i\n",
    "            count[nums[i]] = count.get(nums[i], 0) + 1\n",
    "\n",
    "        # 以下注释掉的部分如果取消掉，理论上可减少一次求degree时的遍历\n",
    "        degree = max(count.values())\n",
    "        # degree = 0\n",
    "        length = len(nums)\n",
    "        for num in nums:\n",
    "            # if count[num] > degree:\n",
    "            #     length = min(len(nums), right[num]-left[num]+1)\n",
    "            #     degree = count[num]\n",
    "            if count[num] == degree:\n",
    "                length = min(length, right[num]-left[num]+1)\n",
    "        return length\n"
   ],
   "metadata": {
    "collapsed": false,
    "pycharm": {
     "name": "#%%\n"
    }
   }
  }
 ],
 "metadata": {
  "kernelspec": {
   "display_name": "Python 3",
   "language": "python",
   "name": "python3"
  },
  "language_info": {
   "codemirror_mode": {
    "name": "ipython",
    "version": 2
   },
   "file_extension": ".py",
   "mimetype": "text/x-python",
   "name": "python",
   "nbconvert_exporter": "python",
   "pygments_lexer": "ipython2",
   "version": "2.7.6"
  },
  "pycharm": {
   "stem_cell": {
    "cell_type": "raw",
    "source": [],
    "metadata": {
     "collapsed": false
    }
   }
  }
 },
 "nbformat": 4,
 "nbformat_minor": 0
}