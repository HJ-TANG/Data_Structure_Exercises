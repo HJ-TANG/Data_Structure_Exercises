{
 "cells": [
  {
   "cell_type": "markdown",
   "metadata": {
    "collapsed": true,
    "pycharm": {
     "name": "#%% md\n"
    }
   },
   "source": [
    "给定一个整数数组`prices`，其中第`i`个元素代表了第`i`天的股票价格；非负整数`fee`代表了交易股票的手续费用。\n",
    "\n",
    "你可以无限次地完成交易，但是你每次交易都需要付手续费。如果你已经购买了一个股票，在卖出它之前你就不能再继续购买股票了。\n",
    "\n",
    "返回获得利润的最大值。\n"
   ]
  },
  {
   "cell_type": "markdown",
   "source": [
    "思路一：类似[买卖股票的最佳时机](https://github.com/HJ-TANG/Data_Structure_Exercises/blob/master/LeetCode/LeetCode_0121_买卖股票的最佳时机.ipynb)\n",
    "的思路，贪心算法，不过在判断是否比最小值大的时候要减去fee，而且最小值也要做相应的调整，调整为`mmin = prices[i] - fee`，理由如下：\n",
    "\n",
    "假设此次交易利润：`B - A - fee`， 下次交易利润：`D - C - fee`， 两次交易利润之和为 `B - A + D - C - fee * 2`， \n",
    "而只进行一次交易的利润为：`D - A - fee`，只有当两次交易利润之和大于只进行一次交易的利润，才会进行两次交易，\n",
    "因此：`B - A + D - C - fee * 2 > D - A - fee`，化简得 `B - fee > C`，即**下次交易的买入额要小于这次交易的卖出额-fee，才会获得更高总利润**。 \n",
    "这里设定`minimum`为`此次交易卖出额-fee`， 如果下一次股票价格比`minimum`小，说明值得买入（重新赋值`minimum`）； \n",
    "如果大于`minimum + fee`，则按照`minimum`来计算交易利润，计算结果等价于上一次交易不卖出，这次卖出（即公式里的`D - A - fee`）； \n",
    "而其他情况不值得交易（得不偿失或者根本没利润）。"
   ],
   "metadata": {
    "collapsed": false,
    "pycharm": {
     "name": "#%% md\n"
    }
   }
  },
  {
   "cell_type": "code",
   "execution_count": null,
   "outputs": [],
   "source": [
    "class Solution:\n",
    "    def maxProfit(self, prices, fee):\n",
    "        if len(prices) < 2:\n",
    "            return 0\n",
    "        ssum = 0\n",
    "        mmin = prices[0]\n",
    "        for i in range(1, len(prices)):\n",
    "            if prices[i] < mmin:\n",
    "                mmin = prices[i]\n",
    "            elif prices[i] - fee > mmin:\n",
    "                ssum += prices[i] - fee - mmin\n",
    "                mmin = prices[i] - fee  # 下次交易的买入额要小于这次交易的卖出额-fee，才会获得更高总利润\n",
    "        return ssum\n",
    "        "
   ],
   "metadata": {
    "collapsed": false,
    "pycharm": {
     "name": "#%%\n"
    }
   }
  },
  {
   "cell_type": "markdown",
   "source": [
    "思路二：还是在[买卖股票的最佳时机II](https://github.com/HJ-TANG/Data_Structure_Exercises/blob/master/LeetCode/LeetCode_0122_买卖股票的最佳时机II.ipynb)的动态规划版本上稍作修改。\n"
   ],
   "metadata": {
    "collapsed": false,
    "pycharm": {
     "name": "#%% md\n"
    }
   }
  },
  {
   "cell_type": "code",
   "execution_count": null,
   "outputs": [],
   "source": [
    "class Solution2:\n",
    "    def maxProfit(self, prices, fee):\n",
    "        if len(prices) < 2:\n",
    "            return 0\n",
    "        dp = [[0, 0] for _ in range(len(prices))]\n",
    "        dp[0][0], dp[0][1] = 0, -prices[0]\n",
    "        \n",
    "        for i in range(1, len(prices)):\n",
    "            dp[i][0] = max(dp[i-1][0], dp[i-1][1] + prices[i] - fee)  # 如果卖出的话，收益中要减去手续费\n",
    "            dp[i][1] = max(dp[i-1][1], dp[i-1][0] - prices[i])\n",
    "        return dp[len(prices)-1][0]"
   ],
   "metadata": {
    "collapsed": false,
    "pycharm": {
     "name": "#%%\n"
    }
   }
  }
 ],
 "metadata": {
  "language_info": {
   "codemirror_mode": {
    "name": "ipython",
    "version": 2
   },
   "file_extension": ".py",
   "mimetype": "text/x-python",
   "name": "python",
   "nbconvert_exporter": "python",
   "pygments_lexer": "ipython2",
   "version": "2.7.6"
  },
  "kernelspec": {
   "name": "python3",
   "language": "python",
   "display_name": "Python 3"
  },
  "pycharm": {
   "stem_cell": {
    "cell_type": "raw",
    "source": [],
    "metadata": {
     "collapsed": false
    }
   }
  }
 },
 "nbformat": 4,
 "nbformat_minor": 0
}