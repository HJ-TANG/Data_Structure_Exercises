{
 "cells": [
  {
   "cell_type": "markdown",
   "metadata": {
    "collapsed": true,
    "pycharm": {
     "name": "#%% md\n"
    }
   },
   "source": [
    "给两个整数数组`A`和`B`，返回两个数组中公共的、长度最长的子数组的长度。\n"
   ]
  },
  {
   "cell_type": "markdown",
   "source": [
    "思路一：暴力穷举。\n",
    "\n",
    "时间复杂度O(n*m^2)。当数组长度较长时，时间会超限。"
   ],
   "metadata": {
    "collapsed": false,
    "pycharm": {
     "name": "#%% md\n"
    }
   }
  },
  {
   "cell_type": "code",
   "execution_count": null,
   "outputs": [],
   "source": [
    "class Solution:\n",
    "    def findLength(self, A, B):\n",
    "        def core(long, short):\n",
    "            max_length = 0\n",
    "            for i in range(len(long)):\n",
    "                tmp = 0\n",
    "                for j in range(len(short)):\n",
    "                    tempi = i\n",
    "                    tempj = j\n",
    "                    while tempi < len(long) and tempj < len(short):\n",
    "                        if long[tempi] == short[tempj]:\n",
    "                            tmp += 1\n",
    "                            tempi += 1\n",
    "                            tempj += 1\n",
    "                        else:\n",
    "                            break\n",
    "                    max_length = max(max_length, tmp)\n",
    "                    tmp = 0\n",
    "                    if tempi == len(long):\n",
    "                        return max_length\n",
    "            return max_length\n",
    "\n",
    "        lena = len(A)\n",
    "        lenb = len(B)\n",
    "        if lena > lenb:\n",
    "            return core(A, B)\n",
    "        else:\n",
    "            return core(B, A)"
   ],
   "metadata": {
    "collapsed": false,
    "pycharm": {
     "name": "#%%\n"
    }
   }
  },
  {
   "cell_type": "markdown",
   "source": [
    "思路二：[动态规划](https://leetcode-cn.com/problems/maximum-length-of-repeated-subarray/solution/zui-chang-zhong-fu-zi-shu-zu-by-leetcode/)。\n",
    "\n",
    "设`dp[i][j]`为`A[i:]`和`B[j:]`的最长公共前缀，那么答案就为所有`dp[i][j]`中的最大值`max(dp[i][j])`。如果`A[i] == B[j]`，\n",
    "那么状态转移方程为`dp[i][j] = dp[i + 1][j + 1] + 1`，否则状态转移方程为`dp[i][j] = 0`。"
   ],
   "metadata": {
    "collapsed": false,
    "pycharm": {
     "name": "#%% md\n"
    }
   }
  },
  {
   "cell_type": "code",
   "execution_count": null,
   "outputs": [],
   "source": [
    "class Solution2:\n",
    "    def findLength(self, A, B) -> int:\n",
    "        dp = [[0 for _ in range(len(A)+1)] for _ in range(len(B)+1)]\n",
    "        \n",
    "        for i in range(len(A)-1, -1, -1):\n",
    "            for j in range(len(B)-1, -1, -1):\n",
    "                if A[i] == B[j]:\n",
    "                    dp[i][j] = dp[i+1][j+1] + 1\n",
    "                else:\n",
    "                    dp[i][j] = 0\n",
    "        \n",
    "        return max([max(x) for x in dp])"
   ],
   "metadata": {
    "collapsed": false,
    "pycharm": {
     "name": "#%%\n"
    }
   }
  }
 ],
 "metadata": {
  "language_info": {
   "codemirror_mode": {
    "name": "ipython",
    "version": 2
   },
   "file_extension": ".py",
   "mimetype": "text/x-python",
   "name": "python",
   "nbconvert_exporter": "python",
   "pygments_lexer": "ipython2",
   "version": "2.7.6"
  },
  "kernelspec": {
   "name": "python3",
   "language": "python",
   "display_name": "Python 3"
  },
  "pycharm": {
   "stem_cell": {
    "cell_type": "raw",
    "source": [],
    "metadata": {
     "collapsed": false
    }
   }
  }
 },
 "nbformat": 4,
 "nbformat_minor": 0
}