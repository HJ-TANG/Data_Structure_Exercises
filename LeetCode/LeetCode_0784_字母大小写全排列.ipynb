{
  "cells": [
    {
      "cell_type": "markdown",
      "metadata": {
        "collapsed": true,
        "pycharm": {
          "name": "#%% md\n"
        }
      },
      "source": "## LeetCode 784：字母大小写全排列\n\n给定一个字符串S，通过将字符串S中的每个字母转变大小写，我们可以获得一个新的字符串。返回所有可能得到的字符串集合。"
    },
    {
      "cell_type": "code",
      "execution_count": null,
      "outputs": [],
      "source": "class Solution:\n    def letterCasePermutation(self, S):\n        res \u003d []\n        l \u003d len(S)\n        if l \u003d\u003d 0:\n            return 0\n        \n        def permute(tmp, i):\n            # 递归结束条件：到达字符串结尾\n            # 将这个字符串加到结果集合中\n            if i \u003d\u003d l:\n                res.append(tmp)\n                return\n            # 若当前字符为数字\n            if S[i].isdigit():\n                # 将数字加到当前已处理字符串，继续递归处理下一个字符\n                permute(tmp+S[i], i+1)\n            else:\n                permute(tmp+S[i].lower(), i+1)\n                permute(tmp+S[i].upper(), i+1)\n        \n        permute(\"\", 0)\n        return res\n",
      "metadata": {
        "pycharm": {
          "metadata": false,
          "name": "#%%\n"
        }
      }
    }
  ],
  "metadata": {
    "language_info": {
      "codemirror_mode": {
        "name": "ipython",
        "version": 2
      },
      "file_extension": ".py",
      "mimetype": "text/x-python",
      "name": "python",
      "nbconvert_exporter": "python",
      "pygments_lexer": "ipython2",
      "version": "2.7.6"
    },
    "kernelspec": {
      "name": "pycharm-1ce6c0c3",
      "language": "python",
      "display_name": "PyCharm (Offer)"
    }
  },
  "nbformat": 4,
  "nbformat_minor": 0
}