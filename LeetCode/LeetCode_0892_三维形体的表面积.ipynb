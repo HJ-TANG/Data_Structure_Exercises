{
 "cells": [
  {
   "cell_type": "markdown",
   "metadata": {
    "collapsed": true,
    "pycharm": {
     "name": "#%% md\n"
    }
   },
   "source": [
    "在 N * N 的网格上，我们放置一些 1 * 1 * 1  的立方体。\n",
    "\n",
    "每个值 `v = grid[i][j]` 表示 v 个正方体叠放在对应单元格 `(i, j)` 上。\n",
    "\n",
    "请你返回最终形体的表面积。"
   ]
  },
  {
   "cell_type": "markdown",
   "source": [
    "思路：总面积等于上下表面积，加上侧边的面积。而第i行第j列的侧边的面积为`grid[i][j]`与四周的值的差（比周围高出多少）。"
   ],
   "metadata": {
    "collapsed": false,
    "pycharm": {
     "name": "#%% md\n"
    }
   }
  },
  {
   "cell_type": "code",
   "execution_count": null,
   "outputs": [],
   "source": [
    "class Solution:\n",
    "    def surfaceArea(self, grid):\n",
    "        n = len(grid)\n",
    "        m = len(grid[0])\n",
    "        # 构建一个大一圈的数组，方便计算\n",
    "        arr = [[0 for i in range(m+2)] for j in range(n+2)]\n",
    "        for i in range(1, n+1):\n",
    "            for j in range(1, m+1):\n",
    "                arr[i][j] = grid[i-1][j-1]\n",
    "        \n",
    "        sides = 0\n",
    "        for i in range(1, n+1):\n",
    "            for j in range(1, m+1):\n",
    "                sides += 2 if arr[i][j] > 0 else 0  # 如果该点的值为0，则上下表面的面积为0，否则为2\n",
    "                sides += max(arr[i][j]-arr[i-1][j], 0)  # 比上面的高出多少，如果比上面一个矮，则为0\n",
    "                sides += max(arr[i][j]-arr[i][j-1],0)\n",
    "                sides += max(arr[i][j]-arr[i][j+1],0)\n",
    "                sides += max(arr[i][j]-arr[i+1][j],0)\n",
    "        return sides"
   ],
   "metadata": {
    "collapsed": false,
    "pycharm": {
     "name": "#%%\n"
    }
   }
  },
  {
   "cell_type": "code",
   "execution_count": null,
   "outputs": [],
   "source": [
    "s = Solution()\n",
    "print(s.surfaceArea([[2]]))  # 10\n",
    "print(s.surfaceArea([[1,2],[3,4]]))  # 34\n",
    "print(s.surfaceArea([[1,0],[0,2]]))  # 16\n",
    "print(s.surfaceArea([[1,1,1],[1,0,1],[1,1,1]]))  # 32\n",
    "print(s.surfaceArea([[2,2,2],[2,1,2],[2,2,2]]))  # 46"
   ],
   "metadata": {
    "collapsed": false,
    "pycharm": {
     "name": "#%%\n"
    }
   }
  }
 ],
 "metadata": {
  "language_info": {
   "codemirror_mode": {
    "name": "ipython",
    "version": 2
   },
   "file_extension": ".py",
   "mimetype": "text/x-python",
   "name": "python",
   "nbconvert_exporter": "python",
   "pygments_lexer": "ipython2",
   "version": "2.7.6"
  },
  "kernelspec": {
   "name": "python3",
   "language": "python",
   "display_name": "Python 3"
  },
  "pycharm": {
   "stem_cell": {
    "cell_type": "raw",
    "source": [],
    "metadata": {
     "collapsed": false
    }
   }
  }
 },
 "nbformat": 4,
 "nbformat_minor": 0
}