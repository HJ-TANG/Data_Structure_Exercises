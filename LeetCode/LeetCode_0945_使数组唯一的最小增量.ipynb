{
 "cells": [
  {
   "cell_type": "markdown",
   "metadata": {
    "collapsed": true,
    "pycharm": {
     "name": "#%% md\n"
    }
   },
   "source": [
    "给定整数数组 A，每次 move 操作将会选择任意 `A[i]`，并将其递增 1。\n",
    "\n",
    "返回使 A 中的每个值都是唯一的最少操作次数。\n",
    "\n",
    "`0 <= A.length <= 40000`  `0 <= A[i] < 40000`"
   ]
  },
  {
   "cell_type": "markdown",
   "source": [
    "思路一：遍历数组。如果某个数字n出现k次，则将k-1个数字变成n+1。再接着遍历。"
   ],
   "metadata": {
    "collapsed": false,
    "pycharm": {
     "name": "#%% md\n"
    }
   }
  },
  {
   "cell_type": "code",
   "execution_count": null,
   "outputs": [],
   "source": [
    "class Solution:\n",
    "    def minIncrementForUnique(self, A):\n",
    "        from collections import Counter\n",
    "        dic = Counter(A)\n",
    "        cnt = 0\n",
    "        for x in range(40000+len(A)):\n",
    "            if dic[x] > 1:\n",
    "                dic[x + 1] += dic[x] - 1\n",
    "                cnt += dic[x] - 1\n",
    "                dic[x] = 1\n",
    "        return cnt"
   ],
   "metadata": {
    "collapsed": false,
    "pycharm": {
     "name": "#%%\n"
    }
   }
  },
  {
   "cell_type": "markdown",
   "source": [
    "思路二：将数组排序后，数组中第i个数字`A[i]`应该比前一个数字`A[i-1]`至少大1。差额+1就是应该move的次数。"
   ],
   "metadata": {
    "collapsed": false,
    "pycharm": {
     "name": "#%% md\n"
    }
   }
  },
  {
   "cell_type": "code",
   "execution_count": null,
   "outputs": [],
   "source": [
    "class Solution2:\n",
    "    def minIncrementForUnique(self, A):\n",
    "        A.sort()\n",
    "        cnt = 0\n",
    "        for i in range(1, len(A)):\n",
    "            if A[i] <= A[i-1]:\n",
    "                cnt += A[i-1] - A[i] + 1\n",
    "                A[i] = A[i-1] + 1\n",
    "        return cnt"
   ],
   "metadata": {
    "collapsed": false,
    "pycharm": {
     "name": "#%%\n"
    }
   }
  }
 ],
 "metadata": {
  "language_info": {
   "codemirror_mode": {
    "name": "ipython",
    "version": 2
   },
   "file_extension": ".py",
   "mimetype": "text/x-python",
   "name": "python",
   "nbconvert_exporter": "python",
   "pygments_lexer": "ipython2",
   "version": "2.7.6"
  },
  "kernelspec": {
   "name": "python3",
   "language": "python",
   "display_name": "Python 3"
  },
  "pycharm": {
   "stem_cell": {
    "cell_type": "raw",
    "source": [],
    "metadata": {
     "collapsed": false
    }
   }
  }
 },
 "nbformat": 4,
 "nbformat_minor": 0
}