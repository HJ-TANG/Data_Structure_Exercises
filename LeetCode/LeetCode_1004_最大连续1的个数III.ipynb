{
 "cells": [
  {
   "cell_type": "markdown",
   "metadata": {
    "collapsed": true,
    "pycharm": {
     "name": "#%% md\n"
    }
   },
   "source": [
    "给定一个由若干 0 和 1 组成的数组 A，我们最多可以将 K 个值从 0 变成 1 。\n",
    "\n",
    "返回仅包含 1 的最长（连续）子数组的长度。"
   ]
  },
  {
   "cell_type": "markdown",
   "source": [
    "[思路](https://leetcode-cn.com/problems/max-consecutive-ones-iii/solution/hua-dong-chuang-kou-10ms534mb-by-hadymic/)：\n",
    "\n",
    "使用双指针 left 和 right 指代窗口的左右边界，移动 right 指针遍历整个数组，\n",
    "同时维护一个变量 max，每次 right 移动计算一次当前的最大值。\n",
    "\n",
    "分析：\n",
    "\n",
    "分为以下几种情况：\n",
    "\n",
    "1. 当`A[right] = 1`时，`left`不变，`right`继续移动\n",
    "2. 当`A[right] = 0`时，\n",
    "  1. `0`的数量在`K`的范围内，`left`不变，`right`继续移动\n",
    "  2. `0`的数量`> K`，\n",
    "    - 当`A[left] == 0`时，即`left`指向了一个零，只需要`left`右移一格，就可以减少一个零\n",
    "    - 当`A[left] == 1`时，即此时窗口内包了`K`个零，需要先移动至下个零，再右移一格才能减少一个零"
   ],
   "metadata": {
    "collapsed": false,
    "pycharm": {
     "name": "#%% md\n"
    }
   }
  },
  {
   "cell_type": "code",
   "execution_count": null,
   "outputs": [],
   "source": [
    "class Solution:\n",
    "    def longestOnes(self, A, K):\n",
    "        left = 0  # 左指针\n",
    "        right = 0  # 右指针\n",
    "        res = 0  # 最后结果\n",
    "        tempk = 0  # 改动的0的个数\n",
    "        cnt = 0  # 记录当前连续的1个数\n",
    "        while right < len(A):\n",
    "            if A[right] == 0:  # 若A[right]=0，则将当前0改为1\n",
    "                tempk += 1\n",
    "            if A[right] == 1 or tempk <= K:  # 当A[right]=1 或者 A[right]=0 但改动的0的个数没超过K的时候，右指针++\n",
    "                cnt += 1\n",
    "                right += 1\n",
    "                continue\n",
    "            # 0的数量大于K\n",
    "            res = max(res, cnt)\n",
    "            # 当`A[left] == 1`时，即此时窗口内包了`K+1`个零，需要先移动至下个零，再右移一格才能减少一个零\n",
    "            while A[left] == 1:\n",
    "                left += 1\n",
    "                cnt -= 1\n",
    "            # 当`A[left] == 0`时，即`left`指向了一个零，只需要`left`右移一格，就可以减少一个零\n",
    "            if A[left] == 0:\n",
    "                tempk -= 1\n",
    "            left += 1\n",
    "            right += 1\n",
    "        res = max(res, cnt)\n",
    "        return res"
   ],
   "metadata": {
    "collapsed": false,
    "pycharm": {
     "name": "#%%\n"
    }
   }
  }
 ],
 "metadata": {
  "language_info": {
   "codemirror_mode": {
    "name": "ipython",
    "version": 2
   },
   "file_extension": ".py",
   "mimetype": "text/x-python",
   "name": "python",
   "nbconvert_exporter": "python",
   "pygments_lexer": "ipython2",
   "version": "2.7.6"
  },
  "kernelspec": {
   "name": "python3",
   "language": "python",
   "display_name": "Python 3"
  },
  "pycharm": {
   "stem_cell": {
    "cell_type": "raw",
    "source": [],
    "metadata": {
     "collapsed": false
    }
   }
  }
 },
 "nbformat": 4,
 "nbformat_minor": 0
}