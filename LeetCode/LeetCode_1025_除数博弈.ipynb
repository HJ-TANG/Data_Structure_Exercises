{
 "cells": [
  {
   "cell_type": "markdown",
   "metadata": {
    "collapsed": true,
    "pycharm": {
     "name": "#%% md\n"
    }
   },
   "source": [
    "爱丽丝和鲍勃一起玩游戏，他们轮流行动。爱丽丝先手开局。\n",
    "\n",
    "最初，黑板上有一个数字 `N` 。在每个玩家的回合，玩家需要执行以下操作：\n",
    "\n",
    "- 选出任一`x`，满足 `0 < x < N` 且 `N % x == 0` 。\n",
    "- 用 `N - x` 替换黑板上的数字 `N` 。\n",
    "\n",
    "如果玩家无法执行这些操作，就会输掉游戏。\n",
    "\n",
    "只有在爱丽丝在游戏中取得胜利时才返回 `True`，否则返回 `False`。假设两个玩家都以最佳状态参与游戏。\n",
    "\n",
    "来源：https://leetcode-cn.com/problems/divisor-game"
   ]
  },
  {
   "cell_type": "markdown",
   "source": [
    "思路：两种思路。详解见[这里](https://leetcode-cn.com/problems/divisor-game/solution/chu-shu-bo-yi-by-leetcode-solution/)。\n",
    "\n",
    "1. 一是用数学归纳法找出`N`和最后结果之间的关系；\n",
    "2. 第二种是用递推（动态规划）的方法，找出 `f(i)` 和 `f(i-x)` 之间的关系，`0<i<=N`，`x`为所有满足 `i % x == 0`的值。"
   ],
   "metadata": {
    "collapsed": false
   }
  },
  {
   "cell_type": "code",
   "execution_count": null,
   "outputs": [],
   "source": [
    "# 思路一的解法\n",
    "\n",
    "class Solution:\n",
    "    def divisorGame(self, N):\n",
    "        return N % 2 == 0"
   ],
   "metadata": {
    "collapsed": false,
    "pycharm": {
     "name": "#%%\n"
    }
   }
  },
  {
   "cell_type": "code",
   "execution_count": null,
   "outputs": [],
   "source": [
    "# 思路二的解法\n",
    "\n",
    "class Solution:\n",
    "    def divisorGame(self, N):\n",
    "        if N == 1:\n",
    "            return False\n",
    "        res = [False for _ in range(N+1)]\n",
    "        res[1] = False  # N = 1, 先手必败\n",
    "        res[2] = True  # N = 2, 先手必胜\n",
    "\n",
    "        for i in range(3, N+1):\n",
    "            x = 1\n",
    "            while x < i:\n",
    "                if i % x == 0 and res[i-x] is False:  # 只要Alice能找到一个先手必败的值i-x给Bob\n",
    "                    res[i] = True\n",
    "                    break\n",
    "                x += 1\n",
    "        \n",
    "        return res[N]\n"
   ],
   "metadata": {
    "collapsed": false,
    "pycharm": {
     "name": "#%%\n"
    }
   }
  }
 ],
 "metadata": {
  "kernelspec": {
   "display_name": "Python 3",
   "language": "python",
   "name": "python3"
  },
  "language_info": {
   "codemirror_mode": {
    "name": "ipython",
    "version": 2
   },
   "file_extension": ".py",
   "mimetype": "text/x-python",
   "name": "python",
   "nbconvert_exporter": "python",
   "pygments_lexer": "ipython2",
   "version": "2.7.6"
  },
  "pycharm": {
   "stem_cell": {
    "cell_type": "raw",
    "source": [],
    "metadata": {
     "collapsed": false
    }
   }
  }
 },
 "nbformat": 4,
 "nbformat_minor": 0
}