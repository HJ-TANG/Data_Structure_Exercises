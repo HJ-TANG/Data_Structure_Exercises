{
  "cells": [
    {
      "cell_type": "markdown",
      "metadata": {
        "collapsed": true,
        "pycharm": {
          "name": "#%% md\n"
        }
      },
      "source": "## LeetCode 1094：拼车\n\n题目链接：https://leetcode-cn.com/problems/car-pooling/"
    },
    {
      "cell_type": "code",
      "execution_count": null,
      "outputs": [],
      "source": "class Solution:\n    def carPooling(self, trips, capacity):\n        \"\"\"\n        只记录上下车位置处的总人数，时间上很优的解法。\n        \"\"\"\n        from collections import defaultdict\n        dic \u003d defaultdict(int)\n        for i in trips:\n            dic[i[1]] +\u003d i[0]\n            dic[i[2]] -\u003d i[0]\n        cnt\u003d0\n        for i in sorted(dic):\n            cnt +\u003d dic[i]\n            if cnt \u003e capacity:\n                return False\n        return True\n    ",
      "metadata": {
        "pycharm": {
          "metadata": false,
          "name": "#%%\n"
        }
      }
    },
    {
      "cell_type": "code",
      "execution_count": null,
      "outputs": [],
      "source": "class Solution2:\n    def carPooling(self, trips, capacity):\n        \"\"\"\n        记录途径的每个位置点的人数，看每个点是不是超过最大人数。思路比较简单。\n        \"\"\"\n        from collections import defaultdict\n        numbers \u003d defaultdict(int)\n        for trip in trips:\n            for i in range(trip[1], trip[2]):\n                numbers[i] +\u003d trip[0]\n        for n in numbers.keys():\n            if numbers[n] \u003e capacity:\n                return False\n        return True\n",
      "metadata": {
        "pycharm": {
          "metadata": false,
          "name": "#%%\n"
        }
      }
    }
  ],
  "metadata": {
    "language_info": {
      "codemirror_mode": {
        "name": "ipython",
        "version": 2
      },
      "file_extension": ".py",
      "mimetype": "text/x-python",
      "name": "python",
      "nbconvert_exporter": "python",
      "pygments_lexer": "ipython2",
      "version": "2.7.6"
    },
    "kernelspec": {
      "name": "pycharm-1ce6c0c3",
      "language": "python",
      "display_name": "PyCharm (Offer)"
    }
  },
  "nbformat": 4,
  "nbformat_minor": 0
}