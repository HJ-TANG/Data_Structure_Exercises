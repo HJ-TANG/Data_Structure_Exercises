{
  "cells": [
    {
      "cell_type": "markdown",
      "metadata": {
        "collapsed": true,
        "pycharm": {}
      },
      "source": [
        "1. 快速排序"
      ]
    },
    {
      "cell_type": "code",
      "execution_count": 9,
      "metadata": {
        "pycharm": {}
      },
      "outputs": [],
      "source": "def quick_sort(array, left, right):\n    if left \u003e\u003d right:\n        return \n    key \u003d array[left]\n    i \u003d left\n    j \u003d right\n    while i \u003c j:\n        while array[j] \u003e\u003d key and i \u003c j:\n            j -\u003d 1\n        array[i] \u003d array[j]\n        while array[i] \u003c\u003d key and i \u003c j:\n            i +\u003d 1\n        array[j] \u003d array[i]\n    array[i] \u003d key\n    \n    quick_sort(array, left, i-1)\n    quick_sort(array, i+1, right)"
    },
    {
      "cell_type": "code",
      "execution_count": 12,
      "metadata": {
        "pycharm": {}
      },
      "outputs": [
        {
          "name": "stdout",
          "output_type": "stream",
          "text": [
            "[2, 3, 4, 4, 4, 5, 23, 53, 54, 73, 82, 343, 778]\n"
          ]
        }
      ],
      "source": [
        "arr \u003d [3,2,5,343,4,53,4,54,23,4,73,82,778]\n",
        "quick_sort(arr, 0, len(arr)-1)\n",
        "print(arr)"
      ]
    },
    {
      "cell_type": "code",
      "execution_count": 15,
      "metadata": {
        "pycharm": {}
      },
      "outputs": [],
      "source": [
        "def quick_sort_2(array, left, right):\n",
        "    if left \u003e\u003d right:\n",
        "        return \n",
        "    p \u003d partition(array, left, right)\n",
        "    quick_sort_2(array, left, p-1)\n",
        "    quick_sort_2(array, p+1, right)\n",
        "\n",
        "\n",
        "def partition(array, left, right):\n",
        "    x \u003d array[right]\n",
        "    i \u003d left - 1\n",
        "    for j in range(left, right):\n",
        "        if array[j] \u003c x:\n",
        "            i +\u003d 1\n",
        "            array[i], array[j] \u003d array[j], array[i]\n",
        "    array[i+1], array[right] \u003d array[right], array[i+1]\n",
        "    return i + 1"
      ]
    },
    {
      "cell_type": "code",
      "execution_count": 16,
      "metadata": {
        "pycharm": {}
      },
      "outputs": [
        {
          "name": "stdout",
          "output_type": "stream",
          "text": [
            "[2, 3, 4, 4, 4, 5, 23, 53, 54, 73, 82, 343, 778]\n"
          ]
        }
      ],
      "source": [
        "arr \u003d [3,2,5,343,4,53,4,54,23,4,73,82,778]\n",
        "quick_sort_2(arr, 0, len(arr)-1)\n",
        "print(arr)"
      ]
    },
    {
      "cell_type": "markdown",
      "metadata": {
        "pycharm": {}
      },
      "source": [
        "2.归并排序"
      ]
    },
    {
      "cell_type": "code",
      "execution_count": 23,
      "metadata": {
        "pycharm": {}
      },
      "outputs": [],
      "source": [
        "def merge_sort(array):\n",
        "    if len(array) \u003c\u003d 1:\n",
        "        return array\n",
        "    mid \u003d len(array) // 2\n",
        "    left \u003d merge_sort(array[:mid])\n",
        "    right \u003d merge_sort(array[mid:])\n",
        "    return merge(left, right)\n",
        "\n",
        "\n",
        "def merge(left, right):\n",
        "    \"\"\"合并两个已排序好的列表，产生一个新的已排序好的列表\"\"\"\n",
        "    pl \u003d 0\n",
        "    pr \u003d 0\n",
        "    result \u003d []\n",
        "    while pl \u003c len(left) and pr \u003c len(right):\n",
        "        if left[pl] \u003c right[pr]:\n",
        "            result.append(left[pl])\n",
        "            pl +\u003d 1\n",
        "        else:\n",
        "            result.append(right[pr])\n",
        "            pr +\u003d 1\n",
        "    # if pl \u003e\u003d len(left):\n",
        "    result.extend(right[pr:])\n",
        "    # if pr \u003e\u003d len(right):\n",
        "    result.extend(left[pl:])\n",
        "    return result"
      ]
    },
    {
      "cell_type": "code",
      "execution_count": 24,
      "metadata": {
        "pycharm": {}
      },
      "outputs": [
        {
          "name": "stdout",
          "output_type": "stream",
          "text": [
            "[2, 3, 4, 4, 4, 5, 23, 53, 54, 73, 82, 343, 778]\n"
          ]
        }
      ],
      "source": [
        "arr \u003d [3,2,5,343,4,53,4,54,23,4,73,82,778]\n",
        "arr_new \u003d merge_sort(arr)\n",
        "print(arr_new)"
      ]
    },
    {
      "cell_type": "markdown",
      "metadata": {
        "pycharm": {
          "name": "#%% md\n"
        }
      },
      "source": "3. 堆排序\n\n"
    }
  ],
  "metadata": {
    "kernelspec": {
      "display_name": "Python 2",
      "language": "python",
      "name": "python2"
    },
    "language_info": {
      "codemirror_mode": {
        "name": "ipython",
        "version": 2
      },
      "file_extension": ".py",
      "mimetype": "text/x-python",
      "name": "python",
      "nbconvert_exporter": "python",
      "pygments_lexer": "ipython2",
      "version": "2.7.6"
    }
  },
  "nbformat": 4,
  "nbformat_minor": 0
}