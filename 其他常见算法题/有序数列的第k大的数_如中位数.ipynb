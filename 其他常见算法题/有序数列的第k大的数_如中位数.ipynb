{
 "cells": [
  {
   "cell_type": "markdown",
   "metadata": {
    "collapsed": true
   },
   "source": [
    "## 题目一：两个有序数列的中位数"
   ]
  },
  {
   "cell_type": "markdown",
   "metadata": {},
   "source": [
    "### 思路1：分别定义两个指针，等两个和为(m+n)/2时，即为中位数。\n",
    "\n",
    "复杂度为O(m+n)\n",
    "\n",
    "同理可推广到两个有序数列第k小的数。"
   ]
  },
  {
   "cell_type": "code",
   "execution_count": 20,
   "metadata": {},
   "outputs": [],
   "source": [
    "def find_medien(arr1, arr2):\n",
    "    if len(arr_1) == 0 and len(arr_2) == 0:\n",
    "        return None\n",
    "    p1 = 0\n",
    "    p2 = 0\n",
    "    mid = (len(arr1) + len(arr2))//2\n",
    "    i = 0\n",
    "    while i <= mid:\n",
    "        if p1 < len(arr_1) and p2 < len(arr_2):\n",
    "            if arr1[p1] <= arr2[p2]:\n",
    "                p1 += 1\n",
    "            else:\n",
    "                p2 += 1\n",
    "        elif p1 > len(arr_1):\n",
    "            p2 += 1\n",
    "        else:\n",
    "            p1 += 1\n",
    "        i += 1\n",
    "    if p1 < len(arr_1) and p2 < len(arr_2):    \n",
    "        return max(arr1[p1], arr2[p2])\n",
    "    elif p1 >= len(arr_1):\n",
    "        return arr_2[p2]\n",
    "    else:\n",
    "        return arr_1[p1]"
   ]
  },
  {
   "cell_type": "code",
   "execution_count": 23,
   "metadata": {},
   "outputs": [
    {
     "name": "stdout",
     "output_type": "stream",
     "text": [
      "[1 3 5]\n[ 1  3  5  7  9 11 13 15 17 19]\n7\n\nNone\n\n[ 1  3  5  7  9 11 13 15 17 19]\n11\n"
     ]
    }
   ],
   "source": [
    "import numpy as np\n",
    "arr_1 = np.arange(1, 6, 2)\n",
    "print(arr_1)\n",
    "arr_2 = np.arange(1, 21, 2)\n",
    "print(arr_2)\n",
    "print(find_medien(arr_1, arr_2))\n",
    "print()\n",
    "\n",
    "arr_1 = []\n",
    "arr_2 = []\n",
    "print(find_medien(arr_1, arr_2))\n",
    "\n",
    "print()\n",
    "arr_1 = []\n",
    "arr_2 = np.arange(1, 21, 2)\n",
    "print(arr_2)\n",
    "print(find_medien(arr_1, arr_2))"
   ]
  },
  {
   "cell_type": "markdown",
   "metadata": {},
   "source": [
    "### 思路2：折半查找\n",
    "\n",
    "详细思路参考：https://www.cnblogs.com/TenosDoIt/p/3554479.html\n",
    "\n",
    "复杂度为O(log(m+n))"
   ]
  },
  {
   "cell_type": "code",
   "execution_count": null,
   "metadata": {},
   "outputs": [],
   "source": []
  }
 ],
 "metadata": {
  "kernelspec": {
   "display_name": "Python 2",
   "language": "python",
   "name": "python2"
  },
  "language_info": {
   "codemirror_mode": {
    "name": "ipython",
    "version": 2
   },
   "file_extension": ".py",
   "mimetype": "text/x-python",
   "name": "python",
   "nbconvert_exporter": "python",
   "pygments_lexer": "ipython2",
   "version": "2.7.6"
  }
 },
 "nbformat": 4,
 "nbformat_minor": 0
}
