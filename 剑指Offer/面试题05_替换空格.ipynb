{
 "cells": [
  {
   "cell_type": "markdown",
   "metadata": {
    "collapsed": true,
    "pycharm": {}
   },
   "source": [
    "## 面试题5：替换空格\n",
    "\n",
    "题目：请实现一个函数，将一个字符串中的空格替换成``%20''。例如，当字符串为``We Are Happy''.则经过替换之后的字符串为``We%20Are%20Happy''。（注意：书中使用语言为C，字符串相当于字符型数组，其值可以改变，而python中字符串为不可变对象。）\n",
    "\n",
    "Python的简单实现："
   ]
  },
  {
   "cell_type": "code",
   "execution_count": 29,
   "metadata": {
    "pycharm": {}
   },
   "outputs": [
    {
     "name": "stdout",
     "output_type": "stream",
     "text": [
      "We%20are%20happy.\nWe%20are%20happy.\nWe_are_happy.\nWe_are_happy.\n"
     ]
    }
   ],
   "source": [
    "class SolutionInPython:\n",
    "    def replace_solution_1(self, str_in, str_search, str_replace):\n",
    "        # if isinstance(str_in, str) and isinstance(str_search, str) \\\n",
    "        #         and isinstance(str_replace, str):\n",
    "        #     return str_in.replace(str_search, str_replace)\n",
    "        # else:\n",
    "        #     print(\"Not String!\")\n",
    "        return str_in.replace(str_search, str_replace)\n",
    "    \n",
    "    def replace_solution_2(self, str_in, str_search, str_replace):\n",
    "        # if isinstance(str_in, str) and isinstance(str_search, str) \\\n",
    "        #         and isinstance(str_replace, str):\n",
    "        #     return str_replace.join(str_in.split(str_search))\n",
    "        # else:\n",
    "        #     print(\"Not String!\")\n",
    "        return str_replace.join(str_in.split(str_search))\n",
    "            \n",
    "\n",
    "s = SolutionInPython()\n",
    "str_input_1 = 'We are happy.'\n",
    "str_out_1 = s.replace_solution_1(str_input_1, ' ', '%20')\n",
    "print(str_out_1)\n",
    "str_out_2 = s.replace_solution_2(str_input_1, ' ', '%20')\n",
    "print(str_out_2)\n",
    "\n",
    "str_input_2 = 'We_are_happy.'\n",
    "str_out_3 = s.replace_solution_1(str_input_2, ' ', '%20')\n",
    "print(str_out_3)\n",
    "str_out_4 = s.replace_solution_2(str_input_2, ' ', '%20')\n",
    "print(str_out_4)"
   ]
  },
  {
   "cell_type": "markdown",
   "metadata": {
    "pycharm": {}
   },
   "source": [
    "将字符串看成字符型数组，其值可变，使用书中所说方法，用python实现：\n",
    "\n",
    "算法1：时间复杂度O(n^2)。从头到尾扫描字符串，每次碰到空格字符的时候替换。由于是把1个字符替换成3个字符，必须要把空格后面所有的字符都后移2字节，否则会有两个字符被覆盖。效率比较低。\n",
    "\n",
    "算法2：时间复杂度O(n)。将从前向后替换改成从后向前替换。先遍历一次字符串，统计出字符串中总的空格数，则可以计算出替换之后的字符串的总长度。然后从字符串的后面开始替换。注意设置相应的index变量分别指向原字符串和新字符串的末尾。"
   ]
  },
  {
   "cell_type": "code",
   "execution_count": 30,
   "metadata": {
    "pycharm": {}
   },
   "outputs": [
    {
     "name": "stdout",
     "output_type": "stream",
     "text": [
      "We are happy.\nWe_are_happy.\nNot String!\nNone\n"
     ]
    }
   ],
   "source": [
    "class NewSolution(SolutionInPython):\n",
    "    def replace_solution_3(self, str_in, char_search, str_replace):\n",
    "        # if isinstance(str_in, str) and isinstance(char_search, str) \\\n",
    "        #         and isinstance(str_replace, str):\n",
    "        #     arr_in = list(str_in)\n",
    "        #     arr_replace = list(str_replace)\n",
    "        # else:\n",
    "        #     print(\"Not String!\")\n",
    "        #     return \n",
    "        arr_in = list(str_in)\n",
    "        arr_replace = list(str_replace)\n",
    "        space_count = 0\n",
    "        origin_end = len(arr_in) - 1\n",
    "        for i in range(len(arr_in)):\n",
    "            if arr_in[i] == char_search:\n",
    "                space_count += 1\n",
    "        arr_in.extend([' '] * space_count * (len(str_replace)-1))\n",
    "        new_end = len(arr_in) - 1\n",
    "        while origin_end > 0:\n",
    "            if arr_in[origin_end] == char_search:\n",
    "                for i in range(len(str_replace)-1, -1, -1):\n",
    "                    arr_in[new_end] = arr_replace[i]\n",
    "                    new_end -= 1\n",
    "            else:\n",
    "                arr_in[new_end] = arr_in[origin_end]\n",
    "                new_end -= 1\n",
    "            origin_end -= 1\n",
    "        return ''.join(arr_in) \n",
    "    \n",
    "\n",
    "new_s = NewSolution()\n",
    "str_input_1 = 'We are happy.'\n",
    "str_out_1 = new_s.replace_solution_3(str_input_1, ' ', '%20')\n",
    "print(str_input_1)\n",
    "str_input_2 = 'We_are_happy.'\n",
    "str_out_2 = new_s.replace_solution_3(str_input_2, ' ', '%20')\n",
    "print(str_out_2)\n",
    "str_input_3 = 'We are happy.'\n",
    "str_out_3 = new_s.replace_solution_3(str_input_3, ' ', 1234)\n",
    "print(str_out_3)"
   ]
  },
  {
   "cell_type": "markdown",
   "metadata": {
    "pycharm": {}
   },
   "source": [
    "举一反三：有两个排序的数组A1和A2。请实现一个函数，把A2中的所有数字插入A1中，并且所有的数字是排序的。\n",
    "\n",
    "思路1：直接插入，然后进行排序。\n",
    "\n",
    "思路2：对于每个A2中的数字，在A1中进行二分查找并插入。\n",
    "\n",
    "思路3：按照上面字符替换的思路，从尾到头比较A1和A2中的数字，并把较大的数字复制到A1中的合适位置。时间复杂度为O(n)。"
   ]
  },
  {
   "cell_type": "code",
   "execution_count": 2,
   "metadata": {
    "pycharm": {
     "is_executing": false
    }
   },
   "outputs": [
    {
     "name": "stdout",
     "text": [
      "[1, 2, 4, 5, 5, 6, 20, 25, 30]\n"
     ],
     "output_type": "stream"
    }
   ],
   "source": "class MergeArray:\n    @staticmethod\n    def merge_two_array(arr1, arr2):\n        \"\"\"\n        Insert all the numbers in A2 into A1, and all the numbers are sorted.\n        :param arr1: integer array A1, results are saved in this array\n        :param arr2: integer array A2\n        \"\"\"\n        if not (isinstance(arr1, list)) or not (isinstance(arr2, list)):\n            return\n        else:\n            p1 = len(arr1) - 1\n            arr1.extend(len(arr2) * [0])\n            p2 = len(arr2) - 1\n            p3 = len(arr1) - 1\n            while p1 >= 0 and p2 >= 0:\n                if arr1[p1] < arr2[p2]:\n                    arr1[p3] = arr2[p2]\n                    p2 -= 1\n                else:\n                    arr1[p3] = arr1[p1]\n                    p1 -= 1\n                p3 -= 1\n            if p1 < 0:\n                for i in range(p2, -1, -1):\n                    arr1[i] = arr2[i]\n                    \n\nma = MergeArray()\narr_1 = [1, 5, 6, 20]\narr_2 = [2, 4, 5, 25, 30]\nma.merge_two_array(arr_1, arr_2)\nprint(arr_1)"
  },
  {
   "cell_type": "markdown",
   "metadata": {
    "pycharm": {}
   },
   "source": [
    "LeetCode#283：Given an array nums, write a function to move all 0's to the end of it while maintaining the relative order of the non-zero elements.\n",
    "\n",
    "Notes: \n",
    "\n",
    "1. You must do this in-place without making a copy of the array.\n",
    "\n",
    "2. Minimize the total number of operations.\n"
   ]
  },
  {
   "cell_type": "code",
   "execution_count": 3,
   "metadata": {
    "pycharm": {}
   },
   "outputs": [
    {
     "name": "stdout",
     "output_type": "stream",
     "text": [
      "[4, 2, 4, 0, 0, 3, 0, 5, 1, 0]\n[4, 2, 4, 3, 5, 1, 0, 0, 0, 0]\n"
     ]
    }
   ],
   "source": [
    "class Solution:\n",
    "    def moveZeroes(self, nums: 'List[int]') -> 'None':\n",
    "        \"\"\"\n",
    "        Do not return anything, modify nums in-place instead.\n",
    "        \"\"\"\n",
    "        nr_of_zero = 0\n",
    "        for i in range(len(nums)):\n",
    "            if nums[i] == 0:\n",
    "                nr_of_zero += 1\n",
    "        if nr_of_zero == 0:\n",
    "            return\n",
    "\n",
    "        length = len(nums)\n",
    "        start = 0\n",
    "\n",
    "        for i in range(length):\n",
    "            if nums[i] != 0:\n",
    "                nums[start] = nums[i]\n",
    "                start += 1\n",
    "        for i in range(length-1, length - nr_of_zero - 1, -1):\n",
    "            nums[i] = 0\n",
    "\n",
    "\n",
    "s = Solution()\n",
    "nums_in = [4, 2, 4, 0, 0, 3, 0, 5, 1, 0]\n",
    "print(nums_in)\n",
    "s.moveZeroes(nums_in)\n",
    "print(nums_in)"
   ]
  },
  {
   "cell_type": "code",
   "execution_count": null,
   "metadata": {
    "pycharm": {}
   },
   "outputs": [],
   "source": []
  }
 ],
 "metadata": {
  "kernelspec": {
   "name": "python3",
   "language": "python",
   "display_name": "Python 3"
  },
  "language_info": {
   "codemirror_mode": {
    "name": "ipython",
    "version": 2
   },
   "file_extension": ".py",
   "mimetype": "text/x-python",
   "name": "python",
   "nbconvert_exporter": "python",
   "pygments_lexer": "ipython2",
   "version": "2.7.6"
  },
  "pycharm": {
   "stem_cell": {
    "cell_type": "raw",
    "source": [],
    "metadata": {
     "collapsed": false
    }
   }
  }
 },
 "nbformat": 4,
 "nbformat_minor": 0
}