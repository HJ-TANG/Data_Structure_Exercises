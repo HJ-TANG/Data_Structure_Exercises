{
  "cells": [
    {
      "cell_type": "markdown",
      "metadata": {
        "collapsed": true,
        "pycharm": {
          "name": "#%% md\n"
        }
      },
      "source": "## 面试题09：用两个栈实现队列\n\n题目：用两个栈来实现一个队列，完成队列的Push和Pop操作。即用两个先进后出的栈的来实现一个先进先出的队列。\n\n思路：假设有两个栈：stack1和stack2。stack1负责压入，stack2负责弹出。\n\n添加元素直接压入stack1，而删除元素有以下步骤：当stack2为空时，把stack1中每每个元素逐个弹出并压入有stack2，\n。由于先进入队列的元素被压到stack1的底端，经过弹出和压入操作以后就处于stack2的栈顶，就可以直接弹出了。"
    },
    {
      "cell_type": "code",
      "execution_count": null,
      "outputs": [],
      "source": "class Solution:\n    def __init__(self):\n        self.stack1 \u003d []\n        self.stack2 \u003d []\n\n    def push(self, node):\n        # write code here\n        self.stack1.append(node)\n\n    def pop(self):\n        if len(self.stack2) \u003d\u003d 0:\n            while self.stack1:\n                self.stack2.append(self.stack1.pop())\n        if len(self.stack2) \u003d\u003d 0:\n            return None\n        else:\n            return self.stack2.pop()",
      "metadata": {
        "pycharm": {
          "metadata": false,
          "name": "#%%\n"
        }
      }
    },
    {
      "cell_type": "markdown",
      "source": "扩展：用两个队列实现一个栈。\n\n思路：两个队列的元素“互捣”。",
      "metadata": {
        "pycharm": {
          "metadata": false,
          "name": "#%% md\n"
        }
      }
    },
    {
      "cell_type": "code",
      "execution_count": null,
      "outputs": [],
      "source": "class Solution2:\n    def __init__(self):\n        self.queue1 \u003d []\n        self.queue2 \u003d []\n\n    def push(self, node):\n        # write code here\n        if self.queue1:  # 如果队列1不为空\n            self.queue1.insert(0, node)\n        else:\n            self.queue2.insert(0, node)\n\n    def pop(self):\n        if self.queue1:\n            while len(self.queue1) \u003e 1:\n                self.queue2.insert(0, self.queue1.pop())\n            else:\n                return self.queue1.pop()\n        elif self.queue2:\n            while len(self.queue2) \u003e 1:\n                self.queue1.insert(0, self.queue2.pop())\n            else:\n                return self.queue2.pop()\n        else:\n            return None",
      "metadata": {
        "pycharm": {
          "metadata": false,
          "name": "#%%\n"
        }
      }
    },
    {
      "cell_type": "markdown",
      "source": "测试",
      "metadata": {
        "pycharm": {
          "metadata": false,
          "name": "#%% md\n"
        }
      }
    },
    {
      "cell_type": "code",
      "execution_count": null,
      "outputs": [],
      "source": "if __name__ \u003d\u003d \"__main__\":\n    a \u003d Solution()\n    a.push(1)\n    a.push(7)\n    a.push(3)\n    a.push(5)\n    print(a.pop())\n    print(a.pop())\n    print(a.pop())\n    print(a.pop())\n    print(a.pop())",
      "metadata": {
        "pycharm": {
          "metadata": false,
          "name": "#%%\n"
        }
      }
    }
  ],
  "metadata": {
    "language_info": {
      "codemirror_mode": {
        "name": "ipython",
        "version": 2
      },
      "file_extension": ".py",
      "mimetype": "text/x-python",
      "name": "python",
      "nbconvert_exporter": "python",
      "pygments_lexer": "ipython2",
      "version": "2.7.6"
    },
    "kernelspec": {
      "name": "pycharm-1ce6c0c3",
      "language": "python",
      "display_name": "PyCharm (Offer)"
    }
  },
  "nbformat": 4,
  "nbformat_minor": 0
}