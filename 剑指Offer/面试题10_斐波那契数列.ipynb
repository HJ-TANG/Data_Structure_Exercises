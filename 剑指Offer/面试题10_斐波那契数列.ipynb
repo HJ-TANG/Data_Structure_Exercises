{
 "cells": [
  {
   "cell_type": "markdown",
   "metadata": {
    "collapsed": true
   },
   "source": [
    "## 面试题10：斐波那契数列\n",
    "\n",
    "### 题目一：求斐波那契数列的第n项。"
   ]
  },
  {
   "cell_type": "code",
   "execution_count": 3,
   "metadata": {},
   "outputs": [],
   "source": [
    "class Solution1:\n",
    "    def fibonacci_recursive(self, n):\n",
    "        \"\"\"\n",
    "        Recursive solution.\n",
    "        \"\"\"\n",
    "        if n == 0:\n",
    "            return 0\n",
    "        if n == 1:\n",
    "            return 1\n",
    "        return self.fibonacci_recursive(n-1) + self.fibonacci_recursive(n-2)\n",
    "    \n",
    "    def fibonacci_iterative(self, n):\n",
    "        \"\"\"\n",
    "        Iterative solution.\n",
    "        \"\"\"\n",
    "        if n < 2:\n",
    "            return n\n",
    "        fibo_minus_1 = 1\n",
    "        fibo_minus_2 = 0\n",
    "        i = 2\n",
    "        fibo_n = 0\n",
    "        while i <= n:\n",
    "            fibo_n = fibo_minus_1 + fibo_minus_2\n",
    "            fibo_minus_2 = fibo_minus_1\n",
    "            fibo_minus_1 = fibo_n\n",
    "            i += 1\n",
    "        return fibo_n"
   ]
  },
  {
   "cell_type": "markdown",
   "metadata": {},
   "source": [
    "### 题目二：青蛙跳台阶问题\n",
    "\n",
    "1. 一只青蛙一次可以跳上1级台阶，也可以跳上2级台阶，求该青蛙跳上n级台阶一共有多少种跳法。\n",
    "\n",
    "2. 一只青蛙一次可以跳上1级台阶，也可以跳上2级...也可以跳上n级，求此时一共有多少种跳法。（迭代或数学归纳法）"
   ]
  },
  {
   "cell_type": "code",
   "execution_count": 5,
   "metadata": {},
   "outputs": [],
   "source": [
    "class Solution2:\n",
    "    def jump_floor(self, n):\n",
    "        if n < 3:\n",
    "            return n\n",
    "        fibo_minus_1 = 2\n",
    "        fibo_minus_2 = 1\n",
    "        i = 3\n",
    "        fibo_n = 0\n",
    "        while i <= n:\n",
    "            fibo_n = fibo_minus_1 + fibo_minus_2\n",
    "            fibo_minus_2 = fibo_minus_1\n",
    "            fibo_minus_1 = fibo_n\n",
    "            i += 1\n",
    "        return fibo_n\n",
    "    \n",
    "    def jump_floorII(self, n):\n",
    "        fibo = [0] * (n+1)\n",
    "        fibo[1] = 1\n",
    "        for i in range(2, n+1):\n",
    "            fibo[i] = sum(fibo) + 1\n",
    "        return fibo[n]\n",
    "    \n",
    "    def jump_floorII_alternative(self, n):\n",
    "        if n <= 0:\n",
    "            return 0\n",
    "        return 2**(n-1)"
   ]
  },
  {
   "cell_type": "markdown",
   "metadata": {},
   "source": [
    "### 题目三：矩形覆盖问题\n",
    "\n",
    "我们可以用2*1的小矩形横着或者竖着去覆盖更大的矩形。请问用n个2*1的小矩形无重叠地覆盖一个2*n的大矩形，总共有多少种方法？\n",
    "\n",
    "思路：还是斐波那契数列。用第一个2*1的小矩形去覆盖大矩形的最左边时有两种选择：竖着放或横着放。当竖着放的时候，右边还剩2*(n-1)的区域，这种情形下的覆盖方法记为f(n-1)。再考虑横着放的情形，当2*1小矩形横着放在左上角时，左下角必须横着放一个2*1的小矩形，而右边还剩下2*(n-2)的区域。因此f(n) = f(n-1) + f(n-2)仍然为斐波那契数列。"
   ]
  },
  {
   "cell_type": "code",
   "execution_count": null,
   "metadata": {},
   "outputs": [],
   "source": []
  }
 ],
 "metadata": {
  "kernelspec": {
   "display_name": "Python 2",
   "language": "python",
   "name": "python2"
  },
  "language_info": {
   "codemirror_mode": {
    "name": "ipython",
    "version": 2
   },
   "file_extension": ".py",
   "mimetype": "text/x-python",
   "name": "python",
   "nbconvert_exporter": "python",
   "pygments_lexer": "ipython2",
   "version": "2.7.6"
  }
 },
 "nbformat": 4,
 "nbformat_minor": 0
}
