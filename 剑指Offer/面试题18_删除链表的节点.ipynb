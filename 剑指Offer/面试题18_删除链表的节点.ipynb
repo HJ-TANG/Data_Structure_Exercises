{
  "cells": [
    {
      "cell_type": "markdown",
      "metadata": {
        "collapsed": true,
        "pycharm": {}
      },
      "source": [
        "## 面试题18：删除链表的节点\n",
        "\n",
        "### 题目一：在O(1)时间内删除链表节点。\n",
        "\n",
        "\u003cb\u003e给定单向链表的头节点和其中一个节点，定义一个函数在O(1)时间内删除该节点。\u003c/b\u003e常用的遍历算法时间复杂度为O(n)。另一种方法为在删除节点i之前，将i-\u003enext即节点j覆盖节点i，再把i-\u003enext指向j-\u003enext。"
      ]
    },
    {
      "cell_type": "code",
      "execution_count": 1,
      "metadata": {
        "pycharm": {}
      },
      "outputs": [],
      "source": [
        "class Node:\n",
        "    \"\"\"\n",
        "    data: the value saved in this node\n",
        "    next: save the next node object\n",
        "    \"\"\"\n",
        "    def __init__(self, data, p_next\u003dNone):\n",
        "        self.data \u003d data\n",
        "        self.next \u003d p_next\n",
        "    \n",
        "    def __repr__(self):\n",
        "        \"\"\"\n",
        "        Define the characteristic output of Node\n",
        "        :return: value of the node\n",
        "        \"\"\"\n",
        "        return str(self.data)\n",
        "    \n",
        "\n",
        "class Solution1:\n",
        "    def delete_node(self, head_node, del_node):\n",
        "        if head_node is None:\n",
        "            print(\"Empty linked list!\")\n",
        "            return\n",
        "        if not (isinstance(head_node, Node) and isinstance(del_node, Node)):\n",
        "            print(\"Not nodes!\")\n",
        "            return \n",
        "            \n",
        "        # if the to be deleted node is not the tail node\n",
        "        if del_node.next:\n",
        "            print(\"to be deleted node is not the tail node\")\n",
        "            del_node_next \u003d del_node.next\n",
        "            del_node.data \u003d del_node_next.data\n",
        "            del_node.next \u003d del_node_next.next\n",
        "            # del_node_next \u003d None\n",
        "            del_node_next.data \u003d None\n",
        "            del_node_next.next \u003d None\n",
        "        \n",
        "        # if the linked list only has one node, delete the only node(head node also tail node)\n",
        "        elif head_node \u003d\u003d del_node:\n",
        "            print(\"the linked list only has one node\")\n",
        "            head_node.next \u003d None\n",
        "            head_node.data \u003d None\n",
        "        \n",
        "        # if the to be deleted node is the tail node\n",
        "        else:\n",
        "            print(\"the to be deleted node is the tail node\")\n",
        "            curr_node \u003d head_node\n",
        "            while curr_node.next !\u003d del_node:\n",
        "                curr_node \u003d curr_node.next\n",
        "            curr_node.next \u003d None\n"
      ]
    },
    {
      "cell_type": "code",
      "execution_count": 2,
      "metadata": {
        "collapsed": false,
        "pycharm": {}
      },
      "outputs": [
        {
          "name": "stdout",
          "output_type": "stream",
          "text": [
            "the to be deleted node is the tail node\n2\n4\n6\n\u003d\u003d\u003d\u003d\u003d\u003d\u003d\u003d\u003d\u003d\u003d\u003d\u003d\u003d\nthe linked list only has one node\nNone\n"
          ]
        }
      ],
      "source": [
        "n1 \u003d Node(2)\n",
        "n2 \u003d Node(4)\n",
        "n3 \u003d Node(6)\n",
        "n4 \u003d Node(8)\n",
        "n1.next \u003d n2\n",
        "n2.next \u003d n3\n",
        "n3.next \u003d n4\n",
        "s \u003d Solution1()\n",
        "s.delete_node(n1, n4)\n",
        "\n",
        "curr_node \u003d n1\n",
        "while curr_node:\n",
        "    print(curr_node)\n",
        "    curr_node \u003d curr_node.next\n",
        "    \n",
        "print(\"\u003d\u003d\u003d\u003d\u003d\u003d\u003d\u003d\u003d\u003d\u003d\u003d\u003d\u003d\")\n",
        "n10 \u003d Node(10)\n",
        "s.delete_node(n10, n10)\n",
        "print(n10)\n"
      ]
    },
    {
      "cell_type": "markdown",
      "metadata": {
        "pycharm": {}
      },
      "source": "\u003cb\u003e补充： Python的引用传参机制。\u003c/b\u003e \n\n[Python 的函数是怎么传递参数的? - resolvewang的回答 - 知乎](https://www.zhihu.com/question/20591688/answer/423314919)\n\n当node \u003d None时，不是把原地址里面内容清空，而是开辟一块新地址。这样在函数外面访问node访问的是原地址，里面还是有值。\n\n【重点】1. python里面所有的赋值操作都是加引用和减引用的操作，不会清空原地址里面的内容。 2. python里面所有传参都是传引用。"
    },
    {
      "cell_type": "code",
      "execution_count": 3,
      "metadata": {
        "pycharm": {}
      },
      "outputs": [
        {
          "name": "stdout",
          "output_type": "stream",
          "text": [
            "before delete: 114075632\nafter delete: 114075632\n20\nbefore: 114076304\nafter: 1520342160\nNone\n"
          ]
        }
      ],
      "source": [
        "def delete(node):\n",
        "    node \u003d None\n",
        "\n",
        "\n",
        "n20 \u003d Node(20)\n",
        "print(\"before delete:\", id(n20))\n",
        "delete(n20)\n",
        "print(\"after delete:\", id(n20))\n",
        "print(n20)\n",
        "      \n",
        "n30 \u003d Node(30)\n",
        "print(\"before:\", id(n30))\n",
        "n30 \u003d None \n",
        "print(\"after:\", id(n30))\n",
        "print(n30)\n"
      ]
    },
    {
      "cell_type": "markdown",
      "metadata": {
        "pycharm": {}
      },
      "source": "### 题目二：删除链表中重复的节点。\n\n在一个排序的链表中，删除重复的节点。"
    },
    {
      "cell_type": "markdown",
      "source": "思路一：将链表元素保存在列表中，然后过滤掉出现次数大于1的值，只保留出现次数为1的值，再将新的列表建成链表的形式。",
      "metadata": {
        "pycharm": {
          "metadata": false,
          "name": "#%% md\n"
        }
      }
    },
    {
      "cell_type": "code",
      "execution_count": null,
      "outputs": [],
      "source": "def deleteDuplication(pHead):\n    # write code here\n    res \u003d []\n    while pHead:\n        res.append(pHead.val)\n        pHead \u003d pHead.next\n    res \u003d list(filter(lambda c: res.count(c) \u003d\u003d 1, res))\n    # res \u003d [r for r in res if res.count(r)\u003d\u003d1]\n    if len(res) \u003e 0:\n        pHead_new \u003d Node(res[0])\n        node \u003d pHead_new\n        for i in range(1, len(res)):\n            node.next \u003d Node(res[i])\n            node \u003d node.next\n        return pHead_new\n    else:\n        return None",
      "metadata": {
        "pycharm": {
          "metadata": false,
          "name": "#%%\n"
        }
      }
    },
    {
      "cell_type": "markdown",
      "source": "思路二：运用链表的操作，确保将重复的节点略过，始终连接不重复的值。\n\n定义一个节点first，它的next属性指向链表头节点；定义一个pre节点，next永远指向不重复的下一个节点。\n这两个节点初始化为同一个节点。遍历过程中pre不断更新。\n\n主要部分是两层循环：1. 外层循环用于判断当前节点及下一个节点是否为空，都不为空的话，1.1 如果当前节点和下一个节点的值相等，则把该值记录下来，\n进入小循环，直到找到一个值不为该值的节点，或者直到链表结束。然后将pre.next指向该节点。\n1.2 如果当前节点和下一个节点不相等，则pre等于当前节点。2. 继续大循环。最后返回first的next。\n\n【注意】pre.next在每一次出现重复时，找到新的跟前一个不相等的节点后更新，而pre没有重复时更新。即pre永远指向不重复的节点。pre走过的路径即为删除后的链表。\n",
      "metadata": {
        "pycharm": {
          "metadata": false,
          "name": "#%% md\n"
        }
      }
    },
    {
      "cell_type": "code",
      "execution_count": 4,
      "metadata": {
        "pycharm": {}
      },
      "outputs": [],
      "source": "class Solution2:\n    def delete_duplicate(self, head_node):\n        if head_node is None:\n            return\n\n        first_node \u003d Node(-1)\n        first_node.next \u003d head_node\n        last_node \u003d first_node\n\n        while head_node and head_node.next:\n            if head_node.data \u003d\u003d head_node.next.data:\n                data \u003d head_node.data\n                while head_node and head_node.data \u003d\u003d data:\n                    head_node \u003d head_node.next\n                last_node.next \u003d head_node\n            else:\n                last_node \u003d head_node\n                head_node \u003d head_node.next\n                \n        # another answer\n        # while head_node:\n        #     del_flag \u003d False\n        #     next_node \u003d head_node.next\n        #     while next_node:\n        #         if next_node.data \u003d\u003d head_node.data:\n        #             del_flag \u003d True\n        #             next_node \u003d next_node.next\n        #         else:\n        #             break\n        #     if del_flag:\n        #         last_node.next \u003d next_node\n        #     else:\n        #         last_node \u003d head_node\n        #     head_node \u003d last_node.next\n        \n        return first_node.next\n"
    },
    {
      "cell_type": "code",
      "execution_count": 5,
      "metadata": {
        "pycharm": {}
      },
      "outputs": [
        {
          "name": "stdout",
          "output_type": "stream",
          "text": [
            "5\n"
          ]
        }
      ],
      "source": [
        "n0 \u003d Node(2)\n",
        "n1 \u003d Node(2)\n",
        "n2 \u003d Node(4)\n",
        "n3 \u003d Node(4)\n",
        "n4 \u003d Node(5)\n",
        "n5 \u003d Node(8)\n",
        "n6 \u003d Node(8)\n",
        "n0.next \u003d n1\n",
        "n1.next \u003d n2\n",
        "n2.next \u003d n3\n",
        "n3.next \u003d n4\n",
        "n4.next \u003d n5\n",
        "n5.next \u003d n6\n",
        "s \u003d Solution2()\n",
        "new_head \u003d s.delete_duplicate(n0)\n",
        "\n",
        "curr_node \u003d new_head\n",
        "while curr_node:\n",
        "    print(curr_node)\n",
        "    curr_node \u003d curr_node.next\n"
      ]
    },
    {
      "cell_type": "code",
      "execution_count": null,
      "metadata": {
        "pycharm": {}
      },
      "outputs": [],
      "source": []
    }
  ],
  "metadata": {
    "kernelspec": {
      "display_name": "Python 2",
      "language": "python",
      "name": "python2"
    },
    "language_info": {
      "codemirror_mode": {
        "name": "ipython",
        "version": 2
      },
      "file_extension": ".py",
      "mimetype": "text/x-python",
      "name": "python",
      "nbconvert_exporter": "python",
      "pygments_lexer": "ipython2",
      "version": "2.7.6"
    }
  },
  "nbformat": 4,
  "nbformat_minor": 0
}