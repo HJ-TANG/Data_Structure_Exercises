{
 "cells": [
  {
   "cell_type": "markdown",
   "metadata": {
    "collapsed": true
   },
   "source": [
    "## 题目22：链表中倒数第k个节点\n",
    "\n",
    "<b>题目：输入一个链表，输出该链表中倒数第k个节点。</b>为符合大多数人的习惯，本题从1开始计数，即链表的尾节点是倒数的第1个节点。\n",
    "\n",
    "思路1：两次遍历链表。第一次统计出链表节点的个数，第二次找到倒数第k个节点。"
   ]
  },
  {
   "cell_type": "code",
   "execution_count": 29,
   "metadata": {},
   "outputs": [],
   "source": [
    "class Node:\n",
    "    \"\"\"\n",
    "    data: the value saved in this node\n",
    "    next: save the next node object\n",
    "    \"\"\"\n",
    "    def __init__(self, data, p_next=None):\n",
    "        self.data = data\n",
    "        self.next = p_next\n",
    "    \n",
    "    def __repr__(self):\n",
    "        \"\"\"\n",
    "        Define the characteristic output of Node\n",
    "        :return: value of the node\n",
    "        \"\"\"\n",
    "        return str(self.data)\n"
   ]
  },
  {
   "cell_type": "code",
   "execution_count": 30,
   "metadata": {},
   "outputs": [],
   "source": [
    "class Solution1:\n",
    "    def last_kth_node(self, head_node, k):\n",
    "        if head_node is None:\n",
    "            return None\n",
    "        length = 0\n",
    "        curr_node = head_node\n",
    "        while curr_node:\n",
    "            length += 1\n",
    "            curr_node = curr_node.next\n",
    "        number = length - k\n",
    "        if k <= 0 or number < 0:\n",
    "            print(\"k out of range!\")\n",
    "            return None\n",
    "        curr_node = head_node\n",
    "        for i in range(number):\n",
    "            curr_node = curr_node.next\n",
    "        return curr_node\n"
   ]
  },
  {
   "cell_type": "code",
   "execution_count": 31,
   "metadata": {},
   "outputs": [
    {
     "name": "stdout",
     "output_type": "stream",
     "text": [
      "Case 1: k out of range\nk out of range!\nLast 5th node is None\nCase 2: k in range\nLast 2th node is 4\n"
     ]
    }
   ],
   "source": [
    "n0 = Node(1)\n",
    "n1 = Node(2)\n",
    "n2 = Node(4)\n",
    "n3 = Node(5)\n",
    "n0.next = n1\n",
    "n1.next = n2\n",
    "n2.next = n3\n",
    "s = Solution1()\n",
    "# test case 1: k out of range\n",
    "print(\"Case 1: k out of range\")\n",
    "k = 5\n",
    "last_kth = s.last_kth_node(n0, k)\n",
    "print(\"Last %dth node is %s\" % (k, last_kth))\n",
    "\n",
    "# test case 2\n",
    "print(\"Case 2: k in range\")\n",
    "k = 2\n",
    "last_kth = s.last_kth_node(n0, k)\n",
    "print(\"Last %dth node is %s\" % (k, last_kth))\n"
   ]
  },
  {
   "cell_type": "markdown",
   "metadata": {},
   "source": [
    "思路2：定义两个指针，第一个指针从链表的头指针开始遍历向前走k-1步，第二个指针保持不动；从第k步开始，第二个指针也开始从链表的头指针开始遍历。因为两个指针的距离保持在k-1，当第一个（走在前面的）指针到达链表的尾节点时，第二个（走在后面的）刚好指向倒数第k个节点。"
   ]
  },
  {
   "cell_type": "code",
   "execution_count": 32,
   "metadata": {},
   "outputs": [],
   "source": [
    "class Solution2:\n",
    "    def last_kth_node(self, head_node, k):\n",
    "        if head_node is None:\n",
    "            return None\n",
    "        if k <= 0:\n",
    "            return None\n",
    "        curr_node = head_node\n",
    "        second_node = head_node\n",
    "        for i in range(k-1):\n",
    "            curr_node = curr_node.next\n",
    "            if curr_node is None:\n",
    "                return None\n",
    "        while curr_node.next:\n",
    "            second_node = second_node.next\n",
    "            curr_node = curr_node.next\n",
    "        return second_node\n"
   ]
  },
  {
   "cell_type": "code",
   "execution_count": 33,
   "metadata": {},
   "outputs": [
    {
     "name": "stdout",
     "output_type": "stream",
     "text": [
      "Case 1: k out of range\nLast 5th node is None\nCase 2: k in range\nLast 2th node is 4\n"
     ]
    }
   ],
   "source": [
    "n0 = Node(1)\n",
    "n1 = Node(2)\n",
    "n2 = Node(4)\n",
    "n3 = Node(5)\n",
    "n0.next = n1\n",
    "n1.next = n2\n",
    "n2.next = n3\n",
    "s = Solution2()\n",
    "# test case 1: k out of range\n",
    "print(\"Case 1: k out of range\")\n",
    "k = 5\n",
    "last_kth = s.last_kth_node(n0, k)\n",
    "print(\"Last %dth node is %s\" % (k, last_kth))\n",
    "\n",
    "# test case 2\n",
    "print(\"Case 2: k in range\")\n",
    "k = 2\n",
    "last_kth = s.last_kth_node(n0, k)\n",
    "print(\"Last %dth node is %s\" % (k, last_kth))\n"
   ]
  },
  {
   "cell_type": "code",
   "execution_count": null,
   "metadata": {},
   "outputs": [],
   "source": []
  }
 ],
 "metadata": {
  "kernelspec": {
   "display_name": "Python 2",
   "language": "python",
   "name": "python2"
  },
  "language_info": {
   "codemirror_mode": {
    "name": "ipython",
    "version": 2
   },
   "file_extension": ".py",
   "mimetype": "text/x-python",
   "name": "python",
   "nbconvert_exporter": "python",
   "pygments_lexer": "ipython2",
   "version": "2.7.6"
  }
 },
 "nbformat": 4,
 "nbformat_minor": 0
}
