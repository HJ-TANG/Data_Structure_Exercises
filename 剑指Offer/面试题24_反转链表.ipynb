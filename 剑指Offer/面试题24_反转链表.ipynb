{
  "cells": [
    {
      "cell_type": "markdown",
      "metadata": {
        "collapsed": true,
        "pycharm": {}
      },
      "source": "## 面试题24：反转链表\n\n题目：定义一个函数，输入一个链表的头节点，反转该链表并输出反转后链表的头节点。\n\n思路一：定义3个指针，分别指向当前遍历到的节点，它的前一个节点及后一个节点。（注意原头节点的next记得设置为None，否则会陷入死循环。）\n\n注意：提前想好测试用例，注意代码的鲁棒性。"
    },
    {
      "cell_type": "code",
      "execution_count": 9,
      "metadata": {
        "pycharm": {}
      },
      "outputs": [],
      "source": [
        "class Node:\n",
        "    \"\"\"\n",
        "    data: the value saved in this node\n",
        "    next: save the next node object\n",
        "    \"\"\"\n",
        "    def __init__(self, data, p_next\u003dNone):\n",
        "        self.data \u003d data\n",
        "        self.next \u003d p_next\n",
        "    \n",
        "    def __repr__(self):\n",
        "        \"\"\"\n",
        "        Define the characteristic output of Node\n",
        "        :return: value of the node\n",
        "        \"\"\"\n",
        "        return str(self.data)\n"
      ]
    },
    {
      "cell_type": "code",
      "execution_count": 10,
      "metadata": {
        "pycharm": {}
      },
      "outputs": [],
      "source": "class Solution:\n    def reverse_list(self, head_node):\n        if head_node is None or head_node.next is None:\n            return head_node\n        pre_node \u003d head_node\n        curr_node \u003d head_node.next\n        post_node \u003d curr_node.next\n        # don\u0027t forget to update the next node of head node\n        pre_node.next \u003d None\n        while post_node:\n            curr_node.next \u003d pre_node\n            pre_node \u003d curr_node\n            curr_node \u003d post_node\n            post_node \u003d post_node.next\n        curr_node.next \u003d pre_node\n        return curr_node\n"
    },
    {
      "cell_type": "markdown",
      "source": "思路二：递归。每次将当前节点和前一个节点传进去，在到达结束条件后将当前节点的next指向前一个节点。（注意设置原头节点的pre为None，并注意将新的头节点return出来）",
      "metadata": {
        "pycharm": {
          "metadata": false,
          "name": "#%% md\n"
        }
      }
    },
    {
      "cell_type": "code",
      "execution_count": null,
      "outputs": [],
      "source": "class Solution2:\n    # 返回ListNode\n    def ReverseList(self, pHead, pPre\u003dNone):\n        if pHead is None:\n            return None\n        if pHead.next is None:\n            pHead.next \u003d pPre\n            return pHead\n        newHead \u003d self.ReverseList(pHead.next, pHead)\n        pHead.next \u003d pPre\n        return newHead\n",
      "metadata": {
        "pycharm": {
          "metadata": false,
          "name": "#%%\n"
        }
      }
    },
    {
      "cell_type": "code",
      "execution_count": 14,
      "metadata": {
        "pycharm": {}
      },
      "outputs": [
        {
          "name": "stdout",
          "output_type": "stream",
          "text": [
            "5\n4\n2\n1\n"
          ]
        }
      ],
      "source": "n0 \u003d Node(1)\nn1 \u003d Node(2)\nn2 \u003d Node(4)\nn3 \u003d Node(5)\nn0.next \u003d n1\nn1.next \u003d n2\nn2.next \u003d n3\ns \u003d Solution()\nnew_head \u003d s.reverse_list(n0)\n\ncurr_node \u003d new_head\nwhile curr_node:\n    print(curr_node)\n    curr_node \u003d curr_node.next\n"
    },
    {
      "cell_type": "code",
      "execution_count": null,
      "metadata": {
        "pycharm": {}
      },
      "outputs": [],
      "source": []
    }
  ],
  "metadata": {
    "kernelspec": {
      "display_name": "Python 2",
      "language": "python",
      "name": "python2"
    },
    "language_info": {
      "codemirror_mode": {
        "name": "ipython",
        "version": 2
      },
      "file_extension": ".py",
      "mimetype": "text/x-python",
      "name": "python",
      "nbconvert_exporter": "python",
      "pygments_lexer": "ipython2",
      "version": "2.7.6"
    }
  },
  "nbformat": 4,
  "nbformat_minor": 0
}