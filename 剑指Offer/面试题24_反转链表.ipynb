{
 "cells": [
  {
   "cell_type": "markdown",
   "metadata": {
    "collapsed": true,
    "pycharm": {}
   },
   "source": [
    "## 面试题24：反转链表\n",
    "\n",
    "题目：定义一个函数，输入一个链表的头节点，反转该链表并输出反转后链表的头节点。\n",
    "\n",
    "思路一：定义3个指针，分别指向当前遍历到的节点，它的前一个节点及后一个节点。（注意原头节点的next记得设置为None，否则会陷入死循环。）\n",
    "\n",
    "注意：提前想好测试用例，注意代码的鲁棒性。"
   ]
  },
  {
   "cell_type": "code",
   "execution_count": 9,
   "metadata": {
    "pycharm": {}
   },
   "outputs": [],
   "source": [
    "class Node:\n",
    "    \"\"\"\n",
    "    data: the value saved in this node\n",
    "    next: save the next node object\n",
    "    \"\"\"\n",
    "    def __init__(self, data, p_next=None):\n",
    "        self.data = data\n",
    "        self.next = p_next\n",
    "    \n",
    "    def __repr__(self):\n",
    "        \"\"\"\n",
    "        Define the characteristic output of Node\n",
    "        :return: value of the node\n",
    "        \"\"\"\n",
    "        return str(self.data)\n"
   ]
  },
  {
   "cell_type": "code",
   "execution_count": 10,
   "metadata": {
    "pycharm": {}
   },
   "outputs": [],
   "source": [
    "class Solution:\n",
    "    def reverse_list(self, head_node):\n",
    "        if head_node is None or head_node.next is None:\n",
    "            return head_node\n",
    "        pre_node = head_node\n",
    "        curr_node = head_node.next\n",
    "        post_node = curr_node.next\n",
    "        # don't forget to update the next node of head node\n",
    "        pre_node.next = None\n",
    "        while post_node:\n",
    "            curr_node.next = pre_node\n",
    "            pre_node = curr_node\n",
    "            curr_node = post_node\n",
    "            post_node = post_node.next\n",
    "        curr_node.next = pre_node\n",
    "        return curr_node\n"
   ]
  },
  {
   "cell_type": "markdown",
   "source": [
    "思路二：递归。每次将当前节点和前一个节点传进去，在到达结束条件后将当前节点的next指向前一个节点。（注意设置原头节点的pre为None，并注意将新的头节点return出来）"
   ],
   "metadata": {
    "pycharm": {
     "metadata": false,
     "name": "#%% md\n"
    }
   }
  },
  {
   "cell_type": "code",
   "execution_count": null,
   "outputs": [],
   "source": [
    "class Solution2:\n",
    "    def reverseList(self, head):\n",
    "        if head is None or head.next is None:\n",
    "            return head\n",
    "\n",
    "        pre_node = head\n",
    "        node = head.next\n",
    "        \n",
    "        def subReverse(pre_node, curr_node):\n",
    "            if curr_node.next is None:\n",
    "                curr_node.next = pre_node\n",
    "                return curr_node\n",
    "            new_head = subReverse(pre_node.next, curr_node.next)\n",
    "            curr_node.next = pre_node\n",
    "            return new_head\n",
    "\n",
    "        new_head = subReverse(pre_node, node)\n",
    "        head.next = None\n",
    "\n",
    "        return new_head\n"
   ],
   "metadata": {
    "pycharm": {
     "metadata": false,
     "name": "#%%\n"
    }
   }
  },
  {
   "cell_type": "code",
   "execution_count": 14,
   "metadata": {
    "pycharm": {}
   },
   "outputs": [
    {
     "name": "stdout",
     "output_type": "stream",
     "text": [
      "5\n4\n2\n1\n"
     ]
    }
   ],
   "source": [
    "n0 = Node(1)\n",
    "n1 = Node(2)\n",
    "n2 = Node(4)\n",
    "n3 = Node(5)\n",
    "n0.next = n1\n",
    "n1.next = n2\n",
    "n2.next = n3\n",
    "s = Solution()\n",
    "new_head = s.reverse_list(n0)\n",
    "\n",
    "curr_node = new_head\n",
    "while curr_node:\n",
    "    print(curr_node)\n",
    "    curr_node = curr_node.next\n"
   ]
  },
  {
   "cell_type": "markdown",
   "metadata": {
    "pycharm": {
     "name": "#%% md\n"
    }
   },
   "source": [
    "思路三：用栈实现。既然可以用递归那么也可以栈来实现。依次将经过的节点加到栈里面，遍历到最后一个节点时，\n",
    "设置它的下一个节点为栈顶的节点，以此类推。"
   ]
  },
  {
   "cell_type": "code",
   "execution_count": null,
   "outputs": [],
   "source": [
    "class Solution3:\n",
    "    def reverseList(self, head):\n",
    "        if head is None or head.next is None:\n",
    "            return head\n",
    "\n",
    "        my_stack = []\n",
    "        while head.next:\n",
    "            my_stack.append(head)\n",
    "            head = head.next\n",
    "        new_head = head\n",
    "        while len(my_stack) != 0:\n",
    "            head.next = my_stack.pop()\n",
    "            head = head.next\n",
    "        head.next = None\n",
    "\n",
    "        return new_head\n"
   ],
   "metadata": {
    "collapsed": false,
    "pycharm": {
     "name": "#%%\n"
    }
   }
  }
 ],
 "metadata": {
  "kernelspec": {
   "display_name": "Python 2",
   "language": "python",
   "name": "python2"
  },
  "language_info": {
   "codemirror_mode": {
    "name": "ipython",
    "version": 2
   },
   "file_extension": ".py",
   "mimetype": "text/x-python",
   "name": "python",
   "nbconvert_exporter": "python",
   "pygments_lexer": "ipython2",
   "version": "2.7.6"
  },
  "pycharm": {
   "stem_cell": {
    "cell_type": "raw",
    "source": [],
    "metadata": {
     "collapsed": false
    }
   }
  }
 },
 "nbformat": 4,
 "nbformat_minor": 0
}