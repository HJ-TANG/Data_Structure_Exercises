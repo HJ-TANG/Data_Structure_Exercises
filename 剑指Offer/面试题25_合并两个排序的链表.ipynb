{
 "cells": [
  {
   "cell_type": "markdown",
   "metadata": {
    "collapsed": true
   },
   "source": [
    "## 面试题25：合并两个排序的链表\n",
    "\n",
    "题目：输入两个递增排序的链表，合并这两个链表并使新链表中的节点仍然是递增排序的。\n",
    "\n",
    "思路1：递归。"
   ]
  },
  {
   "cell_type": "code",
   "execution_count": 14,
   "metadata": {},
   "outputs": [],
   "source": [
    "class ListNode:\n",
    "    \"\"\"\n",
    "    data: the value saved in this node\n",
    "    next: save the next node object\n",
    "    \"\"\"\n",
    "    def __init__(self, data, p_next=None):\n",
    "        self.data = data\n",
    "        self.next = p_next\n",
    "    \n",
    "    def __repr__(self):\n",
    "        \"\"\"\n",
    "        Define the characteristic output of Node\n",
    "        :return: value of the node\n",
    "        \"\"\"\n",
    "        return str(self.data)\n"
   ]
  },
  {
   "cell_type": "code",
   "execution_count": 15,
   "metadata": {},
   "outputs": [],
   "source": [
    "class Solution:\n",
    "    def merge_two_list(self, head1, head2):\n",
    "        if (not head1) and head2:\n",
    "            return head2\n",
    "        if head1 and (not head2):\n",
    "            return head1\n",
    "        if not (head1 or head2):\n",
    "            return None\n",
    "        \n",
    "        if head1.data < head2.data:\n",
    "            head_merge = head1\n",
    "            head_merge.next = self.merge_two_list(head1.next, head2)\n",
    "        else:\n",
    "            head_merge = head2\n",
    "            head_merge.next = self.merge_two_list(head1, head2.next)\n",
    "        return head_merge\n"
   ]
  },
  {
   "cell_type": "code",
   "execution_count": 13,
   "metadata": {},
   "outputs": [
    {
     "name": "stdout",
     "output_type": "stream",
     "text": [
      "1\n2\n3\n4\n6\n20\n"
     ]
    }
   ],
   "source": [
    "n0 = ListNode(1)\n",
    "n1 = ListNode(2)\n",
    "n2 = ListNode(6)\n",
    "n0.next = n1\n",
    "n1.next = n2\n",
    "\n",
    "n7 = ListNode(3)\n",
    "n8 = ListNode(4)\n",
    "n9 = ListNode(20)\n",
    "n7.next = n8\n",
    "n8.next = n9\n",
    "\n",
    "s = Solution()\n",
    "head_merge = s.merge_two_list(n0, n7)\n",
    "\n",
    "curr_node = head_merge\n",
    "while curr_node:\n",
    "    print(curr_node)\n",
    "    curr_node = curr_node.next\n"
   ]
  },
  {
   "cell_type": "markdown",
   "metadata": {
    "pycharm": {
     "name": "#%% md\n"
    }
   },
   "source": [
    "思路2：非递归解法。设置一个伪头节点，让它的下一个节点永远等于两个链表的当前节点中值较小的一个节点。"
   ]
  },
  {
   "cell_type": "code",
   "execution_count": null,
   "outputs": [],
   "source": [
    "class Solution:\n",
    "    def mergeTwoLists(self, l1, l2):\n",
    "        if l1 is None:\n",
    "            return l2\n",
    "        if l2 is None:\n",
    "            return l1\n",
    "        newHead = ListNode('a')\n",
    "        node = newHead\n",
    "        while l1 is not None and l2 is not None:\n",
    "            if l1.val <= l2.val:\n",
    "                node.next = l1\n",
    "                l1 = l1.next\n",
    "            else:\n",
    "                node.next = l2\n",
    "                l2 = l2.next\n",
    "            node = node.next\n",
    "\n",
    "        if l1 is None:\n",
    "            node.next = l2\n",
    "        if l2 is None:\n",
    "            node.next = l1\n",
    "        \n",
    "        return newHead.next\n"
   ],
   "metadata": {
    "collapsed": false,
    "pycharm": {
     "name": "#%%\n"
    }
   }
  }
 ],
 "metadata": {
  "kernelspec": {
   "display_name": "Python 2",
   "language": "python",
   "name": "python2"
  },
  "language_info": {
   "codemirror_mode": {
    "name": "ipython",
    "version": 2
   },
   "file_extension": ".py",
   "mimetype": "text/x-python",
   "name": "python",
   "nbconvert_exporter": "python",
   "pygments_lexer": "ipython2",
   "version": "2.7.6"
  },
  "pycharm": {
   "stem_cell": {
    "cell_type": "raw",
    "source": [],
    "metadata": {
     "collapsed": false
    }
   }
  }
 },
 "nbformat": 4,
 "nbformat_minor": 0
}