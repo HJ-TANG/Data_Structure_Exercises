{
  "cells": [
    {
      "cell_type": "markdown",
      "metadata": {
        "collapsed": true,
        "pycharm": {
          "name": "#%% md\n"
        }
      },
      "source": "## 面试题27：二叉树的镜像\n\n题目：输入一棵二叉树，输出它的镜像。\n\n思路：自己动手画一下一棵二叉树的镜像过程。可以得到，只需遍历二叉树，把非叶子节点的左右子节点互换即可得到二叉树的镜像。"
    },
    {
      "cell_type": "code",
      "execution_count": null,
      "outputs": [],
      "source": "class Solution:\n    # 返回镜像树的根节点（递归实现）\n    def Mirror(self, root):\n        if not root or (not root.left and not root.right):  # 如果节点为空或节点为叶子节点\n            return root\n        root.left, root.right \u003d root.right, root.left\n        self.Mirror(root.left)\n        self.Mirror(root.right)\n        return root\n    \n    # 循环实现（前序遍历）\n    def Mirror2(self, root):\n        if not root:\n            return None\n        node \u003d root\n        my_stack \u003d []\n        while my_stack or node:\n            while node:\n                my_stack.append(node)\n                node.left, node.right \u003d node.right, node.left\n                node \u003d node.left\n            node \u003d my_stack.pop().right\n        return root",
      "metadata": {
        "pycharm": {
          "metadata": false,
          "name": "#%%\n"
        }
      }
    }
  ],
  "metadata": {
    "language_info": {
      "codemirror_mode": {
        "name": "ipython",
        "version": 2
      },
      "file_extension": ".py",
      "mimetype": "text/x-python",
      "name": "python",
      "nbconvert_exporter": "python",
      "pygments_lexer": "ipython2",
      "version": "2.7.6"
    },
    "kernelspec": {
      "name": "pycharm-1ce6c0c3",
      "language": "python",
      "display_name": "PyCharm (Offer)"
    }
  },
  "nbformat": 4,
  "nbformat_minor": 0
}