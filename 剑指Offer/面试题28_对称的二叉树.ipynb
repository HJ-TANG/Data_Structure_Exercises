{
  "cells": [
    {
      "cell_type": "markdown",
      "metadata": {
        "collapsed": true,
        "pycharm": {
          "name": "#%% md\n"
        }
      },
      "source": "## 面试题28：对称的二叉树\n\n题目：判断一棵二叉树是否对称。\n\n思路一：见书上P161. 如果一棵二叉树是对称的，那么他的前序遍历序列（先左后右）和遍历序列（先右后左）应该是一样的。注意特殊情况！"
    },
    {
      "cell_type": "code",
      "execution_count": null,
      "outputs": [],
      "source": "class Solution:\n    def isSymmetrical(self, pRoot):\n        # write code here\n        res_left \u003d []\n        res_right \u003d []\n\n        def from_left(pRoot):\n            if not pRoot:\n                res_left.append(\"#\")\n                return\n            res_left.append(pRoot.val)\n            from_left(pRoot.left)\n            from_left(pRoot.right)\n\n        def from_right(pRoot):\n            if not pRoot:\n                res_right.append(\"#\")\n                return\n            res_right.append(pRoot.val)\n            from_right(pRoot.right)\n            from_right(pRoot.left)\n\n        from_left(pRoot)\n        from_right(pRoot)\n        if res_left \u003d\u003d res_right:\n            return True\n        return False",
      "metadata": {
        "pycharm": {
          "metadata": false,
          "name": "#%%\n"
        }
      }
    },
    {
      "cell_type": "markdown",
      "source": "思路二：如果一个二叉树是对称的，那么该二叉树同它的镜像是一样的。",
      "metadata": {
        "pycharm": {
          "metadata": false,
          "name": "#%% md\n"
        }
      }
    }
  ],
  "metadata": {
    "language_info": {
      "codemirror_mode": {
        "name": "ipython",
        "version": 2
      },
      "file_extension": ".py",
      "mimetype": "text/x-python",
      "name": "python",
      "nbconvert_exporter": "python",
      "pygments_lexer": "ipython2",
      "version": "2.7.6"
    },
    "kernelspec": {
      "name": "pycharm-1ce6c0c3",
      "language": "python",
      "display_name": "PyCharm (Offer)"
    }
  },
  "nbformat": 4,
  "nbformat_minor": 0
}