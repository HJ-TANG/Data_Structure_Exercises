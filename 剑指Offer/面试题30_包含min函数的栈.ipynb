{
  "cells": [
    {
      "cell_type": "markdown",
      "metadata": {
        "collapsed": true,
        "pycharm": {
          "name": "#%% md\n"
        }
      },
      "source": "## 面试题30：包含min函数的栈\n\n题目：定义栈的数据结构，请在该类型中实现一个能够得到栈中所含最小元素的min函数（时间复杂度应为O（1））。\n\n思路：把每次的最小元素（之前的最小元素和新压入栈的元素的两者较小值）都保存起来放到另一个辅助栈里。（当前最小值不断压入辅助栈。详见书上166页）"
    },
    {
      "cell_type": "code",
      "execution_count": null,
      "outputs": [],
      "source": "class Solution:\n    def __init__(self):\n        self.stack \u003d []  # 数据栈\n        self.min_stack \u003d []  # 辅助栈\n\n    def push(self, node):\n        # 如果栈中元素个数大于1\n        if len(self.stack) \u003e 0:\n            self.stack.append(node)\n            # 将当前最小元素压入辅助栈\n            if node \u003c self.min_stack[-1]:\n                self.min_stack.append(node)\n            else:\n                self.min_stack.append(self.min_stack[-1])\n        # 否则直接将当前元素压入栈\n        else:\n            self.stack.append(node)\n            self.min_stack.append(node)\n\n    def pop(self):\n        # 同时弹出两个栈的栈顶元素\n        if self.stack and self.min_stack:\n            self.min_stack.pop()\n            return self.stack.pop()\n        else:\n            return None\n    \n    # 不太明白牛客网上这个函数的意义在哪里\n    def top(self):\n        # 返回数据栈的栈顶元素（意义？）\n        if self.stack:\n            return self.stack[-1]\n        else:\n            return None\n\n    def min(self):\n        # 返回辅助栈的栈顶元素\n        if self.min_stack:\n            return self.min_stack[-1]\n        else:\n            return None",
      "metadata": {
        "pycharm": {
          "metadata": false,
          "name": "#%%\n"
        }
      }
    }
  ],
  "metadata": {
    "language_info": {
      "codemirror_mode": {
        "name": "ipython",
        "version": 2
      },
      "file_extension": ".py",
      "mimetype": "text/x-python",
      "name": "python",
      "nbconvert_exporter": "python",
      "pygments_lexer": "ipython2",
      "version": "2.7.6"
    },
    "kernelspec": {
      "name": "pycharm-1ce6c0c3",
      "language": "python",
      "display_name": "PyCharm (Offer)"
    }
  },
  "nbformat": 4,
  "nbformat_minor": 0
}