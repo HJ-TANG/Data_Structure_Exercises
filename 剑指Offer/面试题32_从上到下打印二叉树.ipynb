{
  "cells": [
    {
      "cell_type": "markdown",
      "source": "## 面试题32：从上到下打印二叉树\n\n### 题目一：不分行从上到下打印二叉树\n\n从上到下打印出二叉树的每个节点，同一层的节点按照从左到右的顺序打印。\n",
      "metadata": {
        "pycharm": {
          "metadata": false,
          "name": "#%% md\n"
        }
      }
    },
    {
      "cell_type": "code",
      "execution_count": 1,
      "outputs": [],
      "source": "class TreeNode:\n    def __init__(self, x):\n        self.val \u003d x\n        self.left \u003d None\n        self.right \u003d None\n\nn1 \u003d TreeNode(1)\nn2 \u003d TreeNode(2)\nn3 \u003d TreeNode(3)\nn4 \u003d TreeNode(4)\nn5 \u003d TreeNode(5)\nn6 \u003d TreeNode(6)\nn7 \u003d TreeNode(7)\nn8 \u003d TreeNode(8)\n\nn1.left \u003d n2\nn1.right \u003d n5\nn2.left \u003d n3\nn2.right \u003d n4\nn3.right \u003d n6\nn4.left \u003d n7\nn5.right \u003d n8",
      "metadata": {
        "pycharm": {
          "metadata": false,
          "name": "#%%\n",
          "is_executing": false
        }
      }
    },
    {
      "cell_type": "markdown",
      "source": "思路：用队列来实现。python中可采用deque双端队列这个数据结构。每遍历到一个节点，将左右子节点加进队列。再按照先入先出的规则加进结果list中。",
      "metadata": {
        "pycharm": {
          "metadata": false,
          "name": "#%% md\n"
        }
      }
    },
    {
      "cell_type": "code",
      "execution_count": 2,
      "outputs": [
        {
          "name": "stdout",
          "text": [
            "res1: [1, 2, 5, 3, 4, 8, 6, 7]\n"
          ],
          "output_type": "stream"
        }
      ],
      "source": "def PrintFromTopToBottom(root):\n    result \u003d []\n    if root is None:\n        return result\n    from collections import deque\n    q \u003d deque()\n    node \u003d root\n    q.append(node)\n    while len(q) \u003e 0:\n        node \u003d q.popleft()  # 如果不用deque结构，直接用list的话，也可直接写 node \u003d q.pop(0)\n        result.append(node.val)\n        if node.left:\n            q.append(node.left)\n        if node.right:\n            q.append(node.right)\n    return result\n\nres1 \u003d PrintFromTopToBottom(n1)\nprint(\"res1:\", res1)",
      "metadata": {
        "pycharm": {
          "metadata": false,
          "name": "#%%\n",
          "is_executing": false
        }
      }
    },
    {
      "cell_type": "markdown",
      "source": "### 题目二：分行从上到下打印二叉树\n\n从上到下按层打印二叉树，同一层的节点按从左到右的顺序打印，每一层打印到一行。",
      "metadata": {
        "pycharm": {
          "metadata": false,
          "name": "#%% md\n",
          "is_executing": false
        }
      }
    },
    {
      "cell_type": "markdown",
      "source": "思路：为了把二叉树的每一行单独打印到一行里，我们需要两个变量：一个变量表示在当前层中还没有打印的节点数；另一个变量表示下一层节点的数目。",
      "metadata": {
        "pycharm": {
          "metadata": false,
          "name": "#%% md\n"
        }
      }
    },
    {
      "cell_type": "code",
      "execution_count": 3,
      "outputs": [
        {
          "name": "stdout",
          "text": [
            "res2: [[1], [2, 5], [3, 4, 8], [6, 7]]\n"
          ],
          "output_type": "stream"
        }
      ],
      "source": "def PrintFromTopToBottom2(root):\n    result \u003d []\n    if root is None:\n        return result\n    que \u003d []\n    to_be_printed \u003d 1\n    next_level \u003d 0\n    node \u003d root\n    que.append(node)\n    tmp \u003d []\n    while len(que) \u003e 0:\n        node \u003d que.pop(0)\n        tmp.append(node.val)\n        if node.left:\n            que.append(node.left)\n            next_level +\u003d 1\n        if node.right:\n            que.append(node.right)\n            next_level +\u003d 1\n        to_be_printed -\u003d 1\n        if to_be_printed \u003d\u003d 0:\n            result.append(tmp)\n            to_be_printed \u003d next_level\n            next_level \u003d 0\n            tmp \u003d []\n    return result\n\nres2 \u003d PrintFromTopToBottom2(n1)\nprint(\"res2:\", res2)",
      "metadata": {
        "pycharm": {
          "metadata": false,
          "name": "#%%\n",
          "is_executing": false
        }
      }
    },
    {
      "cell_type": "markdown",
      "source": "### 题目三：之字形打印二叉树\n\n题目：按照之字形顺序打印二叉树，即第一行按照从左到右的顺序打印，第二层从右到左，第三层再从左到右等等。",
      "metadata": {
        "pycharm": {
          "metadata": false,
          "name": "#%% md\n"
        }
      }
    },
    {
      "cell_type": "markdown",
      "source": "思路：用两个栈，分别存储奇数行和偶数行的数。",
      "metadata": {
        "pycharm": {
          "metadata": false,
          "name": "#%% md\n"
        }
      }
    },
    {
      "cell_type": "code",
      "execution_count": 4,
      "outputs": [
        {
          "name": "stdout",
          "text": [
            "res3: [[1], [5, 2], [3, 4, 8], [7, 6]]\n"
          ],
          "output_type": "stream"
        }
      ],
      "source": "def PrintFromTopToBottom3(root):\n    result \u003d []\n    if root is None:\n        return result\n    stack1 \u003d []\n    stack2 \u003d []\n    node \u003d root\n    stack1.append(node)\n    curr \u003d 1\n    nex \u003d 0\n    tmp \u003d []\n    while stack1 or stack2:\n        # 如果为奇数行，将下一层节点加到stack2中，并遍历直到stack1中没有元素\n        if curr \u003d\u003d 1:\n            while stack1:\n                node \u003d stack1.pop()\n                tmp.append(node.val)\n                if node.left:\n                    stack2.append(node.left)\n                if node.right:\n                    stack2.append(node.right)\n        # 如果为偶数行，将下一层节点加到stack1中，并遍历直到stack2中没有元素，即上一层已打印完毕\n        else:\n            while stack2:\n                node \u003d stack2.pop()\n                tmp.append(node.val)\n                if node.right:\n                    stack1.append(node.right)\n                if node.left:\n                    stack1.append(node.left)\n        curr \u003d 1 - curr\n        nex \u003d 1 - nex\n        result.append(tmp)\n        tmp \u003d []\n    return result\n\nres3 \u003d PrintFromTopToBottom3(n1)\nprint(\"res3:\", res3)",
      "metadata": {
        "pycharm": {
          "metadata": false,
          "name": "#%%\n",
          "is_executing": false
        }
      }
    }
  ],
  "metadata": {
    "language_info": {
      "codemirror_mode": {
        "name": "ipython",
        "version": 2
      },
      "file_extension": ".py",
      "mimetype": "text/x-python",
      "name": "python",
      "nbconvert_exporter": "python",
      "pygments_lexer": "ipython2",
      "version": "2.7.6"
    },
    "kernelspec": {
      "name": "python3",
      "language": "python",
      "display_name": "Python 3"
    },
    "stem_cell": {
      "cell_type": "raw",
      "source": "",
      "metadata": {
        "pycharm": {
          "metadata": false
        }
      }
    }
  },
  "nbformat": 4,
  "nbformat_minor": 0
}