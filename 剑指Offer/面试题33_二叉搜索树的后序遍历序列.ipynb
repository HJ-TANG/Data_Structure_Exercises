{
  "cells": [
    {
      "cell_type": "markdown",
      "metadata": {
        "collapsed": true,
        "pycharm": {
          "name": "#%% md\n"
        }
      },
      "source": "## 面试题33：二叉搜索树的后序遍历序列\n\n题目：输入一个整数数组，判断该数组是不是某二叉搜索树的后序遍历结果。\n\n思路：分析二叉搜索树后序遍历的特点。二叉搜索树的后序遍历序列，最后一个数字是树的头节点，数组中前面的数字可以分为两部分：第一部分是左子树的节点的值，\n他们都比根节点的值小；第二部分是右子树节点的值，它们都比根节点的值大。根据这个特点来判断一个序列是否为某二叉搜索树的后序遍历序列。"
    },
    {
      "cell_type": "code",
      "execution_count": null,
      "outputs": [],
      "source": "class Solution:\n    def VerifySquenceOfBST(self, sequence):\n        # write code here\n        if not sequence:\n            return False\n\n        def verify_core(sequence):\n            if not sequence or len(sequence) \u003d\u003d 1:\n                return True\n            root \u003d sequence[-1]\n            right_index \u003d 0\n            for n in sequence[:-1]:\n                if n \u003c root:\n                    right_index +\u003d 1  # 右边部分第一个元素的索引\n                else:\n                    break\n            for n in sequence[right_index:-1]:  # 检查是否右边的元素都比root大\n                if n \u003c root:\n                    return False\n            return verify_core(sequence[:right_index]) and verify_core(sequence[right_index:-1])\n\n        return verify_core(sequence)\n",
      "metadata": {
        "pycharm": {
          "metadata": false,
          "name": "#%%\n"
        }
      }
    }
  ],
  "metadata": {
    "language_info": {
      "codemirror_mode": {
        "name": "ipython",
        "version": 2
      },
      "file_extension": ".py",
      "mimetype": "text/x-python",
      "name": "python",
      "nbconvert_exporter": "python",
      "pygments_lexer": "ipython2",
      "version": "2.7.6"
    },
    "kernelspec": {
      "name": "pycharm-1ce6c0c3",
      "language": "python",
      "display_name": "PyCharm (Offer)"
    }
  },
  "nbformat": 4,
  "nbformat_minor": 0
}