{
  "cells": [
    {
      "cell_type": "markdown",
      "metadata": {
        "collapsed": true,
        "pycharm": {
          "name": "#%% md\n"
        }
      },
      "source": "## 面试题36：二叉搜索树与双向链表\n\n题目：输入一棵二叉搜索树，将该二叉搜索树转换成一个排序的双向链表。要求不能创建任何新的节点，只能调整树中节点指针的方向。"
    },
    {
      "cell_type": "markdown",
      "source": "思路一：递归思想。\n\n根节点的前一个节点应该是左子树处理完之后的最右的节点，根节点的后一个节点应该是右子树处理完之后的第一个节点。返回已处理完的链表的最左节点。",
      "metadata": {
        "pycharm": {
          "metadata": false,
          "name": "#%% md\n"
        }
      }
    },
    {
      "cell_type": "code",
      "execution_count": null,
      "outputs": [],
      "source": "class Solution1:\n    def Convert(self, pRootOfTree):\n        if not pRootOfTree:\n            return None\n        if not pRootOfTree.left and not pRootOfTree.right:\n            return pRootOfTree\n\n        # 将左子树构建成双链表，返回链表头\n        left \u003d self.Convert(pRootOfTree.left)\n        node \u003d left\n\n        # 定位至左子树的最后一个节点\n        while node and node.right:\n            node \u003d node.right\n\n        # 如果左子树不为空，将当前root加到左子树链表\n        if node:\n            node.right \u003d pRootOfTree\n            pRootOfTree.left \u003d node\n\n        # 调整右边的并返回右边的头节点\n        right \u003d self.Convert(pRootOfTree.right)\n        # 如果右子树不为空，将该链表追加到pRootOfTree节点之后\n        if right:\n            right.left \u003d pRootOfTree\n        pRootOfTree.right \u003d right\n\n        # 返回头节点（left）如果left存在的话\n        return left if left else pRootOfTree\n    ",
      "metadata": {
        "pycharm": {
          "metadata": false,
          "name": "#%%\n"
        }
      }
    },
    {
      "cell_type": "markdown",
      "source": "思路二：非递归。用中序遍历的非递归方法得到中序遍历序列，然后再调整指针。",
      "metadata": {
        "pycharm": {
          "metadata": false,
          "name": "#%% md\n"
        }
      }
    },
    {
      "cell_type": "code",
      "execution_count": null,
      "outputs": [],
      "source": "class Solution2:\n    def Convert(self, pRootOfTree):\n        if not pRootOfTree:\n            return None\n        if not pRootOfTree.left and not pRootOfTree.right:\n            return pRootOfTree\n        my_stack \u003d []\n        res \u003d []\n        \n        node \u003d pRootOfTree\n        while node or my_stack:\n            while node:\n                my_stack.append(node)\n                node \u003d node.left\n            node \u003d my_stack.pop()\n            res.append(node)\n            node \u003d node.right\n        \n        res[0].left \u003d None\n        res[0].right \u003d res[1]\n        for i in range(1, len(res)-1):\n            res[i].left \u003d res[i-1]\n            res[i].right \u003d res[i+1]\n        res[-1].left \u003d res[-2]\n        res[-1].right \u003d None\n        \n        return res[0]",
      "metadata": {
        "pycharm": {
          "metadata": false,
          "name": "#%%\n"
        }
      }
    }
  ],
  "metadata": {
    "language_info": {
      "codemirror_mode": {
        "name": "ipython",
        "version": 2
      },
      "file_extension": ".py",
      "mimetype": "text/x-python",
      "name": "python",
      "nbconvert_exporter": "python",
      "pygments_lexer": "ipython2",
      "version": "2.7.6"
    },
    "kernelspec": {
      "name": "pycharm-1ce6c0c3",
      "language": "python",
      "display_name": "PyCharm (Offer)"
    }
  },
  "nbformat": 4,
  "nbformat_minor": 0
}