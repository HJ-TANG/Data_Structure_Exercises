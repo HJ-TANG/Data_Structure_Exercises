{
  "cells": [
    {
      "cell_type": "markdown",
      "metadata": {
        "collapsed": true,
        "pycharm": {
          "name": "#%% md\n"
        }
      },
      "source": "## 面试题42：连续子数组的最大和\n\n题目：输入一个整形数组，数组里有整数也有负数。数组中的一个或连续多个整数组成一个子数组。求所有子数组的和的最大值。要求时间复杂度为O(n)。\n\n例如，输入的数组为{1,-2,3,10,-4,7,2,-5}。和最大的子数组为{3,10,-4,7,2}，因此输出该子数组的和为18。"
    },
    {
      "cell_type": "markdown",
      "source": "思路一：举例分析数组的规律。（见书上P218）",
      "metadata": {
        "pycharm": {
          "metadata": false,
          "name": "#%% md\n"
        }
      }
    },
    {
      "cell_type": "code",
      "execution_count": null,
      "outputs": [],
      "source": "class Solution:\n    def FindGreatestSumOfSubArray(self, array):\n        if not array:\n            return None\n        curr_sum \u003d 0\n        pre_sum \u003d array[0]  # 注意初始值的设置，不能设为0\n        for a in array:\n            # 如果前面的累加值为负数，那对累加值清0重新累加，把当前数的值赋给累加值\n            if curr_sum \u003c 0:\n                curr_sum \u003d a\n            # 如果前面的累加值为正数，那么继续累加，即之前的累加值加上当前的值作为新的累加值\n            else:\n                curr_sum +\u003d a\n            # 判断累加值是否大于最大值：如果大于最大值，则最大和更新；否则，继续保留之前的最大和\n            if curr_sum \u003e pre_sum:\n                pre_sum \u003d curr_sum\n        return pre_sum",
      "metadata": {
        "pycharm": {
          "metadata": false,
          "name": "#%%\n"
        }
      }
    },
    {
      "cell_type": "markdown",
      "source": "思路二：应用动态规划法\n\n如果用函数f(i)表示以第i个数字结尾的子数组的最大和，那么我们需要求出max\\[f(i)]，其中0\u003c\u003di\u003cn。（见书上P220）",
      "metadata": {
        "pycharm": {
          "metadata": false,
          "name": "#%% md\n"
        }
      }
    },
    {
      "cell_type": "code",
      "execution_count": null,
      "outputs": [],
      "source": "class Solution2:\n    def FindGreatestSumOfSubArray2(self, array):\n        if not array:\n            return None\n        for i in range(1, len(array)):\n            if array[i-1] \u003e 0:\n                array[i] +\u003d array[i-1]\n        return max(array)\n",
      "metadata": {
        "pycharm": {
          "metadata": false,
          "name": "#%%\n"
        }
      }
    }
  ],
  "metadata": {
    "language_info": {
      "codemirror_mode": {
        "name": "ipython",
        "version": 2
      },
      "file_extension": ".py",
      "mimetype": "text/x-python",
      "name": "python",
      "nbconvert_exporter": "python",
      "pygments_lexer": "ipython2",
      "version": "2.7.6"
    },
    "kernelspec": {
      "name": "pycharm-1ce6c0c3",
      "language": "python",
      "display_name": "PyCharm (Offer)"
    }
  },
  "nbformat": 4,
  "nbformat_minor": 0
}