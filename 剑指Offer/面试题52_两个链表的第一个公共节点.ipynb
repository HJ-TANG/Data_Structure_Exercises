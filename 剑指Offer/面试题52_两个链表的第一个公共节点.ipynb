{
 "cells": [
  {
   "cell_type": "markdown",
   "metadata": {
    "collapsed": true,
    "pycharm": {
     "name": "#%% md\n"
    }
   },
   "source": [
    "## 面试题52：两个链表的第一个公共节点\n",
    "\n",
    "题目：输入两个链表，找出它们的第一个公共节点。"
   ]
  },
  {
   "cell_type": "markdown",
   "source": [
    "思路一：蛮力法，时间复杂度为O(mn)。\n",
    "\n",
    "在第一个链表上顺序遍历每个节点，每遍历到一个节点，就在第二个链表上顺序遍历每个节点。\n",
    "如果在第二个链表上有节点跟第一个链表上的节点一样，则说明两个链表在这个节点上重合，即为它们的第一个公共节点。"
   ],
   "metadata": {
    "pycharm": {
     "metadata": false,
     "name": "#%% md\n"
    }
   }
  },
  {
   "cell_type": "code",
   "execution_count": null,
   "outputs": [],
   "source": [
    "# -*- coding:utf-8 -*-\n",
    "class ListNode:\n",
    "    def __init__(self, x):\n",
    "        self.val = x\n",
    "        self.next = None\n",
    "        \n",
    "class Solution:\n",
    "    def FindFirstCommonNode(self, pHead1, pHead2):\n",
    "        # write code here\n",
    "        if pHead1 is None or pHead2 is None:\n",
    "            return None\n",
    "        node1 = pHead1\n",
    "        while node1:\n",
    "            node2 = pHead2  # 每次开始对node2的遍历之前将node2恢复\n",
    "            while node2:\n",
    "                if node1 == node2:\n",
    "                    return node2\n",
    "                node2 = node2.next\n",
    "            node1 = node1.next\n",
    "        return None"
   ],
   "metadata": {
    "pycharm": {
     "metadata": false,
     "name": "#%%\n"
    }
   }
  },
  {
   "cell_type": "markdown",
   "source": [
    "思路二：利用栈结构的特点从链表尾部开始比较。 时间复杂度为O(m+n)，空间复杂度为O(m+n)。\n",
    "\n",
    "如果两个链表有公共节点，公共节点一定出现在两个链表的尾部。分别将两个链表的节点放入两个栈里面，这样两个链表的尾节点就位于两个栈的栈顶，接下来比较两个栈的栈顶节点是否相同，\n",
    "如果相同，则把栈顶弹出继续比较下一个栈顶，直到找到最后一个相同的节点。\n",
    "\n"
   ],
   "metadata": {
    "pycharm": {
     "metadata": false,
     "name": "#%% md\n"
    }
   }
  },
  {
   "cell_type": "code",
   "execution_count": null,
   "outputs": [],
   "source": [
    "class Solution2:\n",
    "    def FindFirstCommonNode(self, pHead1, pHead2):\n",
    "        # write code here\n",
    "        if pHead1 is None or pHead2 is None:\n",
    "            return None\n",
    "        mystack1 = []\n",
    "        mystack2 = []\n",
    "        while pHead1:\n",
    "            mystack1.append(pHead1)\n",
    "            pHead1 = pHead1.next\n",
    "        while pHead2:\n",
    "            mystack2.append(pHead2)\n",
    "            pHead2 = pHead2.next\n",
    "        common_node = None\n",
    "        while len(mystack1) > 0 and len(mystack2) > 0:\n",
    "            p1 = mystack1.pop()\n",
    "            p2 = mystack2.pop()\n",
    "            if p1 == p2:\n",
    "                common_node = p1\n",
    "            else:\n",
    "                break\n",
    "        return common_node"
   ],
   "metadata": {
    "pycharm": {
     "metadata": false,
     "name": "#%%\n"
    }
   }
  },
  {
   "cell_type": "markdown",
   "source": [
    "思路三：时间复杂度O(m+n)，且不需要辅助空间。首先遍历两个链表得到它们的长度，就能知道哪个链表比较长，以及长的链表比短的链表多几个节点。第二次遍历的时候，在较长的链表上先走若干步，\n",
    "接着同时在两个链表上遍历，找到的第一个相同的节点就是他们的第一个公共节点。"
   ],
   "metadata": {
    "pycharm": {
     "metadata": false,
     "name": "#%% md\n"
    }
   }
  },
  {
   "cell_type": "code",
   "execution_count": null,
   "outputs": [],
   "source": [
    "class Solution3:\n",
    "    def FindFirstCommonNode(self, pHead1, pHead2):\n",
    "        # write code here\n",
    "        if pHead1 is None or pHead2 is None:\n",
    "            return None\n",
    "        len1 = 0\n",
    "        len2 = 0\n",
    "        node1 = pHead1\n",
    "        node2 = pHead2\n",
    "        # 遍历得到链表1的长度\n",
    "        while node1:\n",
    "            len1 += 1\n",
    "            node1 = node1.next\n",
    "        # 遍历得到链表2的长度\n",
    "        while node2:\n",
    "            len2 += 1\n",
    "            node2 = node2.next\n",
    "        # 指针回到头节点\n",
    "        node1 = pHead1\n",
    "        node2 = pHead2\n",
    "        # 长的指针先走diff步\n",
    "        if len1 >= len2:\n",
    "            diff = len1 - len2\n",
    "            while diff:\n",
    "                node1 = node1.next\n",
    "                diff -= 1\n",
    "        else:\n",
    "            diff = len2 - len1\n",
    "            while diff:\n",
    "                node2 = node2.next\n",
    "                diff -= 1\n",
    "        # 再从当前节点开始一一比较\n",
    "        while node1:\n",
    "            if node1 == node2:\n",
    "                return node1\n",
    "            else:\n",
    "                node1 = node1.next\n",
    "                node2 = node2.next\n",
    "        return None"
   ],
   "metadata": {
    "pycharm": {
     "metadata": false,
     "name": "#%%\n"
    }
   }
  },
  {
   "cell_type": "markdown",
   "source": [
    "思路四：我们使用两个指针 `node1`，`node2` 分别指向两个链表 `headA`，`headB` 的头结点，然后同时分别逐结点遍历，\n",
    "当 `node1` 到达链表 `headA` 的末尾时，重新定位到链表 `headB` 的头结点；当 `node2` 到达链表 `headB` 的末尾时，\n",
    "重新定位到链表 `headA` 的头结点。\n",
    "\n",
    "这样，当它们相遇时，所指向的结点就是第一个公共结点。\n",
    "\n",
    "[来源](https://leetcode-cn.com/problems/liang-ge-lian-biao-de-di-yi-ge-gong-gong-jie-dian-lcof/solution/shuang-zhi-zhen-fa-lang-man-xiang-yu-by-ml-zimingm/)\n",
    "\n",
    "个人理解： 假设两个链表长度分别为L1+C、L2+C， C为公共部分的长度，\n",
    "按照上述思路：第一个人走了L1+C步后，回到第二个人起点走L2步；第2个人走了L2+C步后，回到第一个人起点走L1步。 \n",
    "当两个人走的步数都为L1+L2+C时就两个链表就相遇了。"
   ],
   "metadata": {
    "collapsed": false,
    "pycharm": {
     "name": "#%% md\n"
    }
   }
  },
  {
   "cell_type": "code",
   "execution_count": null,
   "outputs": [],
   "source": [
    "class Solution4:\n",
    "    def getIntersectionNode(self, headA: ListNode, headB: ListNode) -> ListNode:\n",
    "        nodeA, nodeB = headA, headB\n",
    "        while nodeA != nodeB:\n",
    "            nodeA = nodeA.next if nodeA else headB\n",
    "            nodeB = nodeB.next if nodeB else headA\n",
    "        return nodeA"
   ],
   "metadata": {
    "collapsed": false,
    "pycharm": {
     "name": "#%% \n"
    }
   }
  },
  {
   "cell_type": "markdown",
   "source": [
    "测试："
   ],
   "metadata": {
    "pycharm": {
     "metadata": false,
     "name": "#%% md\n"
    }
   }
  },
  {
   "cell_type": "code",
   "execution_count": null,
   "outputs": [],
   "source": "m0 = ListNode(1)\nm1 = ListNode(2)\nm2 = ListNode(4)\nm3 = ListNode(5)\nm0.next = m1\nm1.next = m2\nm2.next = m3\n\n# n0 = ListNode(1)\nn1 = ListNode(2)\nn2 = m2\nn3 = m3\n# n0.next = n1\nn1.next = n2\ns = Solution()\ncommon_node = s.FindFirstCommonNode(m0, n1)\n\ncurr_node = common_node\nwhile curr_node:\n    print(curr_node.val)\n    curr_node = curr_node.next",
   "metadata": {
    "pycharm": {
     "metadata": false,
     "name": "#%%\n"
    }
   }
  }
 ],
 "metadata": {
  "language_info": {
   "codemirror_mode": {
    "name": "ipython",
    "version": 2
   },
   "file_extension": ".py",
   "mimetype": "text/x-python",
   "name": "python",
   "nbconvert_exporter": "python",
   "pygments_lexer": "ipython2",
   "version": "2.7.6"
  },
  "kernelspec": {
   "name": "pycharm-1ce6c0c3",
   "language": "python",
   "display_name": "PyCharm (Offer)"
  },
  "pycharm": {
   "stem_cell": {
    "cell_type": "raw",
    "source": [],
    "metadata": {
     "collapsed": false
    }
   }
  }
 },
 "nbformat": 4,
 "nbformat_minor": 0
}