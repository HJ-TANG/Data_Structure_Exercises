{
 "cells": [
  {
   "cell_type": "markdown",
   "metadata": {
    "collapsed": true
   },
   "source": [
    "## 面试题56：数组中数字出现的次数\n",
    "\n",
    "### 题目一：数组中只出现一次的两个数字\n",
    "\n",
    "一个整型数组里除了两个数字之外，其他的数字都出现了两次。请写程序找出这两个只出现一次的数字。"
   ]
  },
  {
   "cell_type": "code",
   "execution_count": 1,
   "metadata": {},
   "outputs": [],
   "source": [
    "# -*- coding:utf-8 -*-\n",
    "class Solution:\n",
    "    # 返回[a,b] 其中ab是出现一次的两个数字\n",
    "    def FindNumsAppearOnce(self, array):\n",
    "        xor_2 = array[0]\n",
    "        for i in range(1, len(array)):\n",
    "            xor_2 = xor_2 ^ array[i]\n",
    "        # 找出最低位为1的那一位\n",
    "        lowest_one = 0\n",
    "        while xor_2 & 1 != 1:\n",
    "            xor_2 = xor_2 >> 1\n",
    "            lowest_one += 1\n",
    "        arr_0 = []\n",
    "        arr_1 = []\n",
    "        for i in range(len(array)):\n",
    "            if (array[i] >> lowest_one) & 1 == 0:\n",
    "                arr_0.append(array[i])\n",
    "            else:\n",
    "                arr_1.append(array[i])\n",
    "        \n",
    "        target_0 = arr_0[0]\n",
    "        target_1 = arr_1[0]\n",
    "        for i in range(1, len(arr_0)):\n",
    "            target_0 ^= arr_0[i]\n",
    "        for i in range(1, len(arr_1)):\n",
    "            target_1 ^= arr_1[i]\n",
    "        return [target_0, target_1]"
   ]
  },
  {
   "cell_type": "markdown",
   "metadata": {},
   "source": [
    "### 题目二：数组中唯一只出现一次的数字。\n",
    "\n",
    "在一个数组中除一个数字只出现一次之外，其他数字都出现了三次。请找出那个只出现一次的数字。"
   ]
  },
  {
   "cell_type": "code",
   "execution_count": null,
   "metadata": {},
   "outputs": [],
   "source": []
  }
 ],
 "metadata": {
  "kernelspec": {
   "display_name": "Python 2",
   "language": "python",
   "name": "python2"
  },
  "language_info": {
   "codemirror_mode": {
    "name": "ipython",
    "version": 2
   },
   "file_extension": ".py",
   "mimetype": "text/x-python",
   "name": "python",
   "nbconvert_exporter": "python",
   "pygments_lexer": "ipython2",
   "version": "2.7.6"
  }
 },
 "nbformat": 4,
 "nbformat_minor": 0
}
