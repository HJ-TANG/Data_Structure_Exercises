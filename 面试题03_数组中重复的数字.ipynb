{
  "cells": [
    {
      "cell_type": "markdown",
      "metadata": {
        "pycharm": {}
      },
      "source": [
        "## 面试题3： 数组中重复的数字"
      ]
    },
    {
      "cell_type": "markdown",
      "metadata": {
        "pycharm": {}
      },
      "source": [
        "题目：在一个长度为n的数组里的所有数字都在0到n~1的范围内。 数组中某些数字是重复的，但不知道有几个数字是重复的。也不知道每个数字重复几次。请找出数组中任意一个重复的数字。 例如，如果输入长度为7的数组{2,3,1,0,2,5,3}，那么对应的输出是重复的数字2或者3。"
      ]
    },
    {
      "cell_type": "markdown",
      "metadata": {
        "pycharm": {}
      },
      "source": [
        "\u003cb\u003e解题思路1：先把输入数组排序，然后从排序后的数组中从前往后找。\u003c/b\u003e\n",
        "\n",
        "排序时间复杂度\u003ci\u003eO(nlogn)\u003c/i\u003e"
      ]
    },
    {
      "cell_type": "code",
      "execution_count": 1,
      "metadata": {
        "collapsed": true,
        "pycharm": {}
      },
      "outputs": [],
      "source": [
        "class Solution1:\n",
        "    def duplicate(self, arr, duplication):\n",
        "        \"\"\"\n",
        "        Find the duplicate numbers in an array \n",
        "        :param arr: input array, one-dimensional\n",
        "        :param duplication: a number that occurs at least twice in the array\n",
        "        :return: bool, whether a duplicate is found or not\n",
        "        \"\"\"\n",
        "        # Note to save duplicate numbers\n",
        "        # check if the input list is empty\n",
        "        if arr is None or len(arr) \u003c 1:\n",
        "            return False\n",
        "        # check if the input values conforms to specifications\n",
        "        for i in range(len(arr)):\n",
        "            if arr[i] \u003c 0 or arr[i] \u003e len(arr)-1:\n",
        "                return False\n",
        "        \n",
        "        arr.sort()\n",
        "        for i in range(len(arr)-1):\n",
        "            if arr[i] \u003d\u003d arr[i+1]:\n",
        "                duplication[0] \u003d arr[i]\n",
        "                return True\n",
        "        return False\n"
      ]
    },
    {
      "cell_type": "code",
      "execution_count": 2,
      "metadata": {
        "pycharm": {}
      },
      "outputs": [
        {
          "name": "stdout",
          "output_type": "stream",
          "text": [
            "Test case 1: True\tDuplication: 2\nTest case 2: False\tDuplication: -1\nTest case 3: False\tDuplication: -1\nTest case 4: False\tDuplication: -1\n"
          ]
        }
      ],
      "source": [
        "Solution_1 \u003d Solution1()\n",
        "# correct input\n",
        "dup_1 \u003d [-1]\n",
        "lis_1 \u003d [2, 3, 1, 0, 2, 5, 3]\n",
        "print(\u0027Test case 1: \u0027 + str(Solution_1.duplicate(lis_1,dup_1)) + \u0027\\tDuplication: \u0027 + str(dup_1[0]))\n",
        "# no duplicate input\n",
        "dup_2 \u003d [-1]\n",
        "lis_2 \u003d [2, 3, 1, 0, 4, 5, 8]\n",
        "print(\u0027Test case 2: \u0027 + str(Solution_1.duplicate(lis_2,dup_2)) + \u0027\\tDuplication: \u0027 + str(dup_2[0]))\n",
        "# empty list input\n",
        "dup_3 \u003d [-1]\n",
        "lis_3 \u003d []\n",
        "print(\u0027Test case 3: \u0027 + str(Solution_1.duplicate(lis_3,dup_3)) + \u0027\\tDuplication: \u0027 + str(dup_3[0]))\n",
        "# out of range input\n",
        "dup_4 \u003d [-1]\n",
        "lis_4 \u003d [2, 3, 1, 0, 2, 5, 3, 10]\n",
        "print(\u0027Test case 4: \u0027 + str(Solution_1.duplicate(lis_4,dup_4)) + \u0027\\tDuplication: \u0027 + str(dup_4[0]))"
      ]
    },
    {
      "cell_type": "markdown",
      "metadata": {
        "pycharm": {}
      },
      "source": [
        "\u003cb\u003e解题思路2：使用辅助空间:哈希表。\u003c/b\u003e\n",
        "\n",
        "时间复杂度为O(n)，空间复杂度为O(n)"
      ]
    },
    {
      "cell_type": "code",
      "execution_count": 3,
      "metadata": {
        "pycharm": {}
      },
      "outputs": [
        {
          "name": "stdout",
          "output_type": "stream",
          "text": [
            "True\t\tDuplication: 2\n"
          ]
        }
      ],
      "source": [
        "class Solution2:\n",
        "    def duplicate(self, arr, duplication):\n",
        "        \"\"\"\n",
        "        Find the duplicate numbers in an array \n",
        "        :param arr: input array, one-dimensional\n",
        "        :param duplication: a number that occurs at least twice in the array\n",
        "        :return: bool, whether a duplicate is found or not\n",
        "        \"\"\"\n",
        "        # Note to save duplicate numbers\n",
        "        # check if the input list is empty\n",
        "        if arr is None or len(arr) \u003c 1:\n",
        "            return False\n",
        "        \n",
        "        dup_set \u003d set()\n",
        "        for i in range(len(arr)):\n",
        "            # check if the input values conforms to specifications\n",
        "            if arr[i] \u003c 0 or arr[i] \u003e len(arr)-1:\n",
        "                return False\n",
        "            if arr[i] not in dup_set:\n",
        "                dup_set.add(arr[i])\n",
        "            else:\n",
        "                duplication[0] \u003d arr[i]\n",
        "                return True\n",
        "        return False\n",
        "\n",
        "\n",
        "s \u003d Solution2()\n",
        "dup \u003d [-1]\n",
        "arr_1 \u003d [2, 3, 1, 0, 2, 5, 3]\n",
        "s.duplicate(arr_1, dup)\n",
        "print(str(s.duplicate(arr_1, dup)) + \u0027\\tDuplication: \u0027 + str(dup[0]))\n"
      ]
    },
    {
      "cell_type": "markdown",
      "metadata": {
        "collapsed": true,
        "pycharm": {}
      },
      "source": [
        "思路2时间效率的提高是以一个大小为O(n)的哈希表为代价的。现在思考一种时间复杂度为O(n)空间复杂度为O(1)的算法。注意到数组中的数字在0-n-1之间。如果数组中没有重复的数字，那么当数组排序之后数字i将出现在下标为i的位置。由于数组中有重复的数字，有些位置可能存在多个数字，有些位置可能没有数字。\n",
        "\n",
        "\u003cb\u003e解题思路3：重排数组。从头到尾扫描数组的每个数字，当扫描到下标为i的数字时，首先比较这个数字（假设为m）是否等于i,如果是，接着扫描下一个数字；如果不是，那么再将它和下标为m的数字对比，如果两者不相等，就把它和第m个数字交换，把m放到属于它的位置，如果两者相等，那么就找到了一个重复的数字。重复这个过程，直到发现一个重复的数字。\u003c/b\u003e"
      ]
    },
    {
      "cell_type": "code",
      "execution_count": 4,
      "metadata": {
        "scrolled": true,
        "pycharm": {}
      },
      "outputs": [
        {
          "name": "stdout",
          "output_type": "stream",
          "text": [
            "True\t\tDuplication: 2\n"
          ]
        }
      ],
      "source": [
        "class Solution3:\n",
        "    def duplicate(self, arr, duplication):\n",
        "        \"\"\"\n",
        "        Find the duplicate numbers in an array \n",
        "        :param arr: input array, one-dimensional\n",
        "        :param duplication: a number that occurs at least twice in the array\n",
        "        :return: bool, whether a duplicate is found or not\n",
        "        \"\"\"\n",
        "        # Note to save duplicate numbers\n",
        "        # check if the input list is empty\n",
        "        if arr is None or len(arr) \u003c 1:\n",
        "            return False\n",
        "        # check if the input values conforms to specifications\n",
        "        for i in range(len(arr)):\n",
        "            if arr[i] \u003c 0 or arr[i] \u003e len(arr)-1:\n",
        "                return False\n",
        "            \n",
        "        for i in range(len(arr)):\n",
        "            if i \u003d\u003d arr[i]:\n",
        "                continue\n",
        "            elif arr[i] \u003d\u003d arr[arr[i]]:\n",
        "                duplication[0] \u003d arr[i]\n",
        "                return True\n",
        "            else:\n",
        "                temp \u003d arr[arr[i]]\n",
        "                arr[arr[i]] \u003d arr[i]\n",
        "                arr[i] \u003d temp\n",
        "        return False\n",
        "    \n",
        "    \n",
        "s_3 \u003d Solution3()\n",
        "dup \u003d [-1]\n",
        "arr_1 \u003d [2, 3, 1, 0, 2, 5, 3]\n",
        "s_3.duplicate(arr_1, dup)\n",
        "print(str(s_3.duplicate(arr_1, dup)) + \u0027\\tDuplication: \u0027 + str(dup[0]))\n"
      ]
    },
    {
      "cell_type": "markdown",
      "metadata": {
        "collapsed": true,
        "pycharm": {}
      },
      "source": [
        "\u003cb\u003e拓展： 不修改数组找出重复的数字。\u003c/b\u003e\n",
        "\n",
        "在一个长度为n+1的数组里，所有数字都在1~n范围内，所以数组中至少有一个数字是重复的。找出任意一个重复的数字但是不能修改输入的数组。\n",
        "\n",
        "思路1：同上面的思路2，利用哈希表，因此需要一个O(n)的辅助空间。\n",
        "\n",
        "\u003cb\u003e思路2：二分查找的变形。\u003c/b\u003e把从1~n的数字从中间的数字m分为两部分，前面一半为1~m，后面一半为m+1~n。如果1~m的数字数目超过m，那么这一半的区间里一定包含重复的数字；否则，另一半m+1~n的区间里一定包含重复的数字。然后继续把包含重复数字的区间一分为二，直到找到一个重复的数字。整个过程和二分查找十分类似，只是多了一步统计区间内数字的数目。\n",
        "\n",
        "时间复杂度：O(logn)*O(n)即O(nlogn) 空间复杂度：O(1)"
      ]
    },
    {
      "cell_type": "code",
      "execution_count": 5,
      "metadata": {
        "pycharm": {}
      },
      "outputs": [],
      "source": "class Solution:\n    def duplicate(self, arr, duplication):\n        \"\"\"\n        Find the duplicate numbers in an array \n        :param arr: input array, one-dimensional\n        :param duplication: a number that occurs at least twice in the array\n        :return: bool, whether a duplicate is found or not\n        \"\"\"\n        # Note to save duplicate numbers\n        # check if the input list is empty\n        if arr is None or len(arr) \u003c 1:\n            return False\n        # check if the input values conforms to specifications\n        for i in range(len(arr)):\n            if arr[i] \u003c 1 or arr[i] \u003e len(arr)-1:\n                return False\n            \n        # Binary search\n        start \u003d 1\n        end \u003d len(arr) - 1\n        while end \u003e\u003d start:\n            mid \u003d (start + end) // 2\n            # print(start, mid, end)\n            count \u003d self.count_range(arr, start, mid)\n            # count \u003d sum([(l\u003e\u003dstart and l\u003c\u003dmid) for l in arr])\n            # print(\"count: \" + str(count))\n            # stop condition\n            if start \u003d\u003d end:\n                if count \u003e 1:\n                    duplication[0] \u003d start\n                    return True\n                else:\n                    break\n            if count \u003e mid - start + 1:\n                end \u003d mid\n            else:\n                start \u003d mid+1\n        return False\n    \n    def count_range(self, arr, start, end):\n        \"\"\"\n        Calculate the number of elements in the array \n        greater than or equal to start, less than or equal to end.\n        :param arr: input array, one-dimensional\n        :param start: the lower bound\n        :param end: the upper bound\n        :return: integer, the number of elements\n        \"\"\"\n        if arr is None or len(arr) \u003c 1:\n            return 0\n        count \u003d 0\n        for i in range(len(arr)):\n            if start \u003c\u003d arr[i] \u003c\u003d end:\n                count +\u003d 1\n        return count"
    },
    {
      "cell_type": "code",
      "execution_count": null,
      "outputs": [],
      "source": "# Another solution (Save the duplicate number in duplication[0])\ndef duplicate(numbers, duplication):\n    left \u003d 1\n    right \u003d len(numbers) - 1\n    while left \u003c right:\n        left_num \u003d 0\n        right_num \u003d 0\n        mid \u003d (left + right) // 2\n        for n in numbers:\n            if left \u003c\u003d n \u003c\u003d mid:\n                left_num +\u003d 1\n            elif mid \u003c n \u003c\u003d right:\n                right_num +\u003d 1\n        if left_num \u003e mid - left + 1:\n            right \u003d mid\n        else:\n            left \u003d mid + 1\n    duplication[0] \u003d left",
      "metadata": {
        "pycharm": {
          "metadata": false,
          "name": "#%%\n"
        }
      }
    },
    {
      "cell_type": "code",
      "execution_count": 6,
      "metadata": {
        "collapsed": false,
        "pycharm": {}
      },
      "outputs": [
        {
          "name": "stdout",
          "output_type": "stream",
          "text": [
            "1 3 6\ncount: 4\n1 2 3\ncount: 3\n1 1 2\ncount: 2\n1 1 1\ncount: 2\nTrue\t\tDuplication: 1\n"
          ]
        }
      ],
      "source": "s \u003d Solution()\ndup \u003d [-1]\nlis \u003d [2, 1, 1, 4, 3, 5, 6]\nprint(str(s.duplicate(lis, dup)) + \u0027\\t\\tDuplication: \u0027 + str(dup[0]))\n"
    },
    {
      "cell_type": "code",
      "execution_count": null,
      "metadata": {
        "collapsed": true,
        "pycharm": {}
      },
      "outputs": [],
      "source": []
    }
  ],
  "metadata": {
    "kernelspec": {
      "display_name": "Python 3",
      "language": "python",
      "name": "python3"
    },
    "language_info": {
      "codemirror_mode": {
        "name": "ipython",
        "version": 3
      },
      "file_extension": ".py",
      "mimetype": "text/x-python",
      "name": "python",
      "nbconvert_exporter": "python",
      "pygments_lexer": "ipython3",
      "version": "3.6.3"
    }
  },
  "nbformat": 4,
  "nbformat_minor": 2
}