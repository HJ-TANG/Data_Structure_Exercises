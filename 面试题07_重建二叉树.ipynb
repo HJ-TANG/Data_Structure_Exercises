{
  "cells": [
    {
      "cell_type": "markdown",
      "metadata": {
        "collapsed": true,
        "pycharm": {}
      },
      "source": [
        "## 1. Python二叉树基础\n",
        "\n",
        "### 1.1 Node数据结构"
      ]
    },
    {
      "cell_type": "code",
      "execution_count": 1,
      "metadata": {
        "pycharm": {}
      },
      "outputs": [],
      "source": [
        "class Node(object):\n",
        "    def __init__(self, data):\n",
        "        self.data \u003d data\n",
        "        self.left \u003d None\n",
        "        self.right \u003d None\n"
      ]
    },
    {
      "cell_type": "markdown",
      "metadata": {
        "pycharm": {}
      },
      "source": [
        "### 1.2 Binary Tree二叉树结构\n",
        "\n",
        "### 1.3 树的遍历\n",
        "\n",
        "树的遍历分为深度优先遍历和广度优先遍历，前者有前序、中序、后序，后者有层次遍历。一般来说，深度优先用递归，广度优先用队列。\n",
        "\n",
        "七种常见遍历方式：递归实现前序、中序、后序遍历，循环实现前序、中序、后序遍历，以及层序遍历。"
      ]
    },
    {
      "cell_type": "code",
      "execution_count": 2,
      "metadata": {
        "collapsed": false,
        "pycharm": {}
      },
      "outputs": [],
      "source": "class BiTree(object):\n    def __init__(self):\n        self._root \u003d None\n        self._my_list \u003d []\n\n    def get_root(self):\n        return self._root\n\n    def get_nodes(self):\n        return self._my_list\n\n    def insert(self, *eles):\n        \"\"\"\n        Insert nodes to a Binary Search Tree.\n        :param eles: numerical elements that to be inserted\n        \"\"\"\n        if eles is None:\n            return\n        \n        if self._root is None:\n            root_node \u003d Node(eles[0])\n            self._root \u003d root_node\n            self._my_list.append(root_node)\n            eles \u003d eles[1:]\n        for e in eles:\n            root_node \u003d self._root\n            node \u003d Node(e)\n            while True:\n                if node.data \u003c root_node.data:  \n                    # Move to the left\n                    if root_node.left is None:\n                        root_node.left \u003d node\n                        self._my_list.append(node)\n                        break  # don\u0027t forget to break after finding a place\n                    else:\n                        root_node \u003d root_node.left\n                else:\n                    # Move to the right\n                    if root_node.right is None:\n                        root_node.right \u003d node\n                        self._my_list.append(node)\n                        break  # don\u0027t forget to break after finding a place\n                    else:\n                        root_node \u003d root_node.right\n\n    def front_traversal_recursive(self, root_node):\n        if root_node is None:\n            return\n        print(root_node.data, end\u003d\u0027 \u0027)\n        self.front_traversal_recursive(root_node.left)\n        self.front_traversal_recursive(root_node.right)\n\n    def front_traversal_loop(self, root_node):\n        if root_node is None:\n            return\n        my_stack \u003d []\n        node \u003d root_node\n        while node or my_stack:\n            while node:  # search the left child tree from the root node\n                print(node.data, end\u003d\u0027 \u0027)\n                my_stack.append(node)\n                node \u003d node.left  \n            # when the last node has no left child, jump out of the while loop\n            node \u003d my_stack.pop()\n            node \u003d node.right  # begin to search the right child\n\n    def middle_traversal_recursive(self, root_node):\n        if root_node is None:\n            return\n        self.middle_traversal_recursive(root_node.left)\n        print(root_node.data, end\u003d\u0027 \u0027)\n        self.middle_traversal_recursive(root_node.right)\n\n    def middle_traversal_loop(self, root_node):\n        if root_node is None:\n            return \n        my_stack \u003d []\n        node \u003d root_node\n        while node or my_stack:\n            while node:\n                my_stack.append(node)\n                node \u003d node.left\n            node \u003d my_stack.pop()\n            print(node.data, end\u003d\u0027 \u0027)\n            node \u003d node.right\n\n    def last_traversal_recursive(self, root_node):\n        if root_node is None:\n            return \n        self.last_traversal_recursive(root_node.left)\n        self.last_traversal_recursive(root_node.right)\n        print(root_node.data, end\u003d\u0027 \u0027)\n \n    def last_traversal_loop(self, root_node):\n        \"\"\"\n        借助my_stack1找出后序遍历的逆序，即根节点 -\u003e 右子节点 -\u003e 左子节点，存在my_stack2中。\n        每遍历到一个节点，就把其左右节点加入my_stack1，当前节点加入my_stack2。接下来访问stack1的最近加进去的节点（右节点）...\n        \"\"\"\n        if root_node is None:\n            return \n        node \u003d root_node\n        my_stack1 \u003d []\n        my_stack2 \u003d []\n        my_stack1.append(node)\n        while my_stack1:          # 这个while循环的功能是找出后序遍历的逆序，存在myStack2里面\n            node \u003d my_stack1.pop()\n            if node.left:\n                my_stack1.append(node.left)   # 先加左子节点\n            if node.right:\n                my_stack1.append(node.right)  # 再加右子节点\n            my_stack2.append(node)\n        while my_stack2:                      # 将myStack2中的元素出栈，即为后序遍历次序\n            print(my_stack2.pop().data, end\u003d\u0027 \u0027)\n\n    def level_queue(self, root_node):\n        \"\"\"\n        Implements level traversal using queue\n        \"\"\"\n        if root_node is None: \n            return \n        my_queue \u003d []\n        node \u003d root_node \n        my_queue.append(node) \n        while my_queue: \n            node \u003d my_queue.pop(0) \n            print(node.data, end\u003d\u0027 \u0027)\n            if node.left is not None: \n                my_queue.append(node.left) \n            if node.right is not None: \n                my_queue.append(node.right)\n"
    },
    {
      "cell_type": "code",
      "execution_count": 3,
      "metadata": {
        "collapsed": false,
        "pycharm": {}
      },
      "outputs": [
        {
          "name": "stdout",
          "output_type": "stream",
          "text": [
            "Front traversal recursive:\n43 23 2 12 8 54 45 \nFront traversal loop:\n43 23 2 12 8 54 45 \nMiddle traversal recursive:\n2 8 12 23 43 45 54 \nMiddle traversal loop:\n2 8 12 23 43 45 54 \nLast traversal recursive:\n8 12 2 23 45 54 43 \nLast traversal loop:\n8 12 2 23 45 54 43 \nLevel traversal:\n43 23 54 2 45 12 8 "
          ]
        }
      ],
      "source": [
        "l \u003d [43, 54, 23, 2, 45, 12, 8]\n",
        "tree \u003d BiTree()\n",
        "tree.insert(*l)\n",
        "# print(tree)\n",
        "# print(tree.get_root())\n",
        "# print(tree.get_nodes())\n",
        "# print(tree.get_root().data)\n",
        "print(\"Front traversal recursive:\")\n",
        "tree.front_traversal_recursive(tree.get_root())\n",
        "print(\"\\nFront traversal loop:\")\n",
        "tree.front_traversal_loop(tree.get_root())\n",
        "print(\"\\nMiddle traversal recursive:\")\n",
        "tree.middle_traversal_recursive(tree.get_root())\n",
        "print(\"\\nMiddle traversal loop:\")\n",
        "tree.middle_traversal_loop(tree.get_root())\n",
        "print(\"\\nLast traversal recursive:\")\n",
        "tree.last_traversal_recursive(tree.get_root())\n",
        "print(\"\\nLast traversal loop:\")\n",
        "tree.last_traversal_loop(tree.get_root())\n",
        "print(\"\\nLevel traversal:\")\n",
        "tree.level_queue(tree.get_root())\n"
      ]
    },
    {
      "cell_type": "markdown",
      "metadata": {
        "pycharm": {}
      },
      "source": [
        "## 2. 面试题7：重建二叉树\n",
        "\n",
        "题目：输入某二叉树的前序遍历和中序遍历的结果，请重建该二叉树。假设输入的前序遍历和中序遍历的结果中都不含重复的数字。例如输入前序遍历序列{1,2,4,7,3,5,6,8}和中序遍历序列{4,7,2,1,5,3,8,6}，则重建二叉树并输出其头节点。\n",
        "\n",
        "思路：在二叉树的前序遍历序列中，第一个数字总是树的根节点的值。在中序遍历序列中，根节点的值在序列的中间，左子树的值位于根节点值的左边，右子树的节点的值位于根节点的值的右边。扫描中序遍历序列，确定根节点的值的位置。左边就是左子树节点的值，右边就是右子树节点的值。然后用递归方法确定左右子树的子序列。"
      ]
    },
    {
      "cell_type": "code",
      "execution_count": 10,
      "metadata": {
        "pycharm": {}
      },
      "outputs": [],
      "source": "class Solution:\n    def reConstructBinaryTree(self, pre, tin):\n        if not pre or not tin:\n            return None\n\n        root \u003d Node(pre[0])\n        root_index \u003d tin.index(pre[0])\n        pre_left \u003d pre[1:root_index+1]\n        pre_right \u003d pre[root_index+1:]\n        tin_left \u003d tin[:root_index]\n        tin_right \u003d tin[root_index+1:]\n\n        root.left \u003d self.reConstructBinaryTree(pre_left, tin_left)\n        root.right \u003d self.reConstructBinaryTree(pre_right, tin_right)\n\n        return root"
    },
    {
      "cell_type": "code",
      "execution_count": 15,
      "metadata": {
        "pycharm": {}
      },
      "outputs": [
        {
          "name": "stdout",
          "output_type": "stream",
          "text": [
            "Front:\n1 2 4 7 3 5 6 8 \nMiddle\n4 7 2 1 5 3 8 6 "
          ]
        }
      ],
      "source": "s \u003d Solution()\nnew_head \u003d s.reConstructBinaryTree([1, 2, 4, 7, 3, 5, 6, 8], [4, 7, 2, 1, 5, 3, 8, 6])\ntree_2 \u003d BiTree()\nprint(\"Front:\")\ntree_2.front_traversal_recursive(new_head)\nprint(\"\\nMiddle\")\ntree_2.middle_traversal_recursive(new_head)"
    },
    {
      "cell_type": "code",
      "execution_count": 13,
      "metadata": {
        "pycharm": {}
      },
      "outputs": [],
      "source": [
        ""
      ]
    },
    {
      "cell_type": "code",
      "execution_count": null,
      "metadata": {
        "pycharm": {}
      },
      "outputs": [],
      "source": []
    }
  ],
  "metadata": {
    "kernelspec": {
      "display_name": "Python 2",
      "language": "python",
      "name": "python2"
    },
    "language_info": {
      "codemirror_mode": {
        "name": "ipython",
        "version": 2
      },
      "file_extension": ".py",
      "mimetype": "text/x-python",
      "name": "python",
      "nbconvert_exporter": "python",
      "pygments_lexer": "ipython2",
      "version": "2.7.6"
    }
  },
  "nbformat": 4,
  "nbformat_minor": 0
}