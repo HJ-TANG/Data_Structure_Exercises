{
 "cells": [
  {
   "cell_type": "markdown",
   "metadata": {
    "collapsed": true
   },
   "source": [
    "## 面试题11：旋转数组的最小数字\n",
    "\n",
    "把一个数组最开始的若干个元素搬到数组的末尾，我们称之为数组的旋转。 输入一个非递减排序的数组的一个旋转，输出旋转数组的最小元素。 例如数组{3,4,5,1,2}为{1,2,3,4,5}的一个旋转，该数组的最小值为1。 NOTE：给出的所有元素都大于0，若数组大小为0，请返回0"
   ]
  },
  {
   "cell_type": "markdown",
   "metadata": {},
   "source": [
    "思路：二分查找。不断将中间的值跟第一个值比较，若比第一个值大，则最小值位于[mid, right]中，若比第一个值小，则最小值位于[left, mid]中。"
   ]
  },
  {
   "cell_type": "code",
   "execution_count": 28,
   "metadata": {},
   "outputs": [],
   "source": [
    "class Solution:\n",
    "    def minNumberInRotateArray(self, rotateArray):\n",
    "        if not rotateArray:\n",
    "            return\n",
    "        if len(rotateArray) == 0:\n",
    "            return 0\n",
    "        left = 0\n",
    "        right = len(rotateArray)-1\n",
    "\n",
    "        while left < right:\n",
    "            mid = (right - left) // 2 + left\n",
    "            if right - left <= 1:\n",
    "                return rotateArray[right]  # 在分界线处，右边的为最小值\n",
    "            if rotateArray[left] < rotateArray[mid]:\n",
    "                left = mid\n",
    "            else:\n",
    "                right = mid"
   ]
  },
  {
   "cell_type": "code",
   "execution_count": 29,
   "metadata": {},
   "outputs": [
    {
     "name": "stdout",
     "output_type": "stream",
     "text": [
      "1\n"
     ]
    }
   ],
   "source": [
    "s = Solution()\n",
    "print(s.minNumberInRotateArray([3,4,5,6,7,8,1,2]))"
   ]
  },
  {
   "cell_type": "markdown",
   "metadata": {},
   "source": [
    "### 扩展：旋转数组中的查找\n",
    "\n",
    "对已排好序的数组A，一般来说可用二分查找 可以很快找到。现有一特殊数组A[]，它是循环递增的，如A[]={ 17 19 20 25 1 4 7 9}，试在这样的数组中找一元素x，看看是否存在。"
   ]
  },
  {
   "cell_type": "code",
   "execution_count": 36,
   "metadata": {},
   "outputs": [],
   "source": [
    "class Solution:\n",
    "    def certainNumberInRotateArray(self, rotateArray, number):\n",
    "        if len(rotateArray) == 0:\n",
    "            return -1\n",
    "        left = 0\n",
    "        right = len(rotateArray) - 1\n",
    "        while left < right:\n",
    "            if right - left <= 1:\n",
    "                if number == rotateArray[left]:\n",
    "                    return left\n",
    "                if number == rotateArray[right]:\n",
    "                    return right\n",
    "                return -1\n",
    "            mid = (right - left) // 2 + left\n",
    "            if rotateArray[left] <= rotateArray[mid]:\n",
    "                if rotateArray[left] <= number <= rotateArray[mid]:\n",
    "                    right = mid\n",
    "                else:\n",
    "                    left = mid\n",
    "            else:\n",
    "                if rotateArray[mid] <= number <= rotateArray[right]:\n",
    "                    left = mid\n",
    "                else:\n",
    "                    right = mid\n",
    "        return -1"
   ]
  },
  {
   "cell_type": "code",
   "execution_count": 38,
   "metadata": {},
   "outputs": [
    {
     "name": "stdout",
     "output_type": "stream",
     "text": [
      "8\n0\n-1\n"
     ]
    }
   ],
   "source": [
    "s = Solution()\n",
    "print(s.certainNumberInRotateArray(([15,16,19,20,30,1,4,7,9]),9))\n",
    "print(s.certainNumberInRotateArray(([15,16,19,20,30,1,4,7,9]),15))\n",
    "print(s.certainNumberInRotateArray(([15,16,19,20,30,1,4,7,9]),100))"
   ]
  },
  {
   "cell_type": "code",
   "execution_count": null,
   "metadata": {},
   "outputs": [],
   "source": []
  }
 ],
 "metadata": {
  "kernelspec": {
   "display_name": "Python 2",
   "language": "python",
   "name": "python2"
  },
  "language_info": {
   "codemirror_mode": {
    "name": "ipython",
    "version": 2
   },
   "file_extension": ".py",
   "mimetype": "text/x-python",
   "name": "python",
   "nbconvert_exporter": "python",
   "pygments_lexer": "ipython2",
   "version": "2.7.6"
  }
 },
 "nbformat": 4,
 "nbformat_minor": 0
}
