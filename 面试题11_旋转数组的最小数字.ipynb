{
 "cells": [
  {
   "cell_type": "markdown",
   "metadata": {
    "collapsed": true
   },
   "source": [
    "## 面试题11：旋转数组的最小数字\n",
    "\n",
    "把一个数组最开始的若干个元素搬到数组的末尾，我们称之为数组的旋转。 输入一个非递减排序的数组的一个旋转，输出旋转数组的最小元素。 例如数组{3,4,5,1,2}为{1,2,3,4,5}的一个旋转，该数组的最小值为1。 NOTE：给出的所有元素都大于0，若数组大小为0，请返回0"
   ]
  },
  {
   "cell_type": "markdown",
   "metadata": {},
   "source": [
    "思路：二分查找。不断将中间的值跟第一个值比较，若比第一个值大，则最小值位于[mid, right]中，若比第一个值小，则最小值位于[left, mid]中。"
   ]
  },
  {
   "cell_type": "code",
   "execution_count": 6,
   "metadata": {},
   "outputs": [],
   "source": [
    "class Solution:\n",
    "    def minNumberInRotateArray(self, rotateArray):\n",
    "        if not rotateArray:\n",
    "            return\n",
    "        if len(rotateArray) == 0:\n",
    "            return 0\n",
    "        left = 0\n",
    "        right = len(rotateArray)-1\n",
    "\n",
    "        while left < right:\n",
    "            mid = (right - left) // 2 + left\n",
    "            if right - left <= 1:\n",
    "                if rotateArray[left] <= rotateArray[right]:\n",
    "                    return rotateArray[left]\n",
    "                else:\n",
    "                    return rotateArray[right]\n",
    "            if rotateArray[left] < rotateArray[mid]:\n",
    "                left = mid\n",
    "            else:\n",
    "                right = mid"
   ]
  },
  {
   "cell_type": "code",
   "execution_count": 7,
   "metadata": {},
   "outputs": [
    {
     "name": "stdout",
     "output_type": "stream",
     "text": [
      "1\n"
     ]
    }
   ],
   "source": [
    "s = Solution()\n",
    "print(s.minNumberInRotateArray([3,4,5,6,7,8,1,2]))"
   ]
  },
  {
   "cell_type": "code",
   "execution_count": null,
   "metadata": {},
   "outputs": [],
   "source": []
  }
 ],
 "metadata": {
  "kernelspec": {
   "display_name": "Python 2",
   "language": "python",
   "name": "python2"
  },
  "language_info": {
   "codemirror_mode": {
    "name": "ipython",
    "version": 2
   },
   "file_extension": ".py",
   "mimetype": "text/x-python",
   "name": "python",
   "nbconvert_exporter": "python",
   "pygments_lexer": "ipython2",
   "version": "2.7.6"
  }
 },
 "nbformat": 4,
 "nbformat_minor": 0
}
