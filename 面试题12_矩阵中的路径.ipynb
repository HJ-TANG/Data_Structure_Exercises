{
  "cells": [
    {
      "cell_type": "markdown",
      "metadata": {
        "collapsed": true,
        "pycharm": {
          "name": "#%% md\n"
        }
      },
      "source": "## 面试题12：矩阵中的路径\n\n题目：请设计一个函数，用来判断在一个矩阵中是否存在一条包含某字符串所有字符的路径。\n路径可以从矩阵中的任意一个格子开始，每一步可以在矩阵中向左，向右，向上，向下移动一个格子。\n如果一条路径经过了矩阵中的某一个格子，则之后不能再次进入这个格子。 \n例如 a b c e s f c s a d e e 这样的3 X 4 矩阵中包含一条字符串\"bcced\"的路径，但是矩阵中不包含\"abcb\"路径，\n因为字符串的第一个字符b占据了矩阵中的第一行第二个格子之后，路径不能再次进入该格子。\n\n思路：回溯法。路径不能重复进入矩阵的格子，所以需要定义一个和字符矩阵大小一样的布尔值矩阵，用来标识路径是否已经进入每个格子。"
    },
    {
      "cell_type": "code",
      "execution_count": null,
      "outputs": [],
      "source": "class Solution:\n    def hasPath(self, matrix, rows, cols, path):\n        # write code here\n        if not matrix or rows \u003c 1 or cols \u003c 1 or not path:\n            return False\n\n        passed \u003d [[0 for i in range(cols)] for j in range(rows)]\n\n        def core(i, r, c):\n            # 如果不匹配\n            if matrix[r*cols+c] !\u003d path[i]:\n                passed[r][c] \u003d 0\n                return\n            # 如果匹配\n            passed[r][c] \u003d 1\n            # 如果比较到了最后一个字符\n            if i \u003d\u003d len(path) - 1:\n                raise Exception\n            else:\n                # 向上\n                if r \u003e 0 and passed[r-1][c] \u003d\u003d 0:\n                    core(i+1, r-1, c)\n                # 向左\n                if c \u003e 0 and passed[r][c-1] \u003d\u003d 0:\n                    core(i+1, r, c-1)\n                # 向右\n                if c \u003c cols-1 and passed[r][c+1] \u003d\u003d 0:\n                    core(i+1, r, c+1)\n                # 向下\n                if r \u003c rows-1 and passed[r+1][c] \u003d\u003d 0:\n                    core(i+1, r+1, c)\n                # 如果四个方向都没找到\n                passed[r][c] \u003d 0\n\n        try:\n            for row in range(rows):\n                for col in range(cols):\n                    core(0, row, col)\n        except Exception:\n            return True\n        return False",
      "metadata": {
        "pycharm": {
          "metadata": false,
          "name": "#%%\n"
        }
      }
    },
    {
      "cell_type": "code",
      "execution_count": null,
      "outputs": [],
      "source": "s \u003d Solution()\nmat \u003d \u0027ABCEHJIGSFCSLOPQADEEMNOEADIDEJFMVCEIFGGS\u0027\nf \u003d s.hasPath(mat, 5, 8, \u0027SGGFIECVAASABCEHJIGQEM\u0027)\nprint(f)\n# \"ABCESFCSADEE\",3,4,\"ABCB\"",
      "metadata": {
        "pycharm": {
          "metadata": false,
          "name": "#%%\n"
        }
      }
    }
  ],
  "metadata": {
    "language_info": {
      "codemirror_mode": {
        "name": "ipython",
        "version": 2
      },
      "file_extension": ".py",
      "mimetype": "text/x-python",
      "name": "python",
      "nbconvert_exporter": "python",
      "pygments_lexer": "ipython2",
      "version": "2.7.6"
    },
    "kernelspec": {
      "name": "pycharm-1ce6c0c3",
      "language": "python",
      "display_name": "PyCharm (Offer)"
    }
  },
  "nbformat": 4,
  "nbformat_minor": 0
}