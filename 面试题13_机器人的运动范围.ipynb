{
 "cells": [
  {
   "cell_type": "markdown",
   "metadata": {
    "collapsed": true,
    "pycharm": {
     "name": "#%% md\n"
    }
   },
   "source": [
    "## 面试题13：机器人的运动范围\n",
    "\n",
    "题目：地上有一个m行和n列的方格。一个机器人从坐标0,0的格子开始移动，每一次只能向左，右，上，下四个方向移动一格，\n",
    "但是不能进入行坐标和列坐标的数位之和大于k的格子。 例如，当k为18时，机器人能够进入方格（35,37），因为3+5+3+7 = 18。\n",
    "但是，它不能进入方格（35,38），因为3+5+3+8 = 19。请问该机器人能够达到多少个格子？"
   ]
  },
  {
   "cell_type": "code",
   "execution_count": null,
   "outputs": [],
   "source": [
    "class Solution:\n",
    "    def movingCount(self, threshold, rows, cols):\n",
    "        # write code here\n",
    "        visited = [[0 for i in range(cols)] for j in range(rows)]\n",
    "\n",
    "        def check(row, col):\n",
    "            sum_row = sum(int(i) for i in str(row))\n",
    "            sum_col = sum(int(j) for j in str(col))\n",
    "            if (sum_row + sum_col) > threshold:\n",
    "                return False\n",
    "            return True\n",
    "\n",
    "        def core(row, col):\n",
    "            if not check(row, col):\n",
    "                return\n",
    "            visited[row][col] = 1\n",
    "            # 向右\n",
    "            if col < cols-1 and visited[row][col+1] == 0:\n",
    "                core(row, col+1)\n",
    "            # 向下\n",
    "            if row < rows-1 and visited[row+1][col] == 0:\n",
    "                core(row+1, col)\n",
    "            # 向左\n",
    "            if col > 0 and visited[row][col-1] == 0:\n",
    "                core(row, col-1)\n",
    "            # 向上\n",
    "            if row > 0 and visited[row-1][col] == 0:\n",
    "                core(row-1, col)\n",
    "\n",
    "        core(0, 0)\n",
    "        return sum(sum(visited[i]) for i in range(len(visited)))\n",
    "\n",
    "\n"
   ],
   "metadata": {
    "collapsed": false,
    "pycharm": {
     "name": "#%%\n"
    }
   }
  }
 ],
 "metadata": {
  "language_info": {
   "codemirror_mode": {
    "name": "ipython",
    "version": 2
   },
   "file_extension": ".py",
   "mimetype": "text/x-python",
   "name": "python",
   "nbconvert_exporter": "python",
   "pygments_lexer": "ipython2",
   "version": "2.7.6"
  },
  "kernelspec": {
   "name": "python3",
   "language": "python",
   "display_name": "Python 3"
  },
  "pycharm": {
   "stem_cell": {
    "cell_type": "raw",
    "source": [],
    "metadata": {
     "collapsed": false
    }
   }
  }
 },
 "nbformat": 4,
 "nbformat_minor": 0
}