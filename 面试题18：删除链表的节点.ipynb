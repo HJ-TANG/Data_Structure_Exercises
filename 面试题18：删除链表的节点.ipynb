{
 "cells": [
  {
   "cell_type": "markdown",
   "metadata": {
    "collapsed": true
   },
   "source": [
    "## 面试题18：删除链表的节点\n",
    "\n",
    "### 题目一：在O(1)时间内删除链表节点。\n",
    "\n",
    "<b>给定单向链表的头节点和其中一个节点，定义一个函数在O(1)时间内删除该节点。</b>常用的遍历算法时间复杂度为O(n)。另一种方法为在删除节点i之前，将i->next即节点j覆盖节点i，再把i->next指向j->next。"
   ]
  },
  {
   "cell_type": "code",
   "execution_count": 1,
   "metadata": {},
   "outputs": [],
   "source": [
    "class Node:\n",
    "    \"\"\"\n",
    "    data: the value saved in this node\n",
    "    next: save the next node object\n",
    "    \"\"\"\n",
    "    def __init__(self, data, p_next=None):\n",
    "        self.data = data\n",
    "        self.next = p_next\n",
    "    \n",
    "    def __repr__(self):\n",
    "        \"\"\"\n",
    "        Define the characteristic output of Node\n",
    "        :return: value of the node\n",
    "        \"\"\"\n",
    "        return str(self.data)\n",
    "    \n",
    "\n",
    "class Solution1:\n",
    "    def delete_node(self, head_node, del_node):\n",
    "        if head_node is None:\n",
    "            print(\"Empty linked list!\")\n",
    "            return\n",
    "        if not (isinstance(head_node, Node) and isinstance(del_node, Node)):\n",
    "            print(\"Not nodes!\")\n",
    "            return \n",
    "            \n",
    "        # if the to be deleted node is not the tail node\n",
    "        if del_node.next:\n",
    "            print(\"to be deleted node is not the tail node\")\n",
    "            del_node_next = del_node.next\n",
    "            del_node.data = del_node_next.data\n",
    "            del_node.next = del_node_next.next\n",
    "            # del_node_next = None\n",
    "            del_node_next.data = None\n",
    "            del_node_next.next = None\n",
    "        \n",
    "        # if the linked list only has one node, delete the only node(head node also tail node)\n",
    "        elif head_node == del_node:\n",
    "            print(\"the linked list only has one node\")\n",
    "            head_node.next = None\n",
    "            head_node.data = None\n",
    "        \n",
    "        # if the to be deleted node is the tail node\n",
    "        else:\n",
    "            print(\"the to be deleted node is the tail node\")\n",
    "            curr_node = head_node\n",
    "            while curr_node.next != del_node:\n",
    "                curr_node = curr_node.next\n",
    "            curr_node.next = None\n"
   ]
  },
  {
   "cell_type": "code",
   "execution_count": 2,
   "metadata": {
    "collapsed": false
   },
   "outputs": [
    {
     "name": "stdout",
     "output_type": "stream",
     "text": [
      "the to be deleted node is the tail node\n2\n4\n6\n==============\nthe linked list only has one node\nNone\n"
     ]
    }
   ],
   "source": [
    "n1 = Node(2)\n",
    "n2 = Node(4)\n",
    "n3 = Node(6)\n",
    "n4 = Node(8)\n",
    "n1.next = n2\n",
    "n2.next = n3\n",
    "n3.next = n4\n",
    "s = Solution1()\n",
    "s.delete_node(n1, n4)\n",
    "\n",
    "curr_node = n1\n",
    "while curr_node:\n",
    "    print(curr_node)\n",
    "    curr_node = curr_node.next\n",
    "    \n",
    "print(\"==============\")\n",
    "n10 = Node(10)\n",
    "s.delete_node(n10, n10)\n",
    "print(n10)\n"
   ]
  },
  {
   "cell_type": "markdown",
   "metadata": {},
   "source": [
    "<b>补充： Python的引用传参机制。</b> \n",
    "\n",
    "[Python 的函数是怎么传递参数的? - resolvewang的回答 - 知乎](https://www.zhihu.com/question/20591688/answer/423314919)\n",
    "\n",
    "当node = None时，不是把原地址里面内容清空，而是开辟一块新地址。这样在函数外面访问node访问的是原地址，里面还是有值。"
   ]
  },
  {
   "cell_type": "code",
   "execution_count": 3,
   "metadata": {},
   "outputs": [
    {
     "name": "stdout",
     "output_type": "stream",
     "text": [
      "before delete: 114075632\nafter delete: 114075632\n20\nbefore: 114076304\nafter: 1520342160\nNone\n"
     ]
    }
   ],
   "source": [
    "def delete(node):\n",
    "    node = None\n",
    "\n",
    "\n",
    "n20 = Node(20)\n",
    "print(\"before delete:\", id(n20))\n",
    "delete(n20)\n",
    "print(\"after delete:\", id(n20))\n",
    "print(n20)\n",
    "      \n",
    "n30 = Node(30)\n",
    "print(\"before:\", id(n30))\n",
    "n30 = None \n",
    "print(\"after:\", id(n30))\n",
    "print(n30)\n"
   ]
  },
  {
   "cell_type": "markdown",
   "metadata": {},
   "source": [
    "### 题目二：删除链表中重复的节点。\n",
    "\n",
    "在一个排序的链表中，删除重复的节点。"
   ]
  },
  {
   "cell_type": "code",
   "execution_count": 4,
   "metadata": {},
   "outputs": [],
   "source": [
    "class Solution2:\n",
    "    def delete_duplicate(self, head_node):\n",
    "        if head_node is None:\n",
    "            return\n",
    "\n",
    "        first_node = Node(-1)\n",
    "        first_node.next = head_node\n",
    "        last_node = first_node\n",
    "\n",
    "        while head_node and head_node.next:\n",
    "            if head_node.data == head_node.next.data:\n",
    "                data = head_node.data\n",
    "                while head_node and head_node.data == data:\n",
    "                    head_node = head_node.next\n",
    "                last_node.next = head_node  # when last_node is changed, first_node also changed\n",
    "            else:\n",
    "                last_node = head_node\n",
    "                head_node = head_node.next\n",
    "                \n",
    "        # another answer\n",
    "        # while head_node:\n",
    "        #     del_flag = False\n",
    "        #     next_node = head_node.next\n",
    "        #     while next_node:\n",
    "        #         if next_node.data == head_node.data:\n",
    "        #             del_flag = True\n",
    "        #             next_node = next_node.next\n",
    "        #         else:\n",
    "        #             break\n",
    "        #     if del_flag:\n",
    "        #         last_node.next = next_node\n",
    "        #     else:\n",
    "        #         last_node = head_node\n",
    "        #     head_node = last_node.next\n",
    "        \n",
    "        return first_node.next\n"
   ]
  },
  {
   "cell_type": "code",
   "execution_count": 5,
   "metadata": {},
   "outputs": [
    {
     "name": "stdout",
     "output_type": "stream",
     "text": [
      "5\n"
     ]
    }
   ],
   "source": [
    "n0 = Node(2)\n",
    "n1 = Node(2)\n",
    "n2 = Node(4)\n",
    "n3 = Node(4)\n",
    "n4 = Node(5)\n",
    "n5 = Node(8)\n",
    "n6 = Node(8)\n",
    "n0.next = n1\n",
    "n1.next = n2\n",
    "n2.next = n3\n",
    "n3.next = n4\n",
    "n4.next = n5\n",
    "n5.next = n6\n",
    "s = Solution2()\n",
    "new_head = s.delete_duplicate(n0)\n",
    "\n",
    "curr_node = new_head\n",
    "while curr_node:\n",
    "    print(curr_node)\n",
    "    curr_node = curr_node.next\n"
   ]
  },
  {
   "cell_type": "code",
   "execution_count": null,
   "metadata": {},
   "outputs": [],
   "source": []
  }
 ],
 "metadata": {
  "kernelspec": {
   "display_name": "Python 2",
   "language": "python",
   "name": "python2"
  },
  "language_info": {
   "codemirror_mode": {
    "name": "ipython",
    "version": 2
   },
   "file_extension": ".py",
   "mimetype": "text/x-python",
   "name": "python",
   "nbconvert_exporter": "python",
   "pygments_lexer": "ipython2",
   "version": "2.7.6"
  }
 },
 "nbformat": 4,
 "nbformat_minor": 0
}
