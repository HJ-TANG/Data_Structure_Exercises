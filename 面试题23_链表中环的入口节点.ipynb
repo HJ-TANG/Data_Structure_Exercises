{
  "cells": [
    {
      "cell_type": "markdown",
      "metadata": {
        "collapsed": true,
        "pycharm": {
          "name": "#%% md\n"
        }
      },
      "source": "## 面试题23：链表中环的入口节点\n\n题目：如果一个链表中包含环，如何找出环的入口节点？"
    },
    {
      "cell_type": "markdown",
      "source": "一种思路是（三步）：\n\n- **确定一个链表中是否有环**：设置快慢指针，一个一次走一步，另一个一次走两步，如果在快指针到达链表结尾时，慢指针还没有追上快指针，那么就是没有环。反之则有环。\n\n- **得到环上的节点个数n**：若有环，在相遇的位置，一个指针不动，另一个指针绕环一圈，则可得到环上节点个数n。\n\n- p2在头节点处，p1从头节点往前走n步，然后两个指针以相同的速度移动，当两指针相遇时，即为环的入口。因为两个指针之间的距离一直为n，也就是环的长度，\n那么当p2走到入口处时(设头节点到入口处距离为a)，p1走过了a+n，正好绕环一圈，跟p2在入口处相遇。",
      "metadata": {
        "pycharm": {
          "metadata": false,
          "name": "#%% md\n"
        }
      }
    },
    {
      "cell_type": "code",
      "execution_count": null,
      "outputs": [],
      "source": "class Solution:\n    def EntryNodeOfLoop(self, pHead):\n        # write code here\n        if pHead is None:\n            return None\n        p1 \u003d pHead\n        p2 \u003d pHead\n        has_loop \u003d False\n        # Step 1\n        while p1 and p1.next:\n            p1 \u003d p1.next.next\n            p2 \u003d p2.next\n            if p1 \u003d\u003d p2:\n                has_loop \u003d True\n                break\n        if has_loop:\n            # Step 2\n            num \u003d 1  # 环上的节点个数\n            p2 \u003d p2.next\n            while p1 !\u003d p2:\n                num +\u003d 1\n                p2 \u003d p2.next\n            # Step 3\n            p1 \u003d pHead\n            p2 \u003d pHead\n            for i in range(num):\n                p2 \u003d p2.next\n            while p1 !\u003d p2:\n                p1 \u003d p1.next\n                p2 \u003d p2.next\n            return p1\n        else:\n            return None",
      "metadata": {
        "pycharm": {
          "metadata": false,
          "name": "#%%\n"
        }
      }
    }
  ],
  "metadata": {
    "language_info": {
      "codemirror_mode": {
        "name": "ipython",
        "version": 2
      },
      "file_extension": ".py",
      "mimetype": "text/x-python",
      "name": "python",
      "nbconvert_exporter": "python",
      "pygments_lexer": "ipython2",
      "version": "2.7.6"
    },
    "kernelspec": {
      "name": "pycharm-1ce6c0c3",
      "language": "python",
      "display_name": "PyCharm (Offer)"
    }
  },
  "nbformat": 4,
  "nbformat_minor": 0
}