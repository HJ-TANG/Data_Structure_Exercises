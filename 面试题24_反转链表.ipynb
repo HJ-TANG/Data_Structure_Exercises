{
 "cells": [
  {
   "cell_type": "markdown",
   "metadata": {
    "collapsed": true
   },
   "source": [
    "## 面试题24：反转链表\n",
    "\n",
    "题目：定义一个函数，输入一个链表的头节点，反转该链表并输出反转后链表的头节点。\n",
    "\n",
    "思路：需要定义3个指针，分别指向当前遍历到的节点，它的前一个节点及后一个节点。（注意原头节点的next记得设置为None，否则会陷入死循环。）\n",
    "\n",
    "注意：提前想好测试用例，注意代码的鲁棒性。"
   ]
  },
  {
   "cell_type": "code",
   "execution_count": 9,
   "metadata": {},
   "outputs": [],
   "source": [
    "class Node:\n",
    "    \"\"\"\n",
    "    data: the value saved in this node\n",
    "    next: save the next node object\n",
    "    \"\"\"\n",
    "    def __init__(self, data, p_next=None):\n",
    "        self.data = data\n",
    "        self.next = p_next\n",
    "    \n",
    "    def __repr__(self):\n",
    "        \"\"\"\n",
    "        Define the characteristic output of Node\n",
    "        :return: value of the node\n",
    "        \"\"\"\n",
    "        return str(self.data)\n"
   ]
  },
  {
   "cell_type": "code",
   "execution_count": 10,
   "metadata": {},
   "outputs": [],
   "source": [
    "class Solution:\n",
    "    def reverse_list(self, head_node):\n",
    "        if head_node is None:\n",
    "            return None\n",
    "        if head_node.next is None:\n",
    "            return head_node\n",
    "        pre_node = head_node\n",
    "        curr_node = head_node.next\n",
    "        post_node = curr_node.next\n",
    "        # don't forget to update the next node of head node\n",
    "        pre_node.next = None\n",
    "        while post_node:\n",
    "            curr_node.next = pre_node\n",
    "            pre_node = curr_node\n",
    "            curr_node = post_node\n",
    "            post_node = post_node.next\n",
    "        curr_node.next = pre_node\n",
    "        return curr_node\n"
   ]
  },
  {
   "cell_type": "code",
   "execution_count": 14,
   "metadata": {},
   "outputs": [
    {
     "name": "stdout",
     "output_type": "stream",
     "text": [
      "5\n4\n2\n1\n"
     ]
    }
   ],
   "source": [
    "n0 = Node(1)\n",
    "n1 = Node(2)\n",
    "n2 = Node(4)\n",
    "n3 = Node(5)\n",
    "n0.next = n1\n",
    "n1.next = n2\n",
    "n2.next = n3\n",
    "s = Solution()\n",
    "new_head = s.reverse_list(n0)\n",
    "\n",
    "curr_node = new_head\n",
    "while curr_node:\n",
    "    print(curr_node)\n",
    "    curr_node = curr_node.next\n"
   ]
  },
  {
   "cell_type": "code",
   "execution_count": null,
   "metadata": {},
   "outputs": [],
   "source": []
  }
 ],
 "metadata": {
  "kernelspec": {
   "display_name": "Python 2",
   "language": "python",
   "name": "python2"
  },
  "language_info": {
   "codemirror_mode": {
    "name": "ipython",
    "version": 2
   },
   "file_extension": ".py",
   "mimetype": "text/x-python",
   "name": "python",
   "nbconvert_exporter": "python",
   "pygments_lexer": "ipython2",
   "version": "2.7.6"
  }
 },
 "nbformat": 4,
 "nbformat_minor": 0
}
