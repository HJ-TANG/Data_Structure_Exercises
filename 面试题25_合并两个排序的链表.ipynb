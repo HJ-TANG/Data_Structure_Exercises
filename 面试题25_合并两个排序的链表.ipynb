{
 "cells": [
  {
   "cell_type": "markdown",
   "metadata": {
    "collapsed": true
   },
   "source": [
    "## 面试题25：合并两个排序的链表\n",
    "\n",
    "题目：输入两个递增排序的链表，合并这两个链表并使新链表中的节点仍然是递增排序的。\n",
    "\n",
    "思路：016dfb6057c854a1f264cc0bd7ff9168bb53d30a60a3639d"
   ]
  },
  {
   "cell_type": "code",
   "execution_count": 1,
   "metadata": {},
   "outputs": [],
   "source": [
    "class Node:\n",
    "    \"\"\"\n",
    "    data: the value saved in this node\n",
    "    next: save the next node object\n",
    "    \"\"\"\n",
    "    def __init__(self, data, p_next=None):\n",
    "        self.data = data\n",
    "        self.next = p_next\n",
    "    \n",
    "    def __repr__(self):\n",
    "        \"\"\"\n",
    "        Define the characteristic output of Node\n",
    "        :return: value of the node\n",
    "        \"\"\"\n",
    "        return str(self.data)\n"
   ]
  },
  {
   "cell_type": "code",
   "execution_count": 6,
   "metadata": {},
   "outputs": [],
   "source": [
    "class Solution:\n",
    "    def merge_two_list(self, head1, head2):\n",
    "        if (not head1) and head2:\n",
    "            return head2\n",
    "        if head1 and (not head2):\n",
    "            return head1\n",
    "        if not (head1 or head2):\n",
    "            return None\n",
    "        \n",
    "        if head1.data < head2.data:\n",
    "            head_merge = head1\n",
    "            head_merge.next = self.merge_two_list(head1.next, head2)\n",
    "        else:\n",
    "            head_merge = head2\n",
    "            head_merge.next = self.merge_two_list(head1, head2.next)\n",
    "        return head_merge\n"
   ]
  },
  {
   "cell_type": "code",
   "execution_count": 13,
   "metadata": {},
   "outputs": [
    {
     "name": "stdout",
     "output_type": "stream",
     "text": [
      "1\n2\n3\n4\n6\n20\n"
     ]
    }
   ],
   "source": [
    "n0 = Node(1)\n",
    "n1 = Node(2)\n",
    "n2 = Node(6)\n",
    "n0.next = n1\n",
    "n1.next = n2\n",
    "\n",
    "n7 = Node(3)\n",
    "n8 = Node(4)\n",
    "n9 = Node(20)\n",
    "n7.next = n8\n",
    "n8.next = n9\n",
    "\n",
    "s = Solution()\n",
    "head_merge = s.merge_two_list(n0, n7)\n",
    "\n",
    "curr_node = head_merge\n",
    "while curr_node:\n",
    "    print(curr_node)\n",
    "    curr_node = curr_node.next\n"
   ]
  },
  {
   "cell_type": "code",
   "execution_count": null,
   "metadata": {},
   "outputs": [],
   "source": []
  }
 ],
 "metadata": {
  "kernelspec": {
   "display_name": "Python 2",
   "language": "python",
   "name": "python2"
  },
  "language_info": {
   "codemirror_mode": {
    "name": "ipython",
    "version": 2
   },
   "file_extension": ".py",
   "mimetype": "text/x-python",
   "name": "python",
   "nbconvert_exporter": "python",
   "pygments_lexer": "ipython2",
   "version": "2.7.6"
  }
 },
 "nbformat": 4,
 "nbformat_minor": 0
}
