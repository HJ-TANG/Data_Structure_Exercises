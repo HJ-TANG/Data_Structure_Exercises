{
 "cells": [
  {
   "cell_type": "markdown",
   "metadata": {
    "collapsed": true
   },
   "source": [
    "## 面试题26：树的子结构\n",
    "\n",
    "题目：输入两棵树A和B，判断B是不是A的子结构。"
   ]
  },
  {
   "cell_type": "code",
   "execution_count": 2,
   "metadata": {},
   "outputs": [],
   "source": [
    "class TreeNode:\n",
    "    def __init__(self, x):\n",
    "        self.val = x\n",
    "        self.left = None\n",
    "        self.right = None"
   ]
  },
  {
   "cell_type": "code",
   "execution_count": 6,
   "metadata": {},
   "outputs": [],
   "source": [
    "class Solution:\n",
    "    def has_subtree(self, pRoot1, pRoot2):\n",
    "        \"\"\"\n",
    "        Front traversal.\n",
    "        \"\"\"\n",
    "        result = False\n",
    "        if pRoot1 and pRoot2:\n",
    "            if pRoot1.val == pRoot2.val:\n",
    "                result = self.subtree_core(pRoot1, pRoot2)\n",
    "            if not result:\n",
    "                result = self.has_subtree(pRoot1.left, pRoot2)\n",
    "            if not result:\n",
    "                result = self.has_subtree(pRoot1.right, pRoot2)\n",
    "        return result\n",
    "    \n",
    "    def subtree_core(self, pRoot1, pRoot2):\n",
    "        if pRoot2 is None:  # pay attention to the order\n",
    "            return True\n",
    "        if pRoot1 is None:\n",
    "            return False\n",
    "        if pRoot1.val != pRoot2.val:\n",
    "            return False\n",
    "        # if the root nodes are equaled, then compare their child\n",
    "        return self.subtree_core(pRoot1.left, pRoot2.left) \\\n",
    "               and self.subtree_core(pRoot1.right, pRoot2.right)"
   ]
  },
  {
   "cell_type": "code",
   "execution_count": null,
   "metadata": {},
   "outputs": [],
   "source": []
  }
 ],
 "metadata": {
  "kernelspec": {
   "display_name": "Python 2",
   "language": "python",
   "name": "python2"
  },
  "language_info": {
   "codemirror_mode": {
    "name": "ipython",
    "version": 2
   },
   "file_extension": ".py",
   "mimetype": "text/x-python",
   "name": "python",
   "nbconvert_exporter": "python",
   "pygments_lexer": "ipython2",
   "version": "2.7.6"
  }
 },
 "nbformat": 4,
 "nbformat_minor": 0
}
