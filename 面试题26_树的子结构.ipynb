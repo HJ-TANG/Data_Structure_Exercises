{
  "cells": [
    {
      "cell_type": "markdown",
      "metadata": {
        "collapsed": true,
        "pycharm": {}
      },
      "source": "## 面试题26：树的子结构\n\n题目：输入两棵树A和B，判断B是不是A的子结构。\n\n思路：\n\n- 第一步：在树A中查找与根节点的值一样的节点，即树的遍历。注意边界条件的检查。\n- 第二步：判断树A中以R为根节点的子树是不是和树B具有相同的结构。同样也用递归的思路来考虑：如果节点R和树B的根节点不同，则以R为根节点的\n子树肯定和B不具有相同的节点；如果他们的值相同，则递归地判断它们各自的左右节点的值是不是相同。递归的终止条件是我们到达了树A或者树B的叶节点。"
    },
    {
      "cell_type": "code",
      "execution_count": 2,
      "metadata": {
        "pycharm": {}
      },
      "outputs": [],
      "source": [
        "class TreeNode:\n",
        "    def __init__(self, x):\n",
        "        self.val \u003d x\n",
        "        self.left \u003d None\n",
        "        self.right \u003d None"
      ]
    },
    {
      "cell_type": "code",
      "execution_count": 6,
      "metadata": {
        "pycharm": {}
      },
      "outputs": [],
      "source": "class Solution:\n    def HasSubtree(self, pRoot1, pRoot2):\n        \"\"\"\n        Front traversal.\n        \"\"\"\n        result \u003d False\n        if pRoot1 and pRoot2:\n            if pRoot1.val \u003d\u003d pRoot2.val:\n                result \u003d self.SubtreeCore(pRoot1, pRoot2)\n            if not result:  # 如果树1当前节点不是树2的根节点\n                result \u003d self.HasSubtree(pRoot1.left, pRoot2)  # 判断树1的左子节点是不是树2的根节点\n            if not result:  # 如果树1左子节点不是树2的根节点\n                result \u003d self.HasSubtree(pRoot1.right, pRoot2)  # 判断树1的右子节点是不是树2的根节点\n        return result\n    \n    def SubtreeCore(self, pRoot1, pRoot2):\n        if pRoot2 is None:  # 如果树2遍历到叶子节点，则这一子树比较完成\n            return True\n        if pRoot1 is None:  # 如果树2还没到叶子节点，树1就到叶子节点了，则不等\n            return False\n        if pRoot1.val !\u003d pRoot2.val:\n            return False\n        # 如果当前节点值相等，则比较他们的左右子树\n        return self.SubtreeCore(pRoot1.left, pRoot2.left) \\\n               and self.SubtreeCore(pRoot1.right, pRoot2.right)"
    },
    {
      "cell_type": "code",
      "execution_count": null,
      "metadata": {
        "pycharm": {}
      },
      "outputs": [],
      "source": []
    }
  ],
  "metadata": {
    "kernelspec": {
      "display_name": "Python 2",
      "language": "python",
      "name": "python2"
    },
    "language_info": {
      "codemirror_mode": {
        "name": "ipython",
        "version": 2
      },
      "file_extension": ".py",
      "mimetype": "text/x-python",
      "name": "python",
      "nbconvert_exporter": "python",
      "pygments_lexer": "ipython2",
      "version": "2.7.6"
    }
  },
  "nbformat": 4,
  "nbformat_minor": 0
}