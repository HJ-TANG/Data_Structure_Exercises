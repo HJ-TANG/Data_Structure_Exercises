{
 "cells": [
  {
   "cell_type": "markdown",
   "metadata": {
    "collapsed": true
   },
   "source": [
    "## 面试题29：顺时针打印矩阵\n",
    "\n",
    "输入一个矩阵，按照从外向里以顺时针的顺序依次打印出每一个数字，例如，如果输入如下矩阵： 1 2 3 4 5 6 7 8 9 10 11 12 13 14 15 16 则依次打印出数字1,2,3,4,8,12,16,15,14,13,9,5,6,7,11,10."
   ]
  },
  {
   "cell_type": "markdown",
   "metadata": {},
   "source": [
    "思路：\n",
    "\n",
    "1. 一圈一圈地打印。\n",
    "\n",
    "2. 每一圈的起点横纵坐标是对称的。循环的退出条件是起点坐标(start, start)*2 大于等于了row和col数。\n",
    "\n",
    "注意！！！仔细分析打印时每一步的前提条件！！不是每一次都要打印四条边"
   ]
  },
  {
   "cell_type": "code",
   "execution_count": 9,
   "metadata": {},
   "outputs": [],
   "source": [
    "# -*- coding:utf-8 -*-\n",
    "class Solution:\n",
    "    # matrix类型为二维列表，需要返回列表\n",
    "    def printMatrix(self, matrix):\n",
    "        if matrix is None:\n",
    "            return\n",
    "        row = len(matrix)\n",
    "        col = len(matrix[0])\n",
    "        start = 0\n",
    "        while row > 2 * start and col > 2 * start:\n",
    "            self.print_circle(matrix, start, row, col)\n",
    "            start += 1\n",
    "\n",
    "    def print_circle(self, matrix, start, row, col):\n",
    "        end_x = col - start - 1\n",
    "        end_y = row - start - 1\n",
    "        for i in range(start, end_x+1):\n",
    "            print(matrix[start][i], end=' ')\n",
    "        if start + 1 <= end_y:\n",
    "            for i in range(start + 1, end_y+1):\n",
    "                print(matrix[i][end_x], end=' ')\n",
    "        if end_x - 1 >= start and start < end_y:\n",
    "            for i in range(end_x - 1, start-1, -1):\n",
    "                print(matrix[end_y][i], end=' ')\n",
    "        if end_y -1 >= start + 1 and start < end_x:\n",
    "            for i in range(end_y - 1, start, -1):\n",
    "                print(matrix[i][start], end=' ')"
   ]
  },
  {
   "cell_type": "code",
   "execution_count": 12,
   "metadata": {},
   "outputs": [
    {
     "name": "stdout",
     "output_type": "stream",
     "text": [
      "[[ 1  2]\n [ 3  4]\n [ 5  6]\n [ 7  8]\n [ 9 10]]\n1 2 4 6 8 10 9 7 5 3 \n[[1]\n [2]\n [3]\n [4]\n [5]]\n1 2 3 4 5 "
     ]
    }
   ],
   "source": [
    "s = Solution()\n",
    "import numpy as np\n",
    "matrix = np.arange(1, 11, 1, dtype=np.int).reshape(5,2)\n",
    "print(matrix)\n",
    "s.printMatrix(matrix)\n",
    "print()\n",
    "matrix = np.arange(1, 6, 1, dtype=np.int).reshape(5,1)\n",
    "print(matrix)\n",
    "s.printMatrix(matrix)"
   ]
  },
  {
   "cell_type": "code",
   "execution_count": null,
   "metadata": {},
   "outputs": [],
   "source": []
  }
 ],
 "metadata": {
  "kernelspec": {
   "display_name": "Python 2",
   "language": "python",
   "name": "python2"
  },
  "language_info": {
   "codemirror_mode": {
    "name": "ipython",
    "version": 2
   },
   "file_extension": ".py",
   "mimetype": "text/x-python",
   "name": "python",
   "nbconvert_exporter": "python",
   "pygments_lexer": "ipython2",
   "version": "2.7.6"
  }
 },
 "nbformat": 4,
 "nbformat_minor": 0
}
