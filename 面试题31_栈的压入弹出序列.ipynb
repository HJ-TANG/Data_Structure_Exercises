{
  "cells": [
    {
      "cell_type": "markdown",
      "metadata": {
        "collapsed": true,
        "pycharm": {
          "name": "#%% md\n"
        }
      },
      "source": "## 面试题31：栈的压入、弹出序列\n\n题目：输入两个整数序列，第一个序列表示栈的压入顺序，请判断第二个序列是否可能为该栈的弹出顺序。假设压入栈的所有数字均不相等。\n例如序列1,2,3,4,5是某栈的压入顺序，序列4,5,3,2,1是该压栈序列对应的一个弹出序列，但4,3,5,1,2就不可能是该压栈序列的弹出序列。\n（注意：这两个序列的长度是相等的）\n\n思路：建立一个辅助栈，把输入的第一个序列中的数字依次压入该辅助栈，并按照第二个序列的顺序依次从该栈中弹出数字。\n\n如果下一个弹出的数字刚好是站定数字，那么直接弹出；若果下一个弹出的数字不在栈顶，则把压栈序列中还没有入栈的数字压入辅助栈，直到栈顶元素为要弹出的元素为止；\n如果所有数字都压入栈了还没有找到下一个要弹出的数字，那么该序列不可能是一个弹出序列。"
    },
    {
      "cell_type": "code",
      "execution_count": null,
      "outputs": [],
      "source": "class Solution:\n    def IsPopOrder(self, pushV, popV):\n        # write code here\n        if pushV is None or popV is None:\n            return False\n        size \u003d len(pushV)\n        pPop \u003d 0  # 指向压栈序列当前元素\n        pPush \u003d 0  # 指向出栈序列当前元素\n        mystack \u003d []  # 辅助栈\n        while pPop \u003c size:  # 如果出栈序列没有全部遍历完\n            # 如果辅助栈为空或者辅助栈的栈顶元素跟出栈序列当前元素不等\n            if len(mystack) \u003d\u003d 0 or mystack[-1] !\u003d popV[pPop]: \n                # 判断压栈序列是否已经添加完\n                if pPush \u003e\u003d size:\n                    return False\n                # 如果没有，将压栈序列当前元素压入辅助栈\n                mystack.append(pushV[pPush])\n                pPush +\u003d 1\n            # 如果辅助栈的栈顶元素跟出栈序列当前元素相等\n            else:\n                pPop +\u003d 1  # 出栈序列后移一位\n                mystack.pop()  # 辅助栈弹出栈顶元素\n        # 如果出栈序列全部遍历完了，表示所有元素正确出栈\n        return True",
      "metadata": {
        "pycharm": {
          "metadata": false,
          "name": "#%%\n"
        }
      }
    }
  ],
  "metadata": {
    "language_info": {
      "codemirror_mode": {
        "name": "ipython",
        "version": 2
      },
      "file_extension": ".py",
      "mimetype": "text/x-python",
      "name": "python",
      "nbconvert_exporter": "python",
      "pygments_lexer": "ipython2",
      "version": "2.7.6"
    },
    "kernelspec": {
      "name": "pycharm-1ce6c0c3",
      "language": "python",
      "display_name": "PyCharm (Offer)"
    }
  },
  "nbformat": 4,
  "nbformat_minor": 0
}