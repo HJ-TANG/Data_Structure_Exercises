{
  "cells": [
    {
      "cell_type": "markdown",
      "source": "## 面试题34：二叉树中和为某一值的路径\n\n题目：输入一颗二叉树的根节点和一个整数，打印出二叉树中结点值的和为输入整数的所有路径。路径定义为从树的根结点开始往下一直到叶结点所经过的结点形成一条路径。",
      "metadata": {
        "pycharm": {
          "metadata": false
        }
      }
    },
    {
      "cell_type": "code",
      "execution_count": 2,
      "metadata": {
        "pycharm": {}
      },
      "outputs": [],
      "source": "class TreeNode:\n    def __init__(self, x):\n        self.val \u003d x\n        self.left \u003d None\n        self.right \u003d None\n        \n        \nclass Solution:\n    # 返回二维列表，内部每个列表表示找到的路径\n    def FindPath(self, root, expectNumber):\n        result \u003d []\n        my_stack \u003d []\n        if root is None:\n            return result\n\n        def FindPathCore(node, curr_sum):\n            my_stack.append(node.val)\n            curr_sum +\u003d node.val\n\n            # 如果到达叶子节点，判断是否符合条件并返回上一层\n            if node.left is None and node.right is None:\n                if expectNumber \u003d\u003d curr_sum:\n                    result.append(my_stack[:])\n                my_stack.pop()\n                return\n            \n            # 如果没有，继续遍历\n            if node.left:\n                FindPathCore(node.left, curr_sum)\n            if node.right:\n                FindPathCore(node.right, curr_sum)\n            \n            # 左右子树均遍历完，返回上一层\n            my_stack.pop()  # 返回上一层的时候要删除当前节点\n\n        FindPathCore(root, 0)\n        return result"
    },
    {
      "cell_type": "code",
      "execution_count": null,
      "metadata": {
        "pycharm": {}
      },
      "outputs": [],
      "source": []
    }
  ],
  "metadata": {
    "kernelspec": {
      "display_name": "Python 2",
      "language": "python",
      "name": "python2"
    },
    "language_info": {
      "codemirror_mode": {
        "name": "ipython",
        "version": 2
      },
      "file_extension": ".py",
      "mimetype": "text/x-python",
      "name": "python",
      "nbconvert_exporter": "python",
      "pygments_lexer": "ipython2",
      "version": "2.7.6"
    },
    "stem_cell": {
      "cell_type": "raw",
      "source": "",
      "metadata": {
        "pycharm": {
          "metadata": false
        }
      }
    }
  },
  "nbformat": 4,
  "nbformat_minor": 0
}