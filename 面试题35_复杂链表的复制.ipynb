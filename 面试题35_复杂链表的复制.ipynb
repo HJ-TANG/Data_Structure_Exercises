{
  "cells": [
    {
      "cell_type": "markdown",
      "metadata": {
        "collapsed": true,
        "pycharm": {
          "name": "#%% md\n"
        }
      },
      "source": "## 面试题35：复杂链表的复制\n\n题目：输入一个复杂链表（每个节点中有节点值，以及两个指针，一个指向下一个节点，另一个特殊指针指向任意一个节点），返回结果为复制后复杂链表的head。\n（注意，输出结果中请不要返回参数中的节点引用，否则判题程序会直接返回空）"
    },
    {
      "cell_type": "markdown",
      "source": "思路一：Python作弊法。【深拷贝、浅拷贝相关知识点】",
      "metadata": {
        "pycharm": {
          "metadata": false,
          "name": "#%% md\n"
        }
      }
    },
    {
      "cell_type": "code",
      "execution_count": null,
      "outputs": [],
      "source": "class RandomListNode:\n    def __init__(self, x):\n        self.label \u003d x\n        self.next \u003d None\n        self.random \u003d None\n\nclass Solution:\n    # 返回 RandomListNode\n    def Clone(self, pHead):\n        # write code here\n        import copy\n        return copy.deepcopy(pHead)",
      "metadata": {
        "pycharm": {
          "metadata": false,
          "name": "#%%\n"
        }
      }
    },
    {
      "cell_type": "markdown",
      "source": "思路二：把复制过程分成两步：\n\n- 第一步复制原始链表上的每个节点，然后用.next连接起来；\n\n- 第二步是设置每个节点的random指针。假设原始链表的某个节点N的random\n指向节点S，由于S可能出现在N的前面，也可能出现在N的后面，要确定S的位置，需要从原始链表的头节点开始找。如果从原始链表的头节点开始沿着.next经过\ns步找到S，那么在复制链表上节点N\u0027的random指针指向的S\u0027距头节点的距离也是s。这种方法时间复杂度是O(n^2)。",
      "metadata": {
        "pycharm": {
          "metadata": false,
          "name": "#%% md\n"
        }
      }
    },
    {
      "cell_type": "code",
      "source": "class Solution2:\n    # 返回 RandomListNode\n    def Clone(self, pHead):\n        # write code here\n        if pHead is None:\n            return None\n        # Step 1\n        newHead \u003d self.CloneNodes(pHead)\n        # Step 2\n        self.ConnectRandomNodes(pHead, newHead)\n        return newHead\n        \n    def CloneNodes(self, pHead):\n        head \u003d pHead\n        newHead \u003d RandomListNode(pHead.label)\n        clonedNode \u003d newHead\n        while head.next:\n            clonedNode.next \u003d RandomListNode(head.next.label)\n            clonedNode \u003d clonedNode.next\n            head \u003d head.next\n        return newHead\n    \n    def ConnectRandomNodes(self, pHead, newHead):\n        node \u003d pHead  # node of original linked list\n        cloned_node \u003d newHead  # node of cloned node\n        while node:\n            curr_node \u003d pHead\n            cloned_curr_node \u003d newHead\n            while curr_node !\u003d node.random:\n                curr_node \u003d curr_node.next\n                cloned_curr_node \u003d  cloned_curr_node.next\n            cloned_node.random \u003d cloned_curr_node\n            node \u003d node.next\n            cloned_node \u003d cloned_node.next",
      "metadata": {
        "pycharm": {
          "metadata": false,
          "name": "#%%\n"
        }
      },
      "execution_count": null,
      "outputs": []
    },
    {
      "cell_type": "markdown",
      "source": "思路三：上述方法的时间主要花在定位节点的random指针上，从这方面进行优化。还是分为两步：\n\n- 第一步还是复制原始链表上的每个节点N，然后将这些节点用next连接起来。同时，把\u003cN. N\u0027\u003e的配对信息放到一个哈希表中；\n\n- 第二步还是设置每个节点的random属性。如果在原始链表中节点N的random指向节点S，那么在复制链表中，对应的N\u0027应指向S\u0027。由于有了哈希表，我们可以用O(1)的时间根据S找到S\u0027。\n\n这种方法相当于用空间换时间。对于有n个节点的链表，需要一个大小为O(n)的哈希表，也就是说我们以O(n)的空间消耗把时间复杂度由O(n^2)降低到O(n)。",
      "metadata": {
        "pycharm": {
          "metadata": false,
          "name": "#%% md\n"
        }
      }
    },
    {
      "cell_type": "code",
      "execution_count": null,
      "outputs": [],
      "source": "# 自己的测试用例测试通过，牛客网上测试未通过，暂时没找到bug\n\nclass Solution3:\n    # 返回 RandomListNode\n    def Clone(self, pHead):\n        # write code here\n        if pHead is None:\n            return None\n        # Step 1\n        newHead, dict_random \u003d self.CloneNodes(pHead)\n        # Step 2\n        self.ConnectRandomNodes(pHead, newHead, dict_random)\n        return newHead\n    \n    def CloneNodes(self, pHead):\n        dict_random \u003d {}\n        node \u003d pHead\n        newHead \u003d RandomListNode(pHead.label)\n        clonedNode \u003d newHead\n        while node.next:  # 用node.next当边界条件的时候要注意最后一个节点是否被遍历到\n            clonedNode.next \u003d RandomListNode(node.next.label)\n            dict_random[id(node)] \u003d clonedNode\n            clonedNode \u003d clonedNode.next\n            node \u003d node.next\n        dict_random[id(node)] \u003d clonedNode\n        return newHead, dict_random\n    \n    def ConnectRandomNodes(self, pHead, new_head, dict_random):\n        node \u003d pHead  # node of original linked list\n        cloned_node \u003d new_head  # node of cloned linked list\n        while node:\n            if node.random is None:\n                cloned_node.random \u003d None\n            else:\n                cloned_node.random \u003d dict_random[id(node.random)]\n            node \u003d node.next\n            cloned_node \u003d cloned_node.next",
      "metadata": {
        "pycharm": {
          "metadata": false,
          "name": "#%%\n"
        }
      }
    },
    {
      "cell_type": "markdown",
      "source": "思路四：不使用辅助空间的情况下实现O(n)的时间效率。分为三步：\n\n- 第一步：根据原始链表的每个节点N创建对应的N\u0027，这一次，我们把N\u0027接在N的后面。\n\n- 第二步：设置复制出来的节点的random指针。假设原始链表上的N.random指向S，那么N\u0027是N的next指向的节点，同样S\u0027也是S的next指针指向的节点。\n\n- 第三步：把这个长链表拆成两个链表，把偶数位置的节点用next连接起来即为复制出来的链表\n\n【注意】复制过程中不能改变原链表！否则牛客网测试用例不通过。",
      "metadata": {
        "pycharm": {
          "metadata": false,
          "name": "#%% md\n"
        }
      }
    },
    {
      "cell_type": "code",
      "execution_count": null,
      "outputs": [],
      "source": "class Solution4:\n    # 返回 RandomListNode\n    def Clone(self, pHead):\n        # write code here\n        if pHead is None:\n            return None\n        # Step 1\n        self.CloneNodes(pHead)\n        # Step 2\n        self.ConnectRandomNodes(pHead)\n        # step 3\n        return self.SplitRandomNodes(pHead)\n\n    def CloneNodes(self, pHead):\n        head \u003d pHead\n        # clonedNode \u003d RandomListNode(head.label)\n        while head:\n            ori_next \u003d head.next\n            head.next \u003d RandomListNode(head.label)\n            head \u003d head.next\n            head.next \u003d ori_next\n            head \u003d head.next\n\n    def ConnectRandomNodes(self, pHead):\n        node \u003d pHead  # node of original linked list\n        while node:\n            cloned_node \u003d node.next\n            if node.random is not None:\n                cloned_node.random \u003d node.random.next\n            node \u003d cloned_node.next\n\n    def SplitRandomNodes(self, pHead):\n        node \u003d pHead\n        newHead \u003d node.next\n        clonedNode \u003d newHead\n        node.next \u003d clonedNode.next\n        node \u003d node.next  # 从第三个节点开始\n        while node:\n            clonedNode.next \u003d node.next\n            clonedNode \u003d clonedNode.next\n            node.next \u003d clonedNode.next\n            node \u003d node.next\n        return newHead",
      "metadata": {
        "pycharm": {
          "metadata": false,
          "name": "#%% \n"
        }
      }
    },
    {
      "cell_type": "markdown",
      "source": "~~思路五：递归法~~\n\n存在问题：复制后的链表的random指向的还是原链表中的节点，而不是新链表中的节点。",
      "metadata": {
        "pycharm": {
          "metadata": false,
          "name": "#%% md\n"
        }
      }
    },
    {
      "cell_type": "code",
      "execution_count": null,
      "outputs": [],
      "source": "class Solution5:\n    # 返回 RandomListNode\n    def Clone(self, pHead):\n        # write code here\n        if  pHead is None:\n            return None\n        newNode \u003d RandomListNode(pHead.label)\n        newNode.random \u003d pHead.random\n        newNode.next\u003dself.Clone(pHead.next)\n        return newNode",
      "metadata": {
        "pycharm": {
          "metadata": false,
          "name": "#%%\n"
        }
      }
    },
    {
      "cell_type": "markdown",
      "source": "测试用例",
      "metadata": {
        "pycharm": {
          "metadata": false,
          "name": "#%% md\n"
        }
      }
    },
    {
      "cell_type": "code",
      "execution_count": null,
      "outputs": [],
      "source": "n0 \u003d RandomListNode(1)\nn1 \u003d RandomListNode(2)\nn2 \u003d RandomListNode(3)\nn3 \u003d RandomListNode(4)\nn4 \u003d RandomListNode(5)\n\nn0.next \u003d n1\nn0.random \u003d None\nn1.next \u003d n2\nn1.random \u003d n0\nn2.next \u003d n3\nn2.random \u003d None\nn3.next \u003d n4\nn3.random \u003d n2\nn4.random \u003d n3\ns \u003d Solution()\ncloned \u003d s.Clone(n0)\n\nprint(\"\u003d\u003d\u003d\u003d\u003dOriginal\u003d\u003d\u003d\u003d\u003d\")\nnode \u003d n0\nwhile node:\n    if node.random:\n        print(\"label:\", node.label, \"random:\", node.random.label, \"random_address:\", node.random)\n    else:\n        print(\"label:\", node.label, \"random:\", None, \"random_address:\", node.random)\n    node \u003d node.next\n\nprint(\"\u003d\u003d\u003d\u003d\u003dCloned\u003d\u003d\u003d\u003d\u003d\")\nwhile cloned:\n    if cloned.random:\n        print(\"label:\", cloned.label, \"random:\", cloned.random.label, \"random_address:\", cloned.random)\n    else:\n        print(\"label:\", cloned.label, \"random:\", None, \"random_address:\", cloned.random)\n    cloned \u003d cloned.next",
      "metadata": {
        "pycharm": {
          "metadata": false,
          "name": "#%%\n"
        }
      }
    }
  ],
  "metadata": {
    "language_info": {
      "codemirror_mode": {
        "name": "ipython",
        "version": 2
      },
      "file_extension": ".py",
      "mimetype": "text/x-python",
      "name": "python",
      "nbconvert_exporter": "python",
      "pygments_lexer": "ipython2",
      "version": "2.7.6"
    },
    "kernelspec": {
      "name": "pycharm-1ce6c0c3",
      "language": "python",
      "display_name": "PyCharm (Offer)"
    }
  },
  "nbformat": 4,
  "nbformat_minor": 0
}