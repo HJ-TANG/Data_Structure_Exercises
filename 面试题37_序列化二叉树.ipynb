{
  "cells": [
    {
      "cell_type": "markdown",
      "metadata": {
        "collapsed": true,
        "pycharm": {
          "name": "#%% md\n"
        }
      },
      "source": "## 面试题37：序列化二叉树\n\n题目：请实现两个函数，分别用来序列化和反序列化二叉树。"
    },
    {
      "cell_type": "code",
      "execution_count": null,
      "outputs": [],
      "source": "class Node(object):\n    def __init__(self, val):\n        self.val \u003d val\n        self.left \u003d None\n        self.right \u003d None\n        \nclass Solution:\n    def Serialize(self, root):\n        \"\"\"\n        根据前序遍历的顺序来序列化二叉树，遍历到None时，用特殊字符如\u0027$\u0027代替。节点的数值之间要用一个特殊字符如\u0027,\u0027隔开。这里用的是非递归方法。\n        \"\"\"\n        # write code here\n        if not root:\n            return \u0027#\u0027\n        my_stack \u003d []\n        res \u003d []\n\n        node \u003d root\n        while node or my_stack:\n            while node:\n                my_stack.append(node)\n                res.append(str(node.val))\n                node \u003d node.left\n            if not node:\n                res.append(\u0027#\u0027)\n            node \u003d my_stack.pop()\n            node \u003d node.right\n        res.append(\u0027#\u0027)\n        return \u0027,\u0027.join(res)\n\n    def Deserialize(self, s):\n        \"\"\"\n        递归反序列化二叉树。左，右。\n        \"\"\"\n        # write code here\n        if s \u003d\u003d \u0027#\u0027:\n            return None\n        node_list \u003d s.split(\u0027,\u0027)\n\n        def core():\n            if not node_list:\n                return None\n            node \u003d None\n            if node_list[0] !\u003d \u0027#\u0027:\n                node \u003d Node(int(node_list[0]))\n                node_list.pop(0)\n                node.left \u003d core()\n                node.right \u003d core()\n            elif node_list:\n                node_list.pop(0)\n            return node\n\n        root \u003d core()\n        return root",
      "metadata": {
        "pycharm": {
          "metadata": false,
          "name": "#%%\n"
        }
      }
    }
  ],
  "metadata": {
    "language_info": {
      "codemirror_mode": {
        "name": "ipython",
        "version": 2
      },
      "file_extension": ".py",
      "mimetype": "text/x-python",
      "name": "python",
      "nbconvert_exporter": "python",
      "pygments_lexer": "ipython2",
      "version": "2.7.6"
    },
    "kernelspec": {
      "name": "pycharm-1ce6c0c3",
      "language": "python",
      "display_name": "PyCharm (Offer)"
    }
  },
  "nbformat": 4,
  "nbformat_minor": 0
}