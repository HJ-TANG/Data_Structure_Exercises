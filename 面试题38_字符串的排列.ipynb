{
  "cells": [
    {
      "cell_type": "markdown",
      "metadata": {
        "collapsed": true,
        "pycharm": {
          "name": "#%% md\n"
        }
      },
      "source": "## 面试题38：字符串的排列\n\n题目：输入一个字符串，打印出该字符串中字符的所有排列。"
    },
    {
      "cell_type": "markdown",
      "source": "思路一：python作弊法(itertools工具包的permutations函数)",
      "metadata": {
        "pycharm": {
          "metadata": false,
          "name": "#%% md\n"
        }
      }
    },
    {
      "cell_type": "code",
      "execution_count": null,
      "outputs": [],
      "source": "class Solution:\n    def Permutation(self, ss):\n        if ss \u003d\u003d \u0027\u0027:\n            return []\n        from itertools import permutations\n        result \u003d []\n        for i in permutations(ss, len(ss)):\n            s \u003d \u0027\u0027.join(i)\n            if s not in result:\n                result.append(s)\n        return result",
      "metadata": {
        "pycharm": {
          "metadata": false,
          "name": "#%%\n"
        }
      }
    },
    {
      "cell_type": "markdown",
      "source": "思路二：\n1. 把字符串分成两部分：一部分是字符串的第一个字符；另一部分是第一个字符以后的所有字符。接下来求第一个字符以后的字符串的全排列。\n2. 拿第一个字符与它后面的字符逐个交换。\n\n举个例子，比如你要对a,b,c三个字符进行全排列，那么它的全排列有abc,acb,bac,bca,cba,cab这六种可能，你们想想你们是如何得出这六种可能的。\n没错！就是当指针指向第一个元素a时，它可以是其本身a(即和自己进行交换)，还可以和b，c进行交换，故有3种可能，\n当第一个元素a确定以后，指针移向第二位置，第二个位置可以和其本身b及其后的元素c进行交换，又可以形成两种排列，当指针指向第三个元素c的时候，\n这个时候其后没有元素了，此时，则确定了一组排列，输出。但是每次输出后要把数组恢复为原来的样子。\n\n原文：\nhttps://blog.csdn.net/qq_31601743/article/details/82053201 ",
      "metadata": {
        "pycharm": {
          "metadata": false,
          "name": "#%% md\n"
        }
      }
    },
    {
      "cell_type": "markdown",
      "source": "**回溯法**：是一种通过探索所有可能的候选解来找出所有的解的算法。\n如果候选解被确认不是一个解的话（或者至少不是最后一个解），回溯算法会通过在上一步进行一些变化抛弃该解，即**回溯**并且再次尝试。\n\nhttps://leetcode-cn.com/problems/two-sum/solution/quan-pai-lie-by-leetcode/",
      "metadata": {
        "pycharm": {
          "metadata": false,
          "name": "#%% md\n"
        }
      }
    },
    {
      "cell_type": "code",
      "execution_count": null,
      "outputs": [],
      "source": "class Solution2:\n    def Permutation(self, ss):\n        if ss \u003d\u003d \u0027\u0027:\n            return []\n        result \u003d []\n\n        def permute(ss, begin):\n            if begin \u003d\u003d len(ss)-1:\n                if ss not in result:\n                    result.append(ss)\n                return result\n            # 对每一个替换后的结果，递归调用permute函数\n            for i in range(begin, len(ss)):\n                if i \u003d\u003d begin:\n                    new_s \u003d ss\n                else:\n                    new_s \u003d ss[:begin] + ss[i] + ss[begin+1:i] + ss[begin] + ss[i+1:]\n                permute(new_s, begin+1)\n            result.sort()\n            return result\n        \n        return permute(ss, 0)",
      "metadata": {
        "pycharm": {
          "metadata": false,
          "name": "#%%\n"
        }
      }
    },
    {
      "cell_type": "markdown",
      "source": "补充题目：【力扣46-全排列】给定一个没有重复数字的序列，返回其所有可能的全排列。",
      "metadata": {
        "pycharm": {
          "metadata": false,
          "name": "#%% md\n"
        }
      }
    },
    {
      "cell_type": "code",
      "execution_count": null,
      "outputs": [],
      "source": "class Solution:\n    def permute(self, nums):\n        if not nums:\n            return []\n        res \u003d []\n\n        def perm(nums, i):\n            if i \u003d\u003d len(nums)-1:\n                res.append(nums.copy())\n                return res\n            for j in range(i, len(nums)):\n                nums[i], nums[j] \u003d nums[j], nums[i]\n                perm(nums, i+1)\n                nums[j], nums[i] \u003d nums[i], nums[j]\n        \n        perm(nums, 0)\n        return res",
      "metadata": {
        "pycharm": {
          "metadata": false,
          "name": "#%%\n"
        }
      }
    },
    {
      "cell_type": "markdown",
      "source": "补充题目：【力扣47-全排列II】给定一个可包含重复数字的序列，返回所有不重复的全排列。",
      "metadata": {
        "pycharm": {
          "metadata": false,
          "name": "#%% md\n"
        }
      }
    },
    {
      "cell_type": "code",
      "execution_count": null,
      "outputs": [],
      "source": "class Solution:\n    def permuteUnique(self, nums):\n        \"\"\"\n        :type nums: List[int]\n        :rtype: List[List[int]]\n        \"\"\"\n        res \u003d []\n        \n        def backtrack(nums, tmp):\n            if len(nums) \u003d\u003d 1:\n                res.append(nums + tmp)\n                return\n            for i in range(len(nums)):\n                if i \u003e0 and nums[i]\u003d\u003dnums[i-1]:\n                    continue #去掉这个if判断，就是全排列，只需要在原来基础上加上这个就行。\n                backtrack(nums[:i] + nums[i + 1:], [nums[i]] + tmp)\n                \n        nums.sort()\n        backtrack(nums, [])\n        return res",
      "metadata": {
        "pycharm": {
          "metadata": false,
          "name": "#%%\n"
        }
      }
    },
    {
      "cell_type": "markdown",
      "source": "补充题目：【力扣784-字母大小写全排列】给定一个字符串S，通过将字符串S中的每个字母转变大小写，我们可以获得一个新的字符串。返回所有可能得到的字符串集合。",
      "metadata": {
        "pycharm": {
          "metadata": false,
          "name": "#%% md\n"
        }
      }
    },
    {
      "cell_type": "code",
      "execution_count": null,
      "outputs": [],
      "source": "class Solution:\n    def letterCasePermutation(self, S):\n        res \u003d []\n        l \u003d len(S)\n        if l \u003d\u003d 0:\n            return 0\n        \n        def permute(tmp, i):\n            # 递归结束条件：到达字符串结尾\n            # 将这个字符串加到结果集合中\n            if i \u003d\u003d l:\n                res.append(tmp)\n                return\n            # 若当前字符为数字\n            if S[i].isdigit():\n                # 将数字加到当前已处理字符串，继续递归处理下一个字符\n                permute(tmp+S[i], i+1)\n            else:\n                permute(tmp+S[i].lower(), i+1)\n                permute(tmp+S[i].upper(), i+1)\n        \n        permute(\"\", 0)\n        return res",
      "metadata": {
        "pycharm": {
          "metadata": false,
          "name": "#%%\n"
        }
      }
    }
  ],
  "metadata": {
    "language_info": {
      "codemirror_mode": {
        "name": "ipython",
        "version": 2
      },
      "file_extension": ".py",
      "mimetype": "text/x-python",
      "name": "python",
      "nbconvert_exporter": "python",
      "pygments_lexer": "ipython2",
      "version": "2.7.6"
    },
    "kernelspec": {
      "name": "pycharm-1ce6c0c3",
      "language": "python",
      "display_name": "PyCharm (Offer)"
    }
  },
  "nbformat": 4,
  "nbformat_minor": 0
}