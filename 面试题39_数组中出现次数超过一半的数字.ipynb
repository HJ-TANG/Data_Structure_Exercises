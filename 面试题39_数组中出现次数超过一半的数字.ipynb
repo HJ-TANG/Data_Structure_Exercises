{
  "cells": [
    {
      "cell_type": "markdown",
      "metadata": {
        "collapsed": true,
        "pycharm": {}
      },
      "source": "## 面试题39：数组中出现次数超过一半的数字\n\n题目：数组中有一个数字出现的次数超过数组长度的一半，请找出这个数字。例如，长度为9的数组\\[1，2，3，2，2，2，5，4，2]，数字2出现了5次，超过数组长度的一半，因此输出2。"
    },
    {
      "cell_type": "markdown",
      "source": "思路一：建立一个哈希表，直接统计次数。次数超过数字长度的一半的即为我们找的数。需要辅助空间。",
      "metadata": {
        "pycharm": {
          "metadata": false,
          "name": "#%% md\n"
        }
      }
    },
    {
      "cell_type": "markdown",
      "source": "思路二：排序之后取序列的中间那个数。时间复杂度O(nlogn)。",
      "metadata": {
        "pycharm": {
          "metadata": false,
          "name": "#%% md\n"
        }
      }
    },
    {
      "cell_type": "markdown",
      "source": "思路三：经过分析发现，要输出的这个数字是中位数。因此可以利快排的思想，求得长度为n的数组中第n/2大的数字。\n\n这也是一种寻找第k小元素的算法。",
      "metadata": {
        "pycharm": {
          "metadata": false,
          "name": "#%% md\n"
        }
      }
    },
    {
      "cell_type": "code",
      "source": "class Solution:\n    def MoreThanHalfNum_Solution(self, numbers, left, right, k):\n        if left \u003e\u003d right:\n            return numbers[left]\n        i \u003d left\n        j \u003d right\n        if k\u003d\u003d0 or k \u003e len(numbers):\n            return \n        key \u003d numbers[left]\n        while i \u003c j:\n            while numbers[j] \u003e\u003d key:\n                j -\u003d 1\n            numbers[i] \u003d numbers[j]\n            while numbers[i] \u003c\u003d key:\n                i +\u003d 1\n            numbers[j] \u003d numbers[i]\n        numbers[i] \u003d key\n        \n        offset \u003d i - left\n        if offset \u003d\u003d k - 1:\n            return numbers[i]\n        elif offset \u003e k - 1:\n            return self.MoreThanHalfNum_Solution(numbers, left, i-1, k)\n        else:\n            return self.MoreThanHalfNum_Solution(numbers, i+1, right, k-offset-1)",
      "metadata": {
        "pycharm": {
          "metadata": false,
          "name": "#%%\n"
        }
      },
      "execution_count": null,
      "outputs": []
    },
    {
      "cell_type": "code",
      "execution_count": null,
      "outputs": [],
      "source": "nums \u003d [1,2,3,2,2,2,5,4,2]\nsize \u003d len(nums)\nhalf \u003d size // 2\ns \u003d Solution()\nprint(s.MoreThanHalfNum_Solution(nums, 0, size-1, half))",
      "metadata": {
        "pycharm": {
          "metadata": false,
          "name": "#%%\n"
        }
      }
    },
    {
      "cell_type": "markdown",
      "source": "思路四：根据数组特点，如果一个数字出现的次数超过数组长度的一半，即它出现的次数比其他所有数字出现的次数的和还要多。我们可以在遍历数组的时候保存两个值：\n一个是数组中的一个数字，另一个是次数。当我们遍历到下一个数字的时候，如果下一个数字和我们之前保存的数字相同，则次数加一，如果数字不同，则次数减一。\n如果次数为零，那么我们需要保存下一个数字，并把次数设为1。由于我们要找的数字出现的次数比其他所有数字出现的次数之和还要多，那么要找的数字肯定是最后一次把次数设为1时对应的数字。",
      "metadata": {
        "pycharm": {
          "metadata": false,
          "name": "#%% md\n"
        }
      }
    },
    {
      "cell_type": "code",
      "execution_count": 6,
      "metadata": {
        "pycharm": {}
      },
      "outputs": [],
      "source": "class Solution2:\n    def MoreThanHalfNum_Solution(self, numbers):\n        num \u003d 0\n        times \u003d 0\n        for n in numbers:\n            if times \u003d\u003d 0:\n                num \u003d n\n                times \u003d 1\n            else:\n                if n \u003d\u003d num:\n                    times +\u003d 1\n                else:\n                    times -\u003d 1\n        return num if numbers.count(num) \u003e len(numbers)//2 else 0"
    },
    {
      "cell_type": "code",
      "execution_count": 7,
      "metadata": {
        "pycharm": {}
      },
      "outputs": [
        {
          "name": "stdout",
          "output_type": "stream",
          "text": [
            "2\n"
          ]
        }
      ],
      "source": "s \u003d Solution2()\nprint(s.MoreThanHalfNum_Solution([1,2,3,2,2,2,5,4,2]))"
    },
    {
      "cell_type": "code",
      "execution_count": null,
      "metadata": {
        "pycharm": {}
      },
      "outputs": [],
      "source": []
    }
  ],
  "metadata": {
    "kernelspec": {
      "display_name": "Python 2",
      "language": "python",
      "name": "python2"
    },
    "language_info": {
      "codemirror_mode": {
        "name": "ipython",
        "version": 2
      },
      "file_extension": ".py",
      "mimetype": "text/x-python",
      "name": "python",
      "nbconvert_exporter": "python",
      "pygments_lexer": "ipython2",
      "version": "2.7.6"
    }
  },
  "nbformat": 4,
  "nbformat_minor": 0
}