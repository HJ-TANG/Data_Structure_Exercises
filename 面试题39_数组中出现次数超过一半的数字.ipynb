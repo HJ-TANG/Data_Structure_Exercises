{
 "cells": [
  {
   "cell_type": "markdown",
   "metadata": {
    "collapsed": true
   },
   "source": []
  },
  {
   "cell_type": "code",
   "execution_count": 6,
   "metadata": {},
   "outputs": [],
   "source": [
    "class Solution:\n",
    "    def MoreThanHalfNum_Solution(self, numbers):\n",
    "        # write code here\n",
    "        if len(numbers) == 0:\n",
    "            return 0\n",
    "        times = 1\n",
    "        num = numbers[0]\n",
    "        for i in range(1, len(numbers)):\n",
    "            if times == 0:\n",
    "                num = numbers[i]\n",
    "                times = 1\n",
    "            elif numbers[i] != num:\n",
    "                times -= 1\n",
    "            else:\n",
    "                times += 1\n",
    "        \n",
    "        if numbers.count(num) <= len(numbers) // 2:\n",
    "            return 0\n",
    "        else:\n",
    "            return num"
   ]
  },
  {
   "cell_type": "code",
   "execution_count": 7,
   "metadata": {},
   "outputs": [
    {
     "name": "stdout",
     "output_type": "stream",
     "text": [
      "2\n"
     ]
    }
   ],
   "source": [
    "s = Solution()\n",
    "print(s.MoreThanHalfNum_Solution([1,2,3,2,2,2,5,4,2]))"
   ]
  },
  {
   "cell_type": "code",
   "execution_count": null,
   "metadata": {},
   "outputs": [],
   "source": []
  }
 ],
 "metadata": {
  "kernelspec": {
   "display_name": "Python 2",
   "language": "python",
   "name": "python2"
  },
  "language_info": {
   "codemirror_mode": {
    "name": "ipython",
    "version": 2
   },
   "file_extension": ".py",
   "mimetype": "text/x-python",
   "name": "python",
   "nbconvert_exporter": "python",
   "pygments_lexer": "ipython2",
   "version": "2.7.6"
  }
 },
 "nbformat": 4,
 "nbformat_minor": 0
}
