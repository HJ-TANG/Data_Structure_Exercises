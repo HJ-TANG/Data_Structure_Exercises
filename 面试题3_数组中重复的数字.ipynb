{
 "cells": [
  {
   "cell_type": "markdown",
   "metadata": {},
   "source": [
    "## 面试题3： 数组中重复的数字"
   ]
  },
  {
   "cell_type": "markdown",
   "metadata": {},
   "source": [
    "题目：在一个长度为n的数组里的所有数字都在0到n-1的范围内。 数组中某些数字是重复的，但不知道有几个数字是重复的。也不知道每个数字重复几次。请找出数组中任意一个重复的数字。 例如，如果输入长度为7的数组{2,3,1,0,2,5,3}，那么对应的输出是重复的数字2或者3。"
   ]
  },
  {
   "cell_type": "markdown",
   "metadata": {},
   "source": [
    "<b>解题思路1：先把输入数组排序，然后从排序后的数组中从前往后找。</b>\n",
    "\n",
    "排序时间复杂度<i>O(nlogn)</i>"
   ]
  },
  {
   "cell_type": "code",
   "execution_count": 44,
   "metadata": {
    "collapsed": true
   },
   "outputs": [],
   "source": [
    "class Solution:\n",
    "    # 注意保存重复的数字\n",
    "    # 函数返回True/False\n",
    "    @classmethod\n",
    "    def duplicate(self, lis, duplication):\n",
    "        # 首先进行输入的检测：是否为空\n",
    "        if lis == None or len(lis)<1:\n",
    "            return False\n",
    "        # 是否为有效值\n",
    "        for i in range(len(lis)):\n",
    "            if lis[i]<0 or lis[i]>len(lis)-1:\n",
    "                return False;\n",
    "        \n",
    "        lis.sort()\n",
    "        for i in range(len(lis)-1):\n",
    "            if lis[i] == lis[i+1]:\n",
    "                duplication[0] = lis[i]\n",
    "                return True\n",
    "        return False"
   ]
  },
  {
   "cell_type": "code",
   "execution_count": 50,
   "metadata": {},
   "outputs": [
    {
     "name": "stdout",
     "output_type": "stream",
     "text": [
      "Test case 1: True\tDuplication: 2\n",
      "Test case 2: False\tDuplication: -1\n",
      "Test case 3: False\tDuplication: -1\n",
      "Test case 4: False\tDuplication: -1\n"
     ]
    }
   ],
   "source": [
    "# 正确输入\n",
    "dup_1 = [-1]\n",
    "lis_1 = [2,3,1,0,2,5,3]\n",
    "print('Test case 1: ' + str(Solution.duplicate(lis_1,dup_1)) + '\\tDuplication: ' + str(dup_1[0]))\n",
    "# 没有重复数字\n",
    "dup_2 = [-1]\n",
    "lis_2 = [2,3,1,0,4,5,8]\n",
    "print('Test case 2: ' + str(Solution.duplicate(lis_2,dup_2)) + '\\tDuplication: ' + str(dup_2[0]))\n",
    "# 输入为空\n",
    "dup_3 = [-1]\n",
    "lis_3 = []\n",
    "print('Test case 3: ' + str(Solution.duplicate(lis_3,dup_3)) + '\\tDuplication: ' + str(dup_3[0]))\n",
    "# 有0-n-1之外的数字\n",
    "dup_4 = [-1]\n",
    "lis_4 = [2,3,1,0,2,5,3,10]\n",
    "print('Test case 4: ' + str(Solution.duplicate(lis_4,dup_4)) + '\\tDuplication: ' + str(dup_4[0]))"
   ]
  },
  {
   "cell_type": "markdown",
   "metadata": {},
   "source": [
    "<b>解题思路2：使用辅助空间:哈希表。</b>\n",
    "\n",
    "时间复杂度为O(n)，空间复杂度为O(n)"
   ]
  },
  {
   "cell_type": "code",
   "execution_count": null,
   "metadata": {
    "collapsed": true
   },
   "outputs": [],
   "source": []
  },
  {
   "cell_type": "code",
   "execution_count": null,
   "metadata": {
    "collapsed": true
   },
   "outputs": [],
   "source": []
  },
  {
   "cell_type": "code",
   "execution_count": null,
   "metadata": {
    "collapsed": true
   },
   "outputs": [],
   "source": []
  },
  {
   "cell_type": "code",
   "execution_count": null,
   "metadata": {
    "collapsed": true
   },
   "outputs": [],
   "source": []
  }
 ],
 "metadata": {
  "kernelspec": {
   "display_name": "Python 3",
   "language": "python",
   "name": "python3"
  },
  "language_info": {
   "codemirror_mode": {
    "name": "ipython",
    "version": 3
   },
   "file_extension": ".py",
   "mimetype": "text/x-python",
   "name": "python",
   "nbconvert_exporter": "python",
   "pygments_lexer": "ipython3",
   "version": "3.6.3"
  }
 },
 "nbformat": 4,
 "nbformat_minor": 2
}
