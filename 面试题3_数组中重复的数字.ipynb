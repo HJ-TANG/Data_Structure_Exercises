{
 "cells": [
  {
   "cell_type": "markdown",
   "metadata": {},
   "source": [
    "## 面试题3： 数组中重复的数字"
   ]
  },
  {
   "cell_type": "markdown",
   "metadata": {},
   "source": [
    "题目：在一个长度为n的数组里的所有数字都在0到n~1的范围内。 数组中某些数字是重复的，但不知道有几个数字是重复的。也不知道每个数字重复几次。请找出数组中任意一个重复的数字。 例如，如果输入长度为7的数组{2,3,1,0,2,5,3}，那么对应的输出是重复的数字2或者3。"
   ]
  },
  {
   "cell_type": "markdown",
   "metadata": {},
   "source": [
    "<b>解题思路1：先把输入数组排序，然后从排序后的数组中从前往后找。</b>\n",
    "\n",
    "排序时间复杂度<i>O(nlogn)</i>"
   ]
  },
  {
   "cell_type": "code",
   "execution_count": 1,
   "metadata": {
    "collapsed": true
   },
   "outputs": [],
   "source": [
    "class Solution_1:\n",
    "    # 注意保存重复的数字\n",
    "    # 函数返回True/False\n",
    "    @classmethod\n",
    "    def duplicate(self, lis, duplication):\n",
    "        # 首先进行输入的检测：是否为空\n",
    "        if lis == None or len(lis)<1:\n",
    "            return False\n",
    "        # 是否为有效值\n",
    "        for i in range(len(lis)):\n",
    "            if lis[i]<0 or lis[i]>len(lis)-1:\n",
    "                return False;\n",
    "        \n",
    "        lis.sort()\n",
    "        for i in range(len(lis)-1):\n",
    "            if lis[i] == lis[i+1]:\n",
    "                duplication[0] = lis[i]\n",
    "                return True\n",
    "        return False"
   ]
  },
  {
   "cell_type": "code",
   "execution_count": 2,
   "metadata": {},
   "outputs": [
    {
     "name": "stdout",
     "output_type": "stream",
     "text": [
      "Test case 1: True\tDuplication: 2\nTest case 2: False\tDuplication: -1\nTest case 3: False\tDuplication: -1\nTest case 4: False\tDuplication: -1\n"
     ]
    }
   ],
   "source": [
    "# 熟悉类变量用法\n",
    "# 正确输入\n",
    "dup_1 = [-1]\n",
    "lis_1 = [2,3,1,0,2,5,3]\n",
    "print('Test case 1: ' + str(Solution_1.duplicate(lis_1,dup_1)) + '\\tDuplication: ' + str(dup_1[0]))\n",
    "# 没有重复数字\n",
    "dup_2 = [-1]\n",
    "lis_2 = [2,3,1,0,4,5,8]\n",
    "print('Test case 2: ' + str(Solution_1.duplicate(lis_2,dup_2)) + '\\tDuplication: ' + str(dup_2[0]))\n",
    "# 输入为空\n",
    "dup_3 = [-1]\n",
    "lis_3 = []\n",
    "print('Test case 3: ' + str(Solution_1.duplicate(lis_3,dup_3)) + '\\tDuplication: ' + str(dup_3[0]))\n",
    "# 有0-n-1之外的数字\n",
    "dup_4 = [-1]\n",
    "lis_4 = [2,3,1,0,2,5,3,10]\n",
    "print('Test case 4: ' + str(Solution_1.duplicate(lis_4,dup_4)) + '\\tDuplication: ' + str(dup_4[0]))"
   ]
  },
  {
   "cell_type": "markdown",
   "metadata": {},
   "source": [
    "<b>解题思路2：使用辅助空间:哈希表。</b>\n",
    "\n",
    "时间复杂度为O(n)，空间复杂度为O(n)"
   ]
  },
  {
   "cell_type": "code",
   "execution_count": 3,
   "metadata": {},
   "outputs": [
    {
     "name": "stdout",
     "output_type": "stream",
     "text": [
      "True\t\tDuplication: 2\n"
     ]
    }
   ],
   "source": [
    "class Solution_2:\n",
    "    # 注意保存重复的数字\n",
    "    # 函数返回True/False\n",
    "    def duplicate(self, lis, duplication):\n",
    "        # 首先进行输入的检测：是否为空\n",
    "        if lis == None or len(lis)<1:\n",
    "            return False\n",
    "        \n",
    "        dup_set = set()\n",
    "        for i in range(len(lis)):\n",
    "            if lis[i]<0 or lis[i]>len(lis)-1:\n",
    "                return False;\n",
    "            if lis[i] not in dup_set:\n",
    "                dup_set.add(lis[i])\n",
    "            else:\n",
    "                duplication[0] = lis[i]\n",
    "                return True\n",
    "        return False\n",
    "\n",
    "# 熟悉实例变量用法\n",
    "s = Solution_2()\n",
    "dup = [-1]\n",
    "lis = [2,3,1,0,2,5,3]\n",
    "s.duplicate(lis, dup)\n",
    "print(str(s.duplicate(lis, dup)) + '\\t\\tDuplication: ' + str(dup[0]))"
   ]
  },
  {
   "cell_type": "markdown",
   "metadata": {
    "collapsed": true
   },
   "source": [
    "思路2时间效率的提高是以一个大小为O(n)的哈希表为代价的。现在思考一种时间复杂度为O(n)空间复杂度为O(1)的算法。注意到数组中的数字在0-n-1之间。如果数组中没有重复的数字，那么当数组排序之后数字i将出现在下标为i的位置。由于数组中有重复的数字，有些位置可能存在多个数字，有些位置可能没有数字。\n",
    "\n",
    "<b>解题思路3：重排数组。从头到尾扫描数组的每个数字，当扫描到下标为i的数字时，首先比较这个数字（假设为m）是否等于i,如果是，接着扫描下一个数字；如果不是，那么再将它和下标为m的数字对比，如果两者不相等，就把它和第m个数字交换，把m放到属于它的位置，如果两者相等，那么就找到了一个重复的数字。重复这个过程，直到发现一个重复的数字。</b>"
   ]
  },
  {
   "cell_type": "code",
   "execution_count": 4,
   "metadata": {
    "scrolled": true
   },
   "outputs": [
    {
     "name": "stdout",
     "output_type": "stream",
     "text": [
      "True\t\tDuplication: 2\n"
     ]
    }
   ],
   "source": [
    "class Solution_3:\n",
    "    # 注意保存重复的数字\n",
    "    # 函数返回True/False\n",
    "    def duplicate(self, lis, duplication):\n",
    "        # 首先进行输入的检测：是否为空\n",
    "        if lis == None or len(lis)<1:\n",
    "            return False\n",
    "        # 是否越界\n",
    "        for i in range(len(lis)):\n",
    "            if lis[i]<0 or lis[i]>len(lis)-1:\n",
    "                return False;\n",
    "            \n",
    "        for i in range(len(lis)):\n",
    "            if i == lis[i]:\n",
    "                continue\n",
    "            elif lis[i] == lis[lis[i]]:\n",
    "                duplication[0] = lis[i]\n",
    "                return True\n",
    "            else:\n",
    "                temp = lis[lis[i]]\n",
    "                lis[lis[i]] = lis[i]\n",
    "                lis[i] = temp\n",
    "        return False\n",
    "    \n",
    "s_3 = Solution_3()\n",
    "dup = [-1]\n",
    "lis = [2,3,1,0,2,5,3]\n",
    "s_3.duplicate(lis, dup)\n",
    "print(str(s_3.duplicate(lis, dup)) + '\\t\\tDuplication: ' + str(dup[0]))"
   ]
  },
  {
   "cell_type": "markdown",
   "metadata": {
    "collapsed": true
   },
   "source": [
    "<b>拓展： 不修改数组找出重复的数字。</b>\n",
    "\n",
    "在一个长度为n+1的数组里，所有数字都在1~n范围内，所以数组中至少有一个数字是重复的。找出任意一个重复的数字但是不能修改输入的数组。\n",
    "\n",
    "思路1：同上面的思路2，利用哈希表，因此需要一个O(n)的辅助空间。\n",
    "\n",
    "<b>思路2：二分查找的变形。</b>把从1~n的数字从中间的数字m分为两部分，前面一半为1~m，后面一半为m+1~n。如果1~m的数字数目超过m，那么这一半的区间里一定包含重复的数字；否则，另一半m+1~n的区间里一定包含重复的数字。然后继续把包含重复数字的区间一分为二，直到找到一个重复的数字。整个过程和二分查找十分类似，只是多了一步统计区间内数字的数目。\n",
    "\n",
    "时间复杂度：O(logn)*O(n)即O(nlogn) 空间复杂度：O(1)"
   ]
  },
  {
   "cell_type": "code",
   "execution_count": 5,
   "metadata": {},
   "outputs": [],
   "source": [
    "class Solution:\n",
    "    # 注意保存重复的数字\n",
    "    # 函数返回True/False\n",
    "    def duplicate(self, lis, duplication):\n",
    "        # 首先进行输入的检测：是否为空\n",
    "        if lis == None or len(lis)<1:\n",
    "            return False\n",
    "        # 是否越界\n",
    "        for i in range(len(lis)):\n",
    "            if lis[i]<1 or lis[i]>len(lis)-1:\n",
    "                return False;\n",
    "        # 二分查找\n",
    "        start = 1\n",
    "        end = len(lis) - 1\n",
    "        i = 0\n",
    "        while end >= start:\n",
    "            mid = start + (end-start)//2\n",
    "            print(start, mid, end)\n",
    "            count = self.count_range(lis, start, mid)\n",
    "            #count = sum([(l>=start and l<=mid) for l in lis])\n",
    "            print(\"count: \" + str(count))\n",
    "            # 终止条件\n",
    "            if start == end:\n",
    "                if count > 1:\n",
    "                    duplication[0] = start\n",
    "                    return True\n",
    "                else:\n",
    "                    break\n",
    "            if count > mid - start + 1:\n",
    "                end = mid\n",
    "            else:\n",
    "                start = mid+1\n",
    "        return False\n",
    "    \n",
    "    def count_range(self, lis, start, end):\n",
    "        '''\n",
    "        计算数组中的元素大于等于start，小于等于end的元素的个数\n",
    "        '''\n",
    "        if lis == None or len(lis)<1:\n",
    "            return 0\n",
    "        count = 0\n",
    "        for i in range(len(lis)):\n",
    "            if lis[i] >=start and lis[i]<= end:\n",
    "                count+=1\n",
    "        return count"
   ]
  },
  {
   "cell_type": "code",
   "execution_count": 6,
   "metadata": {},
   "outputs": [
    {
     "name": "stdout",
     "output_type": "stream",
     "text": [
      "1 3 6\ncount: 4\n1 2 3\ncount: 3\n1 1 2\ncount: 2\n1 1 1\ncount: 2\nTrue\t\tDuplication: 1\n"
     ]
    }
   ],
   "source": [
    "s = Solution()\n",
    "dup = [-1]\n",
    "lis = [2,1,1,4,3,5,6]\n",
    "print(str(s.duplicate(lis, dup)) + '\\t\\tDuplication: ' + str(dup[0]))"
   ]
  },
  {
   "cell_type": "code",
   "execution_count": null,
   "metadata": {
    "collapsed": true
   },
   "outputs": [],
   "source": []
  }
 ],
 "metadata": {
  "kernelspec": {
   "display_name": "Python 3",
   "language": "python",
   "name": "python3"
  },
  "language_info": {
   "codemirror_mode": {
    "name": "ipython",
    "version": 3
   },
   "file_extension": ".py",
   "mimetype": "text/x-python",
   "name": "python",
   "nbconvert_exporter": "python",
   "pygments_lexer": "ipython3",
   "version": "3.6.3"
  }
 },
 "nbformat": 4,
 "nbformat_minor": 2
}
