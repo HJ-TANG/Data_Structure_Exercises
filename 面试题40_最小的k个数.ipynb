{
  "cells": [
    {
      "cell_type": "markdown",
      "metadata": {
        "collapsed": true,
        "pycharm": {
          "name": "#%% md\n"
        }
      },
      "source": "## 面试题40：最小的k个数\n\n题目：输入n个整数，找出其中最小的K个数。例如输入\\[4,5,1,6,2,7,3,8]这8个数字，则最小的4个数字是\\[1,2,3,4]。"
    },
    {
      "cell_type": "markdown",
      "source": "思路一：排序然后输出前k个数。时间复杂度是O(nlogn)。",
      "metadata": {
        "pycharm": {
          "metadata": false,
          "name": "#%% md\n"
        }
      }
    },
    {
      "cell_type": "code",
      "execution_count": null,
      "outputs": [],
      "source": "class Solution:\n    def GetLeastNumbers_Solution(self, tinput, k):\n        if k \u003e len(tinput):\n            return []\n        tinput.sort()\n        return tinput[:k]",
      "metadata": {
        "pycharm": {
          "metadata": false,
          "name": "#%%\n"
        }
      }
    },
    {
      "cell_type": "markdown",
      "source": "思路二：冒泡的思想。O(nk)的复杂度，改变原数组。\n\n要求找出（第）k个最小元素，可以通过在序列中遍历k次，每次找出最小的，并放在序列头。类似泡泡一样，找出第k个大的泡泡（bubble）。",
      "metadata": {
        "pycharm": {
          "metadata": false,
          "name": "#%% md\n"
        }
      }
    },
    {
      "cell_type": "markdown",
      "source": "思路三：时间复杂度为O(n)的解法，只有当我们可以修改数组的输入时可以使用。利用面试题39里的思路三。如果基于数组的第k个数字来调整，使得所有比第k个数字小的都放在左边，\n大的都放在右边。这样数组的前k个数字就是最小的k个数字。（但是这k个数字**不一定是排序的**）",
      "metadata": {
        "pycharm": {
          "metadata": false,
          "name": "#%% md\n"
        }
      }
    },
    {
      "cell_type": "code",
      "execution_count": null,
      "outputs": [],
      "source": "class Solution2:\n    def GetLeastNumbers_Solution(self, numbers, k):\n        if not numbers:\n            return []\n        if k \u003e len(numbers):\n            return []\n        self.getMinK(numbers, 0, len(numbers)-1, k)\n        nums_k \u003d numbers[:k]\n        nums_k.sort()  # 不要求顺序不用加这一句\n        return nums_k\n\n    def getMinK(self, numbers, left, right, k):\n        if left \u003e\u003d right:\n            return numbers[left]\n        i \u003d left\n        j \u003d right\n        if k \u003d\u003d 0 or k \u003e len(numbers):\n            return\n        key \u003d numbers[left]\n        while i \u003c j:\n            while numbers[j] \u003e\u003d key and i \u003c j:\n                j -\u003d 1\n            numbers[i] \u003d numbers[j]\n            while numbers[i] \u003c\u003d key and i \u003c j:\n                i +\u003d 1\n            numbers[j] \u003d numbers[i]\n        numbers[i] \u003d key\n\n        offset \u003d i - left\n        if offset \u003d\u003d k - 1:\n            return numbers[i]\n        elif offset \u003e k - 1:\n            return self.getMinK(numbers, left, i-1, k)\n        else:\n            return self.getMinK(numbers, i+1, right, k-offset-1)",
      "metadata": {
        "pycharm": {
          "metadata": false,
          "name": "#%%\n"
        }
      }
    },
    {
      "cell_type": "markdown",
      "source": "思路四：最大堆。时间复杂度为O(nlogk)的解法，适合处理海量数据。\n\nO(1)时间内可以得到已有的k个数字的最大值，但需要O(logk)时间完成删除及插入操作。\n\n[最小堆、最大堆参考资料](https://blog.csdn.net/hrn1216/article/details/51465270)\n\n最大堆通常都是一棵完全二叉树，因此我们使用数组的形式来存储最大堆的值，从**0号单元**开始存储，因此父结点跟子结点的关系就是**两倍加一**的关系。\n\n```\nheap[father * 2 + 1] \u003d heap[leftChild]\nheap[leftChild + 1] \u003d heap[rightChild]\n```",
      "metadata": {
        "pycharm": {
          "metadata": false,
          "name": "#%% md\n"
        }
      }
    },
    {
      "cell_type": "code",
      "execution_count": null,
      "outputs": [],
      "source": "class Solution3:\n    def GetLeastNumbers_Solution(self, tinput, k):\n        n \u003d len(tinput)\n        if k \u003c\u003d 0 or k \u003e n:\n            return []\n\n        # 建立最大堆，堆的大小为k\n        # 自底向上，递归调整。从 int(k/2)-1 个节点开始往上调整\n        for i in range(int(k / 2) - 1, -1, -1):  # 后面的节点不会是父节点\n            self.heapAdjust(tinput, i, k)\n        for i in range(k, n):\n            if tinput[i] \u003c tinput[0]:\n                tinput[0], tinput[i] \u003d tinput[i], tinput[0]\n                # 调整前k个数\n                self.heapAdjust(tinput, 0, k)\n        result \u003d tinput[:k]\n        result.sort()\n        return result\n\n    def heapAdjust(self, array, i, length):\n        parent \u003d i\n        child \u003d 2 * i + 1\n        tmp \u003d array[i]\n        while child \u003c length:\n            # 记录较大的那个孩子下标\n            if child \u003c length-1 and array[child] \u003c array[child+1]:\n                # 如果右孩子比较大，下标右移\n                child +\u003d 1\n            if array[parent] \u003e\u003d array[child]:  # 如果父节点大于等于孩子节点，调整结束\n                break\n            else:                              # 如果父节点比子节点小，调换，并循环往下调整\n                array[parent], array[child] \u003d array[child], array[parent]\n                parent \u003d child\n                child \u003d 2 * parent + 1\n        # 最后将一开始的根值放入合适的位置(如果前面是交换，这句就不要)\n        # array[parent] \u003d tmp",
      "metadata": {
        "pycharm": {
          "metadata": false,
          "name": "#%%\n"
        }
      }
    }
  ],
  "metadata": {
    "language_info": {
      "codemirror_mode": {
        "name": "ipython",
        "version": 2
      },
      "file_extension": ".py",
      "mimetype": "text/x-python",
      "name": "python",
      "nbconvert_exporter": "python",
      "pygments_lexer": "ipython2",
      "version": "2.7.6"
    },
    "kernelspec": {
      "name": "pycharm-1ce6c0c3",
      "language": "python",
      "display_name": "PyCharm (Offer)"
    }
  },
  "nbformat": 4,
  "nbformat_minor": 0
}