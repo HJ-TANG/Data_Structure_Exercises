{
 "cells": [
  {
   "cell_type": "markdown",
   "metadata": {
    "collapsed": true
   },
   "source": [
    "## 面试题4：二维数组中的查找\n",
    "\n",
    "题目：在一个二维数组中，每一行都按照从左到右递增的顺序排序，每一列都按照从上到下递增的顺序排序。\n",
    "请完成一个函数，输入这样的一个二维数组和一个整数，判断数组中是否含有该整数。\n",
    "\n",
    "</b>解题思路1：零分办法：二层遍历。</b>\n",
    "\n",
    "时间不是最优。"
   ]
  },
  {
   "cell_type": "code",
   "execution_count": 2,
   "metadata": {},
   "outputs": [
    {
     "name": "stdout",
     "output_type": "stream",
     "text": [
      "True\nFalse\n"
     ]
    }
   ],
   "source": [
    "class Solution1:\n",
    "    @staticmethod\n",
    "    def find(dim2_arr, number):\n",
    "        \"\"\"\n",
    "        Find out if a given number exists in the array\n",
    "        :param dim2_arr: input array, two-dimensional\n",
    "        :param number: the number that needs to be searched in the array\n",
    "        :return: bool, whether the number is found or not \n",
    "        \"\"\"\n",
    "        for i in range(len(dim2_arr)):\n",
    "            for j in range(len(dim2_arr[0])):\n",
    "                if dim2_arr[i][j] == number:\n",
    "                    return True\n",
    "        return False\n",
    "\n",
    "\n",
    "arr = [[1, 2, 8, 9], [2, 4, 9, 12], [4, 7, 10, 13], [6, 8, 11, 5]]\n",
    "s_1 = Solution1()\n",
    "print(s_1.find(arr, 12))\n",
    "print(s_1.find(arr, 30))"
   ]
  },
  {
   "cell_type": "markdown",
   "metadata": {},
   "source": [
    "<b>解题思路2：从数组右上角或者左下角开始分析。</b>"
   ]
  },
  {
   "cell_type": "code",
   "execution_count": 3,
   "metadata": {},
   "outputs": [
    {
     "name": "stdout",
     "output_type": "stream",
     "text": [
      "True\nFalse\n"
     ]
    }
   ],
   "source": [
    "class Solution2:\n",
    "    @staticmethod\n",
    "    def find(dim2_arr, number):\n",
    "        \"\"\"\n",
    "        Find out if a given number exists in the array\n",
    "        :param dim2_arr: input array, two-dimensional\n",
    "        :param number: the number that needs to be searched in the array\n",
    "        :return: bool, whether the number is found or not \n",
    "        \"\"\"\n",
    "        num_row = len(dim2_arr)\n",
    "        num_col = len(dim2_arr[0])\n",
    "        row = 0\n",
    "        col = num_col-1\n",
    "        \n",
    "        while row < num_row and col >= 0:\n",
    "            # stop condition\n",
    "            if row == num_row-1 and col == 0 and dim2_arr[row][col] != number:\n",
    "                return False\n",
    "            if dim2_arr[row][col] == number:\n",
    "                return True\n",
    "            if dim2_arr[row][col] >= number:\n",
    "                col -= 1\n",
    "            else:\n",
    "                row += 1\n",
    "        return False\n",
    "    \n",
    "    \n",
    "arr = [[1, 2, 8, 9], [2, 4, 9, 12], [4, 7, 10, 13], [6, 8, 11, 5]]\n",
    "s_2 = Solution2()\n",
    "print(s_2.find(arr, 12))\n",
    "print(s_2.find(arr, 19))"
   ]
  },
  {
   "cell_type": "code",
   "execution_count": null,
   "metadata": {},
   "outputs": [],
   "source": []
  }
 ],
 "metadata": {
  "kernelspec": {
   "display_name": "Python 3",
   "language": "python",
   "name": "python3"
  },
  "language_info": {
   "codemirror_mode": {
    "name": "ipython",
    "version": 3
   },
   "file_extension": ".py",
   "mimetype": "text/x-python",
   "name": "python",
   "nbconvert_exporter": "python",
   "pygments_lexer": "ipython3",
   "version": "3.6.3"
  }
 },
 "nbformat": 4,
 "nbformat_minor": 2
}
