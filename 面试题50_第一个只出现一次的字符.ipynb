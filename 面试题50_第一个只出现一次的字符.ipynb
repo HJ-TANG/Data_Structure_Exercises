{
  "cells": [
    {
      "cell_type": "markdown",
      "metadata": {
        "collapsed": true,
        "pycharm": {
          "name": "#%% md\n"
        }
      },
      "source": "## 面试题50：第一个只出现一次的字符\n\n题目：在一个字符串(0\u003c\u003d字符串长度\u003c\u003d10000，全部由字母组成)中找到第一个只出现一次的字符,并返回它的位置, 如果没有则返回 -1（需要区分大小写）.\n\n思路一：哈希表 O(n)时间复杂度\n\n【注意】字典的key是无序的，可以使用list来保存顺序。或者使用特殊的有序字典。"
    },
    {
      "cell_type": "code",
      "execution_count": null,
      "outputs": [],
      "source": "class Solution:\n    def FirstNotRepeatingChar(self, s):\n        from collections import defaultdict\n        dic \u003d defaultdict(int)\n        first \u003d \u0027\u0027\n        char_list \u003d []\n        for char in s:\n            if dic[char] \u003d\u003d 0:  # 从字典中通过key取值来判断比判断char是否在char_list中快很多。相当于是哈希表的O(1)复杂度。\n                char_list.append(char)\n            dic[char] +\u003d 1\n        for i in char_list:\n            if dic[i] \u003d\u003d 1:\n                first \u003d i\n                break\n        if first \u003d\u003d \u0027\u0027:\n            return -1\n        else:\n            return s.find(first)",
      "metadata": {
        "pycharm": {
          "metadata": false,
          "name": "#%%\n"
        }
      }
    },
    {
      "cell_type": "markdown",
      "source": "思路二：find是从左往右搜索，rfind是从右往左搜索，都是返回第一个匹配的下标。 如果两者一致，证明这个就是唯一值。\n\n思路很清晰，但是时间复杂度很高的做法。",
      "metadata": {
        "pycharm": {
          "metadata": false,
          "name": "#%% md\n"
        }
      }
    },
    {
      "cell_type": "code",
      "execution_count": null,
      "outputs": [],
      "source": "class Solution2:\n    def FirstNotRepeatingChar(self, s):\n        for i in range(len(s)):\n            if s.find(s[i]) \u003d\u003d s.rfind(s[i]):\n                return i\n        return -1",
      "metadata": {
        "pycharm": {
          "metadata": false,
          "name": "#%%\n"
        }
      }
    },
    {
      "cell_type": "markdown",
      "source": "改进版：（当所有可能的字符已知的时候，如本题确定是字母）",
      "metadata": {
        "pycharm": {
          "metadata": false,
          "name": "#%% md\n"
        }
      }
    },
    {
      "cell_type": "code",
      "execution_count": null,
      "outputs": [],
      "source": "class Solution3:\n    def FirstNotRepeatingChar(self, s):\n        letter \u003d \u0027QWERTYUIOPASDFGHJKLZXCVBNMqwertyuiopasdfghjklzxcvbnm\u0027\n        s \u003d [s.find(i) for i in letter if s.find(i) \u003d\u003d s.rfind(i) and s.find(i) !\u003d -1]\n        return min(s) if s else -1",
      "metadata": {
        "pycharm": {
          "metadata": false,
          "name": "#%%\n"
        }
      }
    }
  ],
  "metadata": {
    "language_info": {
      "codemirror_mode": {
        "name": "ipython",
        "version": 2
      },
      "file_extension": ".py",
      "mimetype": "text/x-python",
      "name": "python",
      "nbconvert_exporter": "python",
      "pygments_lexer": "ipython2",
      "version": "2.7.6"
    },
    "kernelspec": {
      "name": "pycharm-1ce6c0c3",
      "language": "python",
      "display_name": "PyCharm (Offer)"
    }
  },
  "nbformat": 4,
  "nbformat_minor": 0
}