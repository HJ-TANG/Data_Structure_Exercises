{
  "cells": [
    {
      "cell_type": "markdown",
      "metadata": {
        "collapsed": true,
        "pycharm": {
          "name": "#%% md\n"
        }
      },
      "source": "## 面试题52：两个链表的第一个公共节点\n\n题目：输入两个链表，找出它们的第一个公共节点。"
    },
    {
      "cell_type": "markdown",
      "source": "思路一：蛮力法，时间复杂度为O(mn)。\n\n在第一个链表上顺序遍历每个节点，每遍历到一个节点，就在第二个链表上顺序遍历每个节点。\n如果在第二个链表上有节点跟第一个链表上的节点一样，则说明两个链表在这个节点上重合，即为它们的第一个公共节点。",
      "metadata": {
        "pycharm": {
          "metadata": false,
          "name": "#%% md\n"
        }
      }
    },
    {
      "cell_type": "code",
      "execution_count": null,
      "outputs": [],
      "source": "# -*- coding:utf-8 -*-\nclass ListNode:\n    def __init__(self, x):\n        self.val \u003d x\n        self.next \u003d None\n        \nclass Solution:\n    def FindFirstCommonNode(self, pHead1, pHead2):\n        # write code here\n        if pHead1 is None or pHead2 is None:\n            return None\n        node1 \u003d pHead1\n        while node1:\n            node2 \u003d pHead2  # 每次开始对node2的遍历之前将node2恢复\n            while node2:\n                if node1 \u003d\u003d node2:\n                    return node2\n                node2 \u003d node2.next\n            node1 \u003d node1.next\n        return None",
      "metadata": {
        "pycharm": {
          "metadata": false,
          "name": "#%%\n"
        }
      }
    },
    {
      "cell_type": "markdown",
      "source": "思路二：利用栈结构的特点从链表尾部开始比较。 时间复杂度为O(m+n)，空间复杂度为O(m+n)。\n\n如果两个链表有公共节点，公共节点一定出现在两个链表的尾部。分别将两个链表的节点放入两个栈里面，这样两个链表的尾节点就位于两个栈的栈顶，接下来比较两个栈的栈顶节点是否相同，\n如果相同，则把栈顶弹出继续比较下一个栈顶，直到找到最后一个相同的节点。\n\n",
      "metadata": {
        "pycharm": {
          "metadata": false,
          "name": "#%% md\n"
        }
      }
    },
    {
      "cell_type": "code",
      "execution_count": null,
      "outputs": [],
      "source": "class Solution2:\n    def FindFirstCommonNode(self, pHead1, pHead2):\n        # write code here\n        if pHead1 is None or pHead2 is None:\n            return None\n        mystack1 \u003d []\n        mystack2 \u003d []\n        while pHead1:\n            mystack1.append(pHead1)\n            pHead1 \u003d pHead1.next\n        while pHead2:\n            mystack2.append(pHead2)\n            pHead2 \u003d pHead2.next\n        common_node \u003d None\n        while len(mystack1) \u003e 0 and len(mystack2) \u003e 0:\n            p1 \u003d mystack1.pop()\n            p2 \u003d mystack2.pop()\n            if p1 \u003d\u003d p2:\n                common_node \u003d p1\n            else:\n                break\n        return common_node",
      "metadata": {
        "pycharm": {
          "metadata": false,
          "name": "#%%\n"
        }
      }
    },
    {
      "cell_type": "markdown",
      "source": "思路三：时间复杂度O(m+n)，且不需要辅助空间。首先遍历两个链表得到它们的长度，就能知道哪个链表比较长，以及长的链表比短的链表多几个节点。第二次遍历的时候，在较长的链表上先走若干步，\n接着同时在两个链表上遍历，找到的第一个相同的节点就是他们的第一个公共节点。",
      "metadata": {
        "pycharm": {
          "metadata": false,
          "name": "#%% md\n"
        }
      }
    },
    {
      "cell_type": "code",
      "execution_count": null,
      "outputs": [],
      "source": "class Solution3:\n    def FindFirstCommonNode(self, pHead1, pHead2):\n        # write code here\n        if pHead1 is None or pHead2 is None:\n            return None\n        len1 \u003d 0\n        len2 \u003d 0\n        node1 \u003d pHead1\n        node2 \u003d pHead2\n        # 遍历得到链表1的长度\n        while node1:\n            len1 +\u003d 1\n            node1 \u003d node1.next\n        # 遍历得到链表2的长度\n        while node2:\n            len2 +\u003d 1\n            node2 \u003d node2.next\n        # 指针回到头节点\n        node1 \u003d pHead1\n        node2 \u003d pHead2\n        # 长的指针先走diff步\n        if len1 \u003e\u003d len2:\n            diff \u003d len1 - len2\n            while diff:\n                node1 \u003d node1.next\n                diff -\u003d 1\n        else:\n            diff \u003d len2 - len1\n            while diff:\n                node2 \u003d node2.next\n                diff -\u003d 1\n        # 再从当前节点开始一一比较\n        while node1:\n            if node1 \u003d\u003d node2:\n                return node1\n            else:\n                node1 \u003d node1.next\n                node2 \u003d node2.next\n        return None",
      "metadata": {
        "pycharm": {
          "metadata": false,
          "name": "#%%\n"
        }
      }
    },
    {
      "cell_type": "markdown",
      "source": "测试：",
      "metadata": {
        "pycharm": {
          "metadata": false,
          "name": "#%% md\n"
        }
      }
    },
    {
      "cell_type": "code",
      "execution_count": null,
      "outputs": [],
      "source": "m0 \u003d ListNode(1)\nm1 \u003d ListNode(2)\nm2 \u003d ListNode(4)\nm3 \u003d ListNode(5)\nm0.next \u003d m1\nm1.next \u003d m2\nm2.next \u003d m3\n\n# n0 \u003d ListNode(1)\nn1 \u003d ListNode(2)\nn2 \u003d m2\nn3 \u003d m3\n# n0.next \u003d n1\nn1.next \u003d n2\ns \u003d Solution()\ncommon_node \u003d s.FindFirstCommonNode(m0, n1)\n\ncurr_node \u003d common_node\nwhile curr_node:\n    print(curr_node.val)\n    curr_node \u003d curr_node.next",
      "metadata": {
        "pycharm": {
          "metadata": false,
          "name": "#%%\n"
        }
      }
    }
  ],
  "metadata": {
    "language_info": {
      "codemirror_mode": {
        "name": "ipython",
        "version": 2
      },
      "file_extension": ".py",
      "mimetype": "text/x-python",
      "name": "python",
      "nbconvert_exporter": "python",
      "pygments_lexer": "ipython2",
      "version": "2.7.6"
    },
    "kernelspec": {
      "name": "pycharm-1ce6c0c3",
      "language": "python",
      "display_name": "PyCharm (Offer)"
    }
  },
  "nbformat": 4,
  "nbformat_minor": 0
}