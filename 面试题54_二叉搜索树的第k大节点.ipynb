{
  "cells": [
    {
      "cell_type": "markdown",
      "metadata": {
        "collapsed": true,
        "pycharm": {
          "name": "#%% md\n"
        }
      },
      "source": "## 面试题54：二叉搜索树的第k大节点\n\n题目：给定一棵二叉搜索树，请找出其中的第k小的结点。例如，（5，3，7，2，4，6，8）中，按结点数值大小顺序第三小结点的值为4。\n\n思路：二叉搜索树的中序遍历序列即为排序后的序列。"
    },
    {
      "cell_type": "code",
      "execution_count": null,
      "outputs": [],
      "source": "class Solution:\n    # 返回对应节点TreeNode\n    def KthNode(self, pRoot, k):\n        # write code here\n        res \u003d []\n\n        def core(root):\n            if not root:\n                return\n            core(root.left)\n            res.append(root.val)\n            core(root.right)\n\n        core(pRoot)\n        if k \u003e len(res) or k \u003c\u003d 0:\n            return None\n        else:\n            return res[k - 1]",
      "metadata": {
        "pycharm": {
          "metadata": false,
          "name": "#%%\n"
        }
      }
    }
  ],
  "metadata": {
    "language_info": {
      "codemirror_mode": {
        "name": "ipython",
        "version": 2
      },
      "file_extension": ".py",
      "mimetype": "text/x-python",
      "name": "python",
      "nbconvert_exporter": "python",
      "pygments_lexer": "ipython2",
      "version": "2.7.6"
    },
    "kernelspec": {
      "name": "pycharm-1ce6c0c3",
      "language": "python",
      "display_name": "PyCharm (Offer)"
    }
  },
  "nbformat": 4,
  "nbformat_minor": 0
}