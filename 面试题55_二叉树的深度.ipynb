{
  "cells": [
    {
      "cell_type": "markdown",
      "metadata": {
        "collapsed": true,
        "pycharm": {}
      },
      "source": "## 面试题55：二叉树的深度\n### 题目一：二叉树的深度\n输入一棵二叉树的根节点，求该树的深度。（从根结点到叶结点依次经过的结点（含根、叶结点）形成树的一条路径，最长路径的长度为树的深度。）\n\n思路：如果一棵树只有一个节点，那么它的深度为1。如果根节点只有左子树而没有右子树，那么树的深度是其左子树的深度加一；\n同样，如果根节点只有右子树而没有左子树，那么树的深度为其右子树深度加一。\n如果既有左子树又有右子树，那么深度为其左子树右子树深度的较大值加一。"
    },
    {
      "cell_type": "code",
      "execution_count": 1,
      "metadata": {
        "pycharm": {
          "is_executing": false
        }
      },
      "outputs": [],
      "source": "# -*- coding:utf-8 -*-\n# class TreeNode:\n#     def __init__(self, x):\n#         self.val \u003d x\n#         self.left \u003d None\n#         self.right \u003d None\n\n\nclass Solution1:\n    def TreeDepth(self, pRoot):\n        # write code here\n        if pRoot is None:\n            return 0\n        left \u003d self.TreeDepth(pRoot.left)    # 左子树的深度\n        right \u003d self.TreeDepth(pRoot.right)  # 右子树的深度\n        return max(left, right) + 1  # 深度较大的值加上1"
    },
    {
      "cell_type": "markdown",
      "source": "### 题目二：平衡二叉树\n输入一棵树的根节点，判断该树是不是平衡二叉树。（如果某二叉树中任一节点的左右子树深度相差不超过1，那么它就是一棵平衡二叉树。）\n\n思路1：遍历每一个节点的时候调用TreeDepth方法，得到左右子树的深度，如果所有节点的左右子树深度都不超过1，那么就是一棵平衡二叉树。",
      "metadata": {
        "pycharm": {
          "metadata": false
        }
      }
    },
    {
      "cell_type": "code",
      "execution_count": null,
      "outputs": [],
      "source": "class Solution21:\n    def TreeDepth(self, pRoot):\n        # write code here\n        if pRoot is None:\n            return 0\n        left \u003d self.TreeDepth(pRoot.left)    # 左子树的深度\n        right \u003d self.TreeDepth(pRoot.right)  # 右子树的深度\n        return max(left, right) + 1  # 深度较大的值加上1\n\n    def IsBalanced_Solution(self, pRoot):\n        if pRoot is None:\n            return True\n        if abs(self.TreeDepth(pRoot.left) - self.TreeDepth(pRoot.right)) \u003e 1:\n            return False\n        return self.IsBalanced_Solution(pRoot.left) and self.IsBalanced_Solution(pRoot.right)  # 递归判断其左右子树是否为平衡树\n        ",
      "metadata": {
        "pycharm": {
          "metadata": false,
          "name": "#%%\n"
        }
      }
    },
    {
      "cell_type": "markdown",
      "source": "思路2：上述代码中，一个节点会被重复遍历很多次，不够高效。如果用后序遍历的方式遍历二叉树的每个节点，那么在遍历到一个节点之前我们就\n已经遍历了它的左右子树。只有在遍历每个节点的时候记录它的深度，我们就可以一边遍历一遍判断每个节点是不是平衡的。",
      "metadata": {
        "pycharm": {
          "metadata": false
        }
      }
    },
    {
      "cell_type": "code",
      "execution_count": null,
      "outputs": [],
      "source": "class Solution22:\n    def IsBalanced_Solution(self, pRoot):\n        def core(pRoot):\n            if pRoot is None:\n                return 0\n            l \u003d core(pRoot.left)\n            r \u003d core(pRoot.right)\n            if abs(l - r) \u003e 1:\n                raise Exception\n            return max(l, r) + 1\n        try:\n            core(pRoot)\n        except Exception:\n            return False\n        return True",
      "metadata": {
        "pycharm": {
          "metadata": false,
          "name": "#%%\n"
        }
      }
    }
  ],
  "metadata": {
    "kernelspec": {
      "name": "python3",
      "language": "python",
      "display_name": "Python 3"
    },
    "language_info": {
      "codemirror_mode": {
        "name": "ipython",
        "version": 2
      },
      "file_extension": ".py",
      "mimetype": "text/x-python",
      "name": "python",
      "nbconvert_exporter": "python",
      "pygments_lexer": "ipython2",
      "version": "2.7.6"
    }
  },
  "nbformat": 4,
  "nbformat_minor": 0
}