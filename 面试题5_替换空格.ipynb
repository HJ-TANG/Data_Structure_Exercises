{
  "cells": [
    {
      "cell_type": "markdown",
      "metadata": {
        "collapsed": true,
        "pycharm": {}
      },
      "source": [
        "## 面试题5：替换空格\n",
        "\n",
        "题目：请实现一个函数，将一个字符串中的空格替换成``%20\u0027\u0027。例如，当字符串为``We Are Happy\u0027\u0027.则经过替换之后的字符串为``We%20Are%20Happy\u0027\u0027。（注意：书中使用语言为C，字符串相当于字符型数组，其值可以改变，而python中字符串为不可变对象。）\n",
        "\n",
        "Python的简单实现："
      ]
    },
    {
      "cell_type": "code",
      "execution_count": 29,
      "metadata": {
        "pycharm": {}
      },
      "outputs": [
        {
          "name": "stdout",
          "output_type": "stream",
          "text": [
            "We%20are%20happy.\nWe%20are%20happy.\nWe_are_happy.\nWe_are_happy.\n"
          ]
        }
      ],
      "source": [
        "class SolutionInPython:\n",
        "    def replace_solution_1(self, str_in, str_search, str_replace):\n",
        "        if isinstance(str_in, str) and isinstance(str_search, str) \\\n",
        "                and isinstance(str_replace, str):\n",
        "            return str_in.replace(str_search, str_replace)\n",
        "        else:\n",
        "            print(\"Not String!\")\n",
        "    \n",
        "    def replace_solution_2(self, str_in, str_search, str_replace):\n",
        "        if isinstance(str_in, str) and isinstance(str_search, str) \\\n",
        "                and isinstance(str_replace, str):\n",
        "            return str_replace.join(str_in.split(str_search))\n",
        "        else:\n",
        "            print(\"Not String!\")\n",
        "            \n",
        "\n",
        "s \u003d SolutionInPython()\n",
        "str_input_1 \u003d \u0027We are happy.\u0027\n",
        "str_out_1 \u003d s.replace_solution_1(str_input_1, \u0027 \u0027, \u0027%20\u0027)\n",
        "print(str_out_1)\n",
        "str_out_2 \u003d s.replace_solution_2(str_input_1, \u0027 \u0027, \u0027%20\u0027)\n",
        "print(str_out_2)\n",
        "\n",
        "str_input_2 \u003d \u0027We_are_happy.\u0027\n",
        "str_out_3 \u003d s.replace_solution_1(str_input_2, \u0027 \u0027, \u0027%20\u0027)\n",
        "print(str_out_3)\n",
        "str_out_4 \u003d s.replace_solution_2(str_input_2, \u0027 \u0027, \u0027%20\u0027)\n",
        "print(str_out_4)"
      ]
    },
    {
      "cell_type": "markdown",
      "metadata": {
        "pycharm": {}
      },
      "source": [
        "将字符串看成字符型数组，其值可变，使用书中所说方法，用python实现：\n",
        "\n",
        "算法1：时间复杂度O(n^2)。从头到尾扫描字符串，每次碰到空格字符的时候替换。由于是把1个字符替换成3个字符，必须要把空格后面所有的字符都后移2字节，否则会有两个字符被覆盖。效率比较低。\n",
        "\n",
        "算法2：时间复杂度O(n)。将从前向后替换改成从后向前替换。先遍历一次字符串，统计出字符串中总的空格数，则可以计算出替换之后的字符串的总长度。然后从字符串的后面开始替换。注意设置相应的index变量分别指向原字符串和新字符串的末尾。"
      ]
    },
    {
      "cell_type": "code",
      "execution_count": 30,
      "metadata": {
        "pycharm": {}
      },
      "outputs": [
        {
          "name": "stdout",
          "output_type": "stream",
          "text": [
            "We are happy.\nWe_are_happy.\nNot String!\nNone\n"
          ]
        }
      ],
      "source": [
        "class NewSolution(SolutionInPython):\n",
        "    def replace_solution_3(self, str_in, char_search, str_replace):\n",
        "        if isinstance(str_in, str) and isinstance(char_search, str) \\\n",
        "                and isinstance(str_replace, str):\n",
        "            arr_in \u003d list(str_in)\n",
        "            arr_replace \u003d list(str_replace)\n",
        "        else:\n",
        "            print(\"Not String!\")\n",
        "            return \n",
        "        space_count \u003d 0\n",
        "        origin_end \u003d len(arr_in) - 1\n",
        "        for i in range(len(arr_in)):\n",
        "            if arr_in[i] \u003d\u003d char_search:\n",
        "                space_count +\u003d 1\n",
        "        arr_in.extend([\u0027 \u0027] * space_count * (len(str_replace)-1))\n",
        "        new_end \u003d len(arr_in) - 1\n",
        "        while origin_end \u003e 0:\n",
        "            if arr_in[origin_end] \u003d\u003d char_search:\n",
        "                for i in range(len(str_replace)-1, -1, -1):\n",
        "                    arr_in[new_end] \u003d arr_replace[i]\n",
        "                    new_end -\u003d 1\n",
        "            else:\n",
        "                arr_in[new_end] \u003d arr_in[origin_end]\n",
        "                new_end -\u003d 1\n",
        "            origin_end -\u003d 1\n",
        "        return \u0027\u0027.join(arr_in) \n",
        "    \n",
        "\n",
        "new_s \u003d NewSolution()\n",
        "str_input_1 \u003d \u0027We are happy.\u0027\n",
        "str_out_1 \u003d new_s.replace_solution_3(str_input_1, \u0027 \u0027, \u0027%20\u0027)\n",
        "print(str_input_1)\n",
        "str_input_2 \u003d \u0027We_are_happy.\u0027\n",
        "str_out_2 \u003d new_s.replace_solution_3(str_input_2, \u0027 \u0027, \u0027%20\u0027)\n",
        "print(str_out_2)\n",
        "str_input_3 \u003d \u0027We are happy.\u0027\n",
        "str_out_3 \u003d new_s.replace_solution_3(str_input_3, \u0027 \u0027, 1234)\n",
        "print(str_out_3)"
      ]
    },
    {
      "cell_type": "markdown",
      "metadata": {
        "pycharm": {}
      },
      "source": [
        "举一反三：有两个排序的数组A1和A2。请实现一个函数，把A2中的所有数字插入A1中，并且所有的数字是排序的。\n",
        "\n",
        "思路1：直接插入，然后进行排序。\n",
        "\n",
        "思路2：对于每个A2中的数字，在A1中进行二分查找并插入。\n",
        "\n",
        "思路3：按照上面字符替换的思路，从尾到头比较A1和A2中的数字，并把较大的数字复制到A1中的合适位置。时间复杂度为O(n)。"
      ]
    },
    {
      "cell_type": "code",
      "execution_count": 2,
      "metadata": {
        "pycharm": {
          "is_executing": false
        }
      },
      "outputs": [
        {
          "name": "stdout",
          "text": [
            "[1, 2, 4, 5, 5, 6, 20, 25, 30]\n"
          ],
          "output_type": "stream"
        }
      ],
      "source": "class MergeArray:\n    @staticmethod\n    def merge_two_array(arr1, arr2):\n        \"\"\"\n        Insert all the numbers in A2 into A1, and all the numbers are sorted.\n        :param arr1: integer array A1, results are saved in this array\n        :param arr2: integer array A2\n        \"\"\"\n        if not (isinstance(arr1, list)) or not (isinstance(arr2, list)):\n            return\n        else:\n            p1 \u003d len(arr1) - 1\n            arr1.extend(len(arr2) * [0])\n            p2 \u003d len(arr2) - 1\n            p3 \u003d len(arr1) - 1\n            while p1 \u003e\u003d 0 and p2 \u003e\u003d 0:\n                if arr1[p1] \u003c arr2[p2]:\n                    arr1[p3] \u003d arr2[p2]\n                    p2 -\u003d 1\n                else:\n                    arr1[p3] \u003d arr1[p1]\n                    p1 -\u003d 1\n                p3 -\u003d 1\n            if p1 \u003c 0:\n                for i in range(p2, -1, -1):\n                    arr1[i] \u003d arr2[i]\n                    \n\nma \u003d MergeArray()\narr_1 \u003d [1, 5, 6, 20]\narr_2 \u003d [2, 4, 5, 25, 30]\nma.merge_two_array(arr_1, arr_2)\nprint(arr_1)"
    },
    {
      "cell_type": "markdown",
      "metadata": {
        "pycharm": {}
      },
      "source": [
        "LeetCode#283：Given an array nums, write a function to move all 0\u0027s to the end of it while maintaining the relative order of the non-zero elements.\n",
        "\n",
        "Notes: \n",
        "\n",
        "1. You must do this in-place without making a copy of the array.\n",
        "\n",
        "2. Minimize the total number of operations.\n"
      ]
    },
    {
      "cell_type": "code",
      "execution_count": 3,
      "metadata": {
        "pycharm": {}
      },
      "outputs": [
        {
          "name": "stdout",
          "output_type": "stream",
          "text": [
            "[4, 2, 4, 0, 0, 3, 0, 5, 1, 0]\n[4, 2, 4, 3, 5, 1, 0, 0, 0, 0]\n"
          ]
        }
      ],
      "source": [
        "class Solution:\n",
        "    def moveZeroes(self, nums: \u0027List[int]\u0027) -\u003e \u0027None\u0027:\n",
        "        \"\"\"\n",
        "        Do not return anything, modify nums in-place instead.\n",
        "        \"\"\"\n",
        "        nr_of_zero \u003d 0\n",
        "        for i in range(len(nums)):\n",
        "            if nums[i] \u003d\u003d 0:\n",
        "                nr_of_zero +\u003d 1\n",
        "        if nr_of_zero \u003d\u003d 0:\n",
        "            return\n",
        "\n",
        "        length \u003d len(nums)\n",
        "        start \u003d 0\n",
        "\n",
        "        for i in range(length):\n",
        "            if nums[i] !\u003d 0:\n",
        "                nums[start] \u003d nums[i]\n",
        "                start +\u003d 1\n",
        "        for i in range(length-1, length - nr_of_zero - 1, -1):\n",
        "            nums[i] \u003d 0\n",
        "\n",
        "\n",
        "s \u003d Solution()\n",
        "nums_in \u003d [4, 2, 4, 0, 0, 3, 0, 5, 1, 0]\n",
        "print(nums_in)\n",
        "s.moveZeroes(nums_in)\n",
        "print(nums_in)"
      ]
    },
    {
      "cell_type": "code",
      "execution_count": null,
      "metadata": {
        "pycharm": {}
      },
      "outputs": [],
      "source": []
    }
  ],
  "metadata": {
    "kernelspec": {
      "name": "python3",
      "language": "python",
      "display_name": "Python 3"
    },
    "language_info": {
      "codemirror_mode": {
        "name": "ipython",
        "version": 2
      },
      "file_extension": ".py",
      "mimetype": "text/x-python",
      "name": "python",
      "nbconvert_exporter": "python",
      "pygments_lexer": "ipython2",
      "version": "2.7.6"
    }
  },
  "nbformat": 4,
  "nbformat_minor": 0
}