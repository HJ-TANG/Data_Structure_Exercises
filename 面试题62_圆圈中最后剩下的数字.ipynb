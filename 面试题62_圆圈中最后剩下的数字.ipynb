{
  "cells": [
    {
      "cell_type": "markdown",
      "metadata": {
        "collapsed": true,
        "pycharm": {
          "name": "#%% md\n"
        }
      },
      "source": "## 面试题62：圆圈中最后剩下的数字\n\n题目：0,1,...,n-1这n个数字排成一个圆圈，从数字0开始，每次从这个圆圈里删除第m个数字。求出这个圆圈里剩下的最后一个数字。"
    },
    {
      "cell_type": "markdown",
      "source": "本题是有名的约瑟夫环问题。\n思路一：用环形链表模拟圆圈。\n\n需要循环遍历很多遍。每删除一个数字需要m步运算，共有n个数字，则总的时间复杂度是O(mn)，空间复杂度是O(n)。",
      "metadata": {
        "pycharm": {
          "metadata": false,
          "name": "#%% md\n"
        }
      }
    },
    {
      "cell_type": "code",
      "execution_count": null,
      "outputs": [],
      "source": "class ListNode:\n    def __init__(self, x):\n        self.val \u003d x\n        self.next \u003d None\n\nclass Solution:\n    def LastRemaining_Solution(self, n, m):\n        # write code here\n        # 构建环形链表\n        if n \u003d\u003d 0 or m \u003d\u003d 0:\n            return -1\n        first \u003d ListNode(0)\n        node \u003d first\n        for i in range(1, n):\n            node.next \u003d ListNode(i)\n            node \u003d node.next\n        node.next \u003d first\n        \n        node \u003d first\n        while node.next !\u003d node:\n            step \u003d m - 1\n            while step:\n                node \u003d node.next\n                step -\u003d 1\n            node.val \u003d node.next.val\n            node.next \u003d node.next.next\n        return node.val",
      "metadata": {
        "pycharm": {
          "metadata": false,
          "name": "#%%\n"
        }
      }
    },
    {
      "cell_type": "markdown",
      "source": "思路二：分析每次被删除的数字的规律并直接计算出圆圈中最后剩下的数字。见剑指offer。",
      "metadata": {
        "pycharm": {
          "metadata": false,
          "name": "#%% md\n"
        }
      }
    },
    {
      "cell_type": "code",
      "execution_count": null,
      "outputs": [],
      "source": "class Solution2:\n    def LastRemaining_Solution(self, n, m):\n        # write code here\n        if n \u003d\u003d 0 or m \u003d\u003d 0:\n            return -1\n        last \u003d 0\n        for i in range(2, n+1):\n            last \u003d (last + m) % i\n        return last",
      "metadata": {
        "pycharm": {
          "metadata": false,
          "name": "#%%\n"
        }
      }
    }
  ],
  "metadata": {
    "language_info": {
      "codemirror_mode": {
        "name": "ipython",
        "version": 2
      },
      "file_extension": ".py",
      "mimetype": "text/x-python",
      "name": "python",
      "nbconvert_exporter": "python",
      "pygments_lexer": "ipython2",
      "version": "2.7.6"
    },
    "kernelspec": {
      "name": "pycharm-1ce6c0c3",
      "language": "python",
      "display_name": "PyCharm (Offer)"
    }
  },
  "nbformat": 4,
  "nbformat_minor": 0
}