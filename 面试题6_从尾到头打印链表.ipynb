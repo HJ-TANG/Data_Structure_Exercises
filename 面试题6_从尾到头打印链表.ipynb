{
 "cells": [
  {
   "cell_type": "markdown",
   "metadata": {
    "collapsed": true
   },
   "source": [
    "## Python链表的基本操作\n",
    "\n",
    "### 1.定义一个节点类Node"
   ]
  },
  {
   "cell_type": "code",
   "execution_count": 8,
   "metadata": {},
   "outputs": [],
   "source": [
    "class Node:\n",
    "    \"\"\"\n",
    "    data: the value saved in this node\n",
    "    next: save the next node object\n",
    "    \"\"\"\n",
    "    def __init__(self, data, p_next=None):\n",
    "        self.data = data\n",
    "        self.next = p_next\n",
    "    \n",
    "    def __repr__(self):\n",
    "        \"\"\"\n",
    "        Define the characteristic output of Node\n",
    "        :return: value of the node\n",
    "        \"\"\"\n",
    "        return str(self.data)"
   ]
  },
  {
   "cell_type": "markdown",
   "metadata": {},
   "source": [
    "### 2. 定义链表类\n",
    "\n",
    "判断是否为空is_empty()，在表尾增加一个节点append()，根据索引查询该节点的数据get_data()，查找一个数据在链表中的索引get_index()，修改索引处节点的值update()，根据索引删除一个节点delete_at_index()，插入一个节点insert_at_index()，清空链表clear()"
   ]
  },
  {
   "cell_type": "code",
   "execution_count": 9,
   "metadata": {},
   "outputs": [],
   "source": [
    "class LinkedList:\n",
    "    def __init__(self):\n",
    "        self.head = None\n",
    "        self.length = 0\n",
    "        \n",
    "    def __str__(self):\n",
    "        if self.is_empty():\n",
    "            return \"Empty chain table!\"\n",
    "        chain = \"\"\n",
    "        curr_node = self.head\n",
    "        while curr_node:\n",
    "            # chain.append(curr_node.data)\n",
    "            chain = chain + str(curr_node) + \"  \" \n",
    "            curr_node = curr_node.next\n",
    "        return chain\n",
    "                \n",
    "    def is_empty(self):\n",
    "        return self.length == 0 and self.head is None\n",
    "    \n",
    "    def append(self, data_or_node):\n",
    "        \"\"\"\n",
    "        Append a node at the end of the linked list.\n",
    "        \"\"\"\n",
    "        if data_or_node is None:\n",
    "            return None\n",
    "        # item = None\n",
    "        if isinstance(data_or_node, Node):\n",
    "            item = data_or_node\n",
    "        else:\n",
    "            item = Node(data_or_node)\n",
    "        if self.length == 0 and self.head is None:\n",
    "            self.head = item\n",
    "            self.length += 1\n",
    "        else:\n",
    "            curr_node = self.head\n",
    "            while curr_node.next:\n",
    "                curr_node = curr_node.next\n",
    "            curr_node.next = item\n",
    "            # don't forget to update the length!!!\n",
    "            self.length += 1\n",
    "            \n",
    "    def get_data(self, index):\n",
    "        \"\"\"\n",
    "        Return the data at given index.\n",
    "        \"\"\"\n",
    "        if self.is_empty():\n",
    "            print(\"The linked list is empty!\")\n",
    "            return \n",
    "        if index > self.length-1 or index < 0:\n",
    "            print(\"Index out of range!\")\n",
    "            return\n",
    "        curr_node = self.head\n",
    "        for i in range(index):\n",
    "            curr_node = curr_node.next\n",
    "        return curr_node.data\n",
    "    \n",
    "    def get_index(self, data):\n",
    "        \"\"\"\n",
    "        Return the index of given data in the linked list.\n",
    "        \"\"\"\n",
    "        if self.is_empty():\n",
    "            print(\"The linked list is empty!\")\n",
    "        index = 0\n",
    "        curr_node = self.head\n",
    "        while curr_node:\n",
    "            if curr_node.data == data:\n",
    "                return index\n",
    "            index += 1\n",
    "            curr_node = curr_node.next\n",
    "        print(\"%s not found!\" % str(data))\n",
    "        return\n",
    "    \n",
    "    def update(self, index, data):\n",
    "        \"\"\"\n",
    "        Update the value of a node at given index.\n",
    "        \"\"\"\n",
    "        if self.is_empty():\n",
    "            print(\"The linked list is empty!\")\n",
    "            return \n",
    "        if index > self.length-1 or index < 0:\n",
    "            print(\"Index out of range!\")\n",
    "            return\n",
    "        curr_node = self.head\n",
    "        for i in range(index):\n",
    "            curr_node = curr_node.next\n",
    "        curr_node.data = data\n",
    "        \n",
    "    def delete_at_index(self, index):\n",
    "        \"\"\"\n",
    "        Delete the node that locates at the given index.\n",
    "        \"\"\"\n",
    "        if self.is_empty():\n",
    "            print(\"The linked list is empty!\")\n",
    "            return \n",
    "        if index > self.length-1 or index < 0:\n",
    "            print(\"Index out of range!\")\n",
    "            return\n",
    "        # process with head node\n",
    "        if index == 0:\n",
    "            self.head = self.head.next\n",
    "            self.length -= 1\n",
    "            return \n",
    "        prev_node = Node(None)\n",
    "        curr_node = self.head\n",
    "        for i in range(index):\n",
    "            prev_node = curr_node\n",
    "            curr_node = curr_node.next\n",
    "        prev_node.next = curr_node.next\n",
    "        # Don't forget to update the length!!!!\n",
    "        self.length -= 1\n",
    "        \n",
    "    def insert_at_index(self, index, node_or_data):\n",
    "        \"\"\"\n",
    "        Insert a node into given position.\n",
    "        \"\"\"\n",
    "        if self.is_empty():\n",
    "            print(\"The linked list is empty!\")\n",
    "            return \n",
    "        if index > self.length-1 or index < 0:\n",
    "            print(\"Index out of range!\")\n",
    "            return\n",
    "        if isinstance(node_or_data, Node):\n",
    "            item = node_or_data\n",
    "        else:\n",
    "            item = Node(node_or_data)\n",
    "        curr_node = self.head\n",
    "        for i in range(index):\n",
    "            curr_node = curr_node.next\n",
    "        item.next = curr_node.next\n",
    "        curr_node.next = item\n",
    "        # Don't forget to update the length!!!!\n",
    "        self.length += 1\n",
    "    \n",
    "    def clear(self):\n",
    "        self.head = None\n",
    "        self.length = 0"
   ]
  },
  {
   "cell_type": "code",
   "execution_count": 10,
   "metadata": {
    "collapsed": false
   },
   "outputs": [
    {
     "name": "stdout",
     "output_type": "stream",
     "text": [
      "====append====\n0  1  2  3  4  5  6  7  8  9  \n====where is 5====\n5 is at position 5\n====what is at position 7====\n7 is at position 7\n====updated 0th node to 99====\n99  1  2  3  4  5  6  7  8  9  \n====delete 10th node====\nIndex out of range!\n====delete 0th node====\n1  2  3  4  5  6  7  8  9  \n====insert 100 into position 8====\n1  2  3  4  5  6  7  8  9  100  \n====clear chain table====\nEmpty chain table!\n"
     ]
    }
   ],
   "source": [
    "linked_list_1 = LinkedList()\n",
    "for i in range(10):\n",
    "    linked_list_1.append(i)\n",
    "print(\"====append====\")\n",
    "print(linked_list_1)\n",
    "print(\"====where is 5====\")\n",
    "print(\"5 is at position\", linked_list_1.get_index(5))\n",
    "print(\"====what is at position 7====\")\n",
    "print(\"%d is at position 7\" % linked_list_1.get_data(7))\n",
    "print(\"====updated 0th node to 99====\")\n",
    "linked_list_1.update(0, 99)\n",
    "print(linked_list_1)\n",
    "print(\"====delete 10th node====\")\n",
    "linked_list_1.delete_at_index(10)\n",
    "print(\"====delete 0th node====\")\n",
    "linked_list_1.delete_at_index(0)\n",
    "print(linked_list_1)\n",
    "print(\"====insert 100 into position 8====\")\n",
    "linked_list_1.insert_at_index(8, 100)\n",
    "print(linked_list_1)\n",
    "print(\"====clear chain table====\")\n",
    "linked_list_1.clear()\n",
    "print(linked_list_1)\n",
    "\n",
    "\n"
   ]
  },
  {
   "cell_type": "markdown",
   "metadata": {
    "collapsed": false
   },
   "source": [
    "## 从尾到头打印链表\n",
    "\n",
    "输入一个链表的头节点，从尾到头反过来打印出每个节点的值。\n",
    "\n",
    "注意：可以询问面试官，能否改变链表的结构。如可以的话，把链表中节点的指针反转过来，改变链表的方向，然后就可以从头到尾输出了。 但是一般来说打印是一个只读操作，不修改内容。\n",
    "\n",
    "<b>思路1：这是典型的“后进先出”，可以用栈实现这种顺序。</b>每经过一个节点的时候，把该节点放到一个栈中。当遍历完整个链表之后，再从栈顶开始逐个输出节点的值。"
   ]
  },
  {
   "cell_type": "code",
   "execution_count": 14,
   "metadata": {},
   "outputs": [],
   "source": [
    "class Solution:\n",
    "    def print_list_from_tail_to_head(self, head_node):\n",
    "        if head_node is None:\n",
    "            print(\"The head node points to nothing!\")\n",
    "            return \n",
    "        if not isinstance(head_node, Node):\n",
    "            print(\"Not a node!!\")\n",
    "            return\n",
    "        chain_list = []\n",
    "        curr_node = head_node\n",
    "        while curr_node:\n",
    "            chain_list.append(curr_node)\n",
    "            curr_node = curr_node.next\n",
    "        for i in range(len(chain_list)):\n",
    "            print(chain_list.pop())"
   ]
  },
  {
   "cell_type": "code",
   "execution_count": 15,
   "metadata": {},
   "outputs": [
    {
     "name": "stdout",
     "output_type": "stream",
     "text": [
      "A linked list has many nodes:\n19\n18\n17\n16\n15\n14\n13\n12\n11\n10\nA linked list has only one node:\n100\nAn empty linked list:\nThe head node points to nothing!\n"
     ]
    }
   ],
   "source": [
    "# normal case (many nodes)\n",
    "linked_list_2 = LinkedList()\n",
    "for i in range(10, 20):\n",
    "    linked_list_2.append(i)\n",
    "s = Solution()\n",
    "print(\"A linked list has many nodes:\")\n",
    "s.print_list_from_tail_to_head(linked_list_2.head)\n",
    "\n",
    "print(\"A linked list has only one node:\")\n",
    "linked_list_3 = LinkedList()\n",
    "linked_list_3.append(100)\n",
    "s.print_list_from_tail_to_head(linked_list_3.head)\n",
    "\n",
    "print(\"An empty linked list:\")\n",
    "linked_list_4 = LinkedList()\n",
    "s.print_list_from_tail_to_head(linked_list_4.head)"
   ]
  },
  {
   "cell_type": "markdown",
   "metadata": {},
   "source": [
    "<b>思路2：用递归来实现。因为递归在本质上就是一个栈结构。</b>要实现反过来输出链表，我们每访问到一个节点的时候，先递归输出它后面的节点，再输出该节点自身，这样链表的结果就反过来了。但是有一个问题，当链表非常长的时候，就会导致函数调用的层级很深，从而有可能导致函数调用栈溢出。因此用栈基于循环实现的代码鲁棒性要好一些。"
   ]
  },
  {
   "cell_type": "code",
   "execution_count": 17,
   "metadata": {},
   "outputs": [
    {
     "name": "stdout",
     "output_type": "stream",
     "text": [
      "Recursive print:\n29\n28\n27\n26\n25\n24\n23\n22\n21\n20\n"
     ]
    }
   ],
   "source": [
    "class RecursiveSolution:\n",
    "    def print_list_from_tail_to_head_recursively(self, head_node):\n",
    "        if head_node is None:\n",
    "            return\n",
    "        else:\n",
    "            self.print_list_from_tail_to_head_recursively(head_node.next)\n",
    "        print(head_node.data)\n",
    "        \n",
    "\n",
    "print(\"Recursive print:\")\n",
    "linked_list_5 = LinkedList()\n",
    "for i in range(20, 30):\n",
    "    linked_list_5.append(i)\n",
    "rs = RecursiveSolution()\n",
    "rs.print_list_from_tail_to_head_recursively(linked_list_5.head)"
   ]
  },
  {
   "cell_type": "code",
   "execution_count": null,
   "metadata": {},
   "outputs": [],
   "source": []
  }
 ],
 "metadata": {
  "kernelspec": {
   "display_name": "Python 2",
   "language": "python",
   "name": "python2"
  },
  "language_info": {
   "codemirror_mode": {
    "name": "ipython",
    "version": 2
   },
   "file_extension": ".py",
   "mimetype": "text/x-python",
   "name": "python",
   "nbconvert_exporter": "python",
   "pygments_lexer": "ipython2",
   "version": "2.7.6"
  }
 },
 "nbformat": 4,
 "nbformat_minor": 0
}
