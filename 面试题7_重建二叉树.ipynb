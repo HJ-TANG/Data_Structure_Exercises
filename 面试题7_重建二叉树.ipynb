{
 "cells": [
  {
   "cell_type": "markdown",
   "metadata": {
    "collapsed": true
   },
   "source": [
    "## 1. Python二叉树基础\n",
    "\n",
    "### 1.1 Node数据结构"
   ]
  },
  {
   "cell_type": "code",
   "execution_count": 1,
   "metadata": {},
   "outputs": [],
   "source": [
    "class Node(object):\n",
    "    def __init__(self, data):\n",
    "        self.data = data\n",
    "        self.left = None\n",
    "        self.right = None\n"
   ]
  },
  {
   "cell_type": "markdown",
   "metadata": {},
   "source": [
    "### 1.2 Binary Tree二叉树结构\n",
    "\n",
    "### 1.3 树的遍历\n",
    "\n",
    "树的遍历分为深度优先遍历和广度优先遍历，前者有前序、中序、后序，后者有层次遍历。一般来说，深度优先用递归，广度优先用队列。\n",
    "\n",
    "七种常见遍历方式：递归实现前序、中序、后序遍历，循环实现前序、中序、后序遍历，以及层序遍历。"
   ]
  },
  {
   "cell_type": "code",
   "execution_count": 2,
   "metadata": {
    "collapsed": false
   },
   "outputs": [],
   "source": [
    "class BiTree(object):\n",
    "    def __init__(self):\n",
    "        self._root = None\n",
    "        self._my_list = []\n",
    "\n",
    "    def get_root(self):\n",
    "        return self._root\n",
    "\n",
    "    def get_nodes(self):\n",
    "        return self._my_list\n",
    "\n",
    "    def insert(self, *eles):\n",
    "        \"\"\"\n",
    "        Insert nodes to a Binary Search Tree.\n",
    "        :param eles: numerical elements that to be inserted\n",
    "        \"\"\"\n",
    "        if eles is None:\n",
    "            return\n",
    "        \n",
    "        if self._root is None:\n",
    "            root_node = Node(eles[0])\n",
    "            self._root = root_node\n",
    "            self._my_list.append(root_node)\n",
    "            eles = eles[1:]\n",
    "        for e in eles:\n",
    "            root_node = self._root\n",
    "            node = Node(e)\n",
    "            while True:\n",
    "                if node.data < root_node.data:  \n",
    "                    # Move to the left\n",
    "                    if root_node.left is None:\n",
    "                        root_node.left = node\n",
    "                        self._my_list.append(node)\n",
    "                        break  # don't forget to break after finding a place\n",
    "                    else:\n",
    "                        root_node = root_node.left\n",
    "                else:\n",
    "                    # Move to the right\n",
    "                    if root_node.right is None:\n",
    "                        root_node.right = node\n",
    "                        self._my_list.append(node)\n",
    "                        break  # don't forget to break after finding a place\n",
    "                    else:\n",
    "                        root_node = root_node.right\n",
    "\n",
    "    def front_traversal_recursive(self, root_node):\n",
    "        if root_node is None:\n",
    "            return\n",
    "        print(root_node.data, end=' ')\n",
    "        self.front_traversal_recursive(root_node.left)\n",
    "        self.front_traversal_recursive(root_node.right)\n",
    "\n",
    "    def front_traversal_loop(self, root_node):\n",
    "        if root_node is None:\n",
    "            return\n",
    "        my_stack = []\n",
    "        node = root_node\n",
    "        while node or my_stack:\n",
    "            while node:  # search the left child tree from the root node\n",
    "                print(node.data, end=' ')\n",
    "                my_stack.append(node)\n",
    "                node = node.left  \n",
    "            # when the last node has no left child, jump out of the while loop\n",
    "            node = my_stack.pop()\n",
    "            node = node.right  # begin to search the right child\n",
    "\n",
    "    def middle_traversal_recursive(self, root_node):\n",
    "        if root_node is None:\n",
    "            return\n",
    "        self.middle_traversal_recursive(root_node.left)\n",
    "        print(root_node.data, end=' ')\n",
    "        self.middle_traversal_recursive(root_node.right)\n",
    "\n",
    "    def middle_traversal_loop(self, root_node):\n",
    "        if root_node is None:\n",
    "            return \n",
    "        my_stack = []\n",
    "        node = root_node\n",
    "        while node or my_stack:\n",
    "            while node:\n",
    "                my_stack.append(node)\n",
    "                node = node.left\n",
    "            node = my_stack.pop()\n",
    "            print(node.data, end=' ')\n",
    "            node = node.right\n",
    "\n",
    "    def last_traversal_recursive(self, root_node):\n",
    "        if root_node is None:\n",
    "            return \n",
    "        self.last_traversal_recursive(root_node.left)\n",
    "        self.last_traversal_recursive(root_node.right)\n",
    "        print(root_node.data, end=' ')\n",
    " \n",
    "    def last_traversal_loop(self, root_node):\n",
    "        if root_node is None:\n",
    "            return \n",
    "        node = root_node\n",
    "        my_stack1 = []\n",
    "        my_stack2 = []\n",
    "        my_stack1.append(node)\n",
    "        while my_stack1:          # 这个while循环的功能是找出后序遍历的逆序，存在myStack2里面\n",
    "            node = my_stack1.pop()\n",
    "            if node.left:\n",
    "                my_stack1.append(node.left)\n",
    "            if node.right:\n",
    "                my_stack1.append(node.right)\n",
    "            my_stack2.append(node)\n",
    "        while my_stack2:                         # 将myStack2中的元素出栈，即为后序遍历次序\n",
    "            print(my_stack2.pop().data, end=' ')\n",
    "\n",
    "    def level_queue(self, root_node):\n",
    "        \"\"\"\n",
    "        Implements level traversal using queue\n",
    "        \"\"\"\n",
    "        if root_node is None: \n",
    "            return \n",
    "        my_queue = []\n",
    "        node = root_node \n",
    "        my_queue.append(node) \n",
    "        while my_queue: \n",
    "            node = my_queue.pop(0) \n",
    "            print(node.data, end=' ')\n",
    "            if node.left is not None: \n",
    "                my_queue.append(node.left) \n",
    "            if node.right is not None: \n",
    "                my_queue.append(node.right)\n"
   ]
  },
  {
   "cell_type": "code",
   "execution_count": 3,
   "metadata": {
    "collapsed": false
   },
   "outputs": [
    {
     "name": "stdout",
     "output_type": "stream",
     "text": [
      "Front traversal recursive:\n43 23 2 12 8 54 45 \nFront traversal loop:\n43 23 2 12 8 54 45 \nMiddle traversal recursive:\n2 8 12 23 43 45 54 \nMiddle traversal loop:\n2 8 12 23 43 45 54 \nLast traversal recursive:\n8 12 2 23 45 54 43 \nLast traversal loop:\n8 12 2 23 45 54 43 \nLevel traversal:\n43 23 54 2 45 12 8 "
     ]
    }
   ],
   "source": [
    "l = [43, 54, 23, 2, 45, 12, 8]\n",
    "tree = BiTree()\n",
    "tree.insert(*l)\n",
    "# print(tree)\n",
    "# print(tree.get_root())\n",
    "# print(tree.get_nodes())\n",
    "# print(tree.get_root().data)\n",
    "print(\"Front traversal recursive:\")\n",
    "tree.front_traversal_recursive(tree.get_root())\n",
    "print(\"\\nFront traversal loop:\")\n",
    "tree.front_traversal_loop(tree.get_root())\n",
    "print(\"\\nMiddle traversal recursive:\")\n",
    "tree.middle_traversal_recursive(tree.get_root())\n",
    "print(\"\\nMiddle traversal loop:\")\n",
    "tree.middle_traversal_loop(tree.get_root())\n",
    "print(\"\\nLast traversal recursive:\")\n",
    "tree.last_traversal_recursive(tree.get_root())\n",
    "print(\"\\nLast traversal loop:\")\n",
    "tree.last_traversal_loop(tree.get_root())\n",
    "print(\"\\nLevel traversal:\")\n",
    "tree.level_queue(tree.get_root())\n"
   ]
  },
  {
   "cell_type": "markdown",
   "metadata": {},
   "source": [
    "## 2. 面试题7：重建二叉树\n",
    "\n",
    "题目：输入某二叉树的前序遍历和中序遍历的结果，请重建该二叉树。假设输入的前序遍历和中序遍历的结果中都不含重复的数字。例如输入前序遍历序列{1,2,4,7,3,5,6,8}和中序遍历序列{4,7,2,1,5,3,8,6}，则重建二叉树并输出其头节点。\n",
    "\n",
    "思路：在二叉树的前序遍历序列中，第一个数字总是树的根节点的值。在中序遍历序列中，根节点的值在序列的中间，左子树的值位于根节点值的左边，右子树的节点的值位于根节点的值的右边。扫描中序遍历序列，确定根节点的值的位置。左边就是左子树节点的值，右边就是右子树节点的值。然后用递归方法确定左右子树的子序列。"
   ]
  },
  {
   "cell_type": "code",
   "execution_count": 10,
   "metadata": {},
   "outputs": [],
   "source": [
    "class Solution:\n",
    "    def rebuild(self, front_seq, last_seq):\n",
    "        if not front_seq or not last_seq:\n",
    "            return None\n",
    "        length = len(front_seq)\n",
    "        if length == 1:\n",
    "            return Node(front_seq[0])\n",
    "        root_value = front_seq[0]\n",
    "        root_node = Node(root_value)\n",
    "        root_index = last_seq.index(root_value)\n",
    "        root_node.left = self.rebuild(front_seq[1:1+root_index], last_seq[0:root_index])\n",
    "        root_node.right = self.rebuild(front_seq[1+root_index:], last_seq[1+root_index:])\n",
    "        return root_node"
   ]
  },
  {
   "cell_type": "code",
   "execution_count": 15,
   "metadata": {},
   "outputs": [
    {
     "name": "stdout",
     "output_type": "stream",
     "text": [
      "Front:\n1 2 4 7 3 5 6 8 \nMiddle\n4 7 2 1 5 3 8 6 "
     ]
    }
   ],
   "source": [
    "s = Solution()\n",
    "new_head = s.rebuild([1, 2, 4, 7, 3, 5, 6, 8], [4, 7, 2, 1, 5, 3, 8, 6])\n",
    "tree_2 = BiTree()\n",
    "print(\"Front:\")\n",
    "tree_2.front_traversal_recursive(new_head)\n",
    "print(\"\\nMiddle\")\n",
    "tree_2.middle_traversal_recursive(new_head)"
   ]
  },
  {
   "cell_type": "code",
   "execution_count": 13,
   "metadata": {},
   "outputs": [],
   "source": [
    ""
   ]
  },
  {
   "cell_type": "code",
   "execution_count": null,
   "metadata": {},
   "outputs": [],
   "source": []
  }
 ],
 "metadata": {
  "kernelspec": {
   "display_name": "Python 2",
   "language": "python",
   "name": "python2"
  },
  "language_info": {
   "codemirror_mode": {
    "name": "ipython",
    "version": 2
   },
   "file_extension": ".py",
   "mimetype": "text/x-python",
   "name": "python",
   "nbconvert_exporter": "python",
   "pygments_lexer": "ipython2",
   "version": "2.7.6"
  }
 },
 "nbformat": 4,
 "nbformat_minor": 0
}
