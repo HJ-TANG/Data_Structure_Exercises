{
 "cells": [
  {
   "cell_type": "markdown",
   "metadata": {
    "collapsed": true
   },
   "source": [
    "## 面试题8：二叉树的下一个节点\n",
    "\n",
    "题目：给定一颗二叉树和其中一个节点，如何找出中序遍历序列的下一个节点？树中的节点除了有两个分别指向左、右子节点的指针，还有一个指向父节点的指针。\n",
    "\n",
    "思路：分情况讨论。\n",
    "\n",
    "1. 如果一个节点有右子树，那么它的下一个节点就是它的右子树的最左子节点。\n",
    "\n",
    "2. 如果一个节点是它父节点的左子节点，那么它的下一个节点就是它的父节点。\n",
    "\n",
    "3. 如果一个节点没有右子树，而且是它父节点的右子节点。可以沿着父节点的指针向上遍历，直到找到一个是它的父节点的左子树的节点。如果这样的节点存在，那么这个节点的父节点就是我们要找的节点。"
   ]
  },
  {
   "cell_type": "code",
   "execution_count": 7,
   "metadata": {},
   "outputs": [],
   "source": [
    "class TreeLinkNode:\n",
    "    def __init__(self, x):\n",
    "        self.val = x\n",
    "        self.left = None\n",
    "        self.right = None\n",
    "        self.parent = None"
   ]
  },
  {
   "cell_type": "code",
   "execution_count": 8,
   "metadata": {},
   "outputs": [],
   "source": [
    "class Solution:\n",
    "    def get_next(self, pNode):\n",
    "        if not pNode:\n",
    "            return\n",
    "        # 1. 如果一个节点有右子树，那么它的下一个节点就是它的右子树的最左子节点\n",
    "        elif pNode.right:\n",
    "            node = pNode.right\n",
    "            while node.left:\n",
    "                node = node.left\n",
    "            return node\n",
    "\n",
    "        # 3. 如果一个节点没有右子树，而且是它父节点的右子节点\n",
    "        elif pNode.parent and pNode is pNode.parent.right:\n",
    "            pNode = pNode.parent\n",
    "            while pNode.parent:\n",
    "                if pNode is pNode.parent.left:\n",
    "                    return pNode.parent\n",
    "                else:\n",
    "                    pNode = pNode.parent\n",
    "            return None\n",
    "        \n",
    "        # 2. 如果一个节点是它父节点的左子节点，那么它的下一个节点就是它的父节点\n",
    "        elif pNode.parent and pNode is pNode.parent.left:\n",
    "            return pNode.parent\n",
    "\n",
    "        else:\n",
    "            return None\n",
    "\n"
   ]
  },
  {
   "cell_type": "code",
   "execution_count": null,
   "metadata": {},
   "outputs": [],
   "source": []
  }
 ],
 "metadata": {
  "kernelspec": {
   "display_name": "Python 2",
   "language": "python",
   "name": "python2"
  },
  "language_info": {
   "codemirror_mode": {
    "name": "ipython",
    "version": 2
   },
   "file_extension": ".py",
   "mimetype": "text/x-python",
   "name": "python",
   "nbconvert_exporter": "python",
   "pygments_lexer": "ipython2",
   "version": "2.7.6"
  }
 },
 "nbformat": 4,
 "nbformat_minor": 0
}
